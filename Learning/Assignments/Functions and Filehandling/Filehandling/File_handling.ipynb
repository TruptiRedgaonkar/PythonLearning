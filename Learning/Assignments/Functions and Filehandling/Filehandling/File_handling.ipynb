{
  "nbformat": 4,
  "nbformat_minor": 0,
  "metadata": {
    "colab": {
      "name": "File handling.ipynb",
      "provenance": [],
      "collapsed_sections": [],
      "authorship_tag": "ABX9TyNx4ewHItZTjMEz3Vu0ovvl",
      "include_colab_link": true
    },
    "kernelspec": {
      "name": "python3",
      "display_name": "Python 3"
    }
  },
  "cells": [
    {
      "cell_type": "markdown",
      "metadata": {
        "id": "view-in-github",
        "colab_type": "text"
      },
      "source": [
        "<a href=\"https://colab.research.google.com/github/TruptiRedgaonkar/pythonrepo/blob/main/DataFolkz/Assignments/Filehandling/File_handling.ipynb\" target=\"_parent\"><img src=\"https://colab.research.google.com/assets/colab-badge.svg\" alt=\"Open In Colab\"/></a>"
      ]
    },
    {
      "cell_type": "markdown",
      "metadata": {
        "id": "zMkTGAKCntBs"
      },
      "source": [
        "Note : Use a sample file to answer the below questions.\r\n",
        "1. Write a python code to open a file for appending data."
      ]
    },
    {
      "cell_type": "code",
      "metadata": {
        "colab": {
          "base_uri": "https://localhost:8080/"
        },
        "id": "rVQhQPqinmEz",
        "outputId": "727f8450-3b2e-47b0-9a21-235844bc5659"
      },
      "source": [
        "fptr = open(\"test3.txt\", \"a\")\r\n",
        "fptr.write(\"Python is a my fav  language\")\r\n",
        "print(\"Name of the file: \", fptr.name)\r\n",
        "print(\"Closed or not : \", fptr.closed)\r\n",
        "print(\"Opening mode : \", fptr.mode)\r\n",
        "fptr.close()"
      ],
      "execution_count": 7,
      "outputs": [
        {
          "output_type": "stream",
          "text": [
            "Name of the file:  test3.txt\n",
            "Closed or not :  False\n",
            "Opening mode :  a\n"
          ],
          "name": "stdout"
        }
      ]
    },
    {
      "cell_type": "markdown",
      "metadata": {
        "id": "_FsODbyTp6U6"
      },
      "source": [
        "2. How would you read two characters from a file ."
      ]
    },
    {
      "cell_type": "code",
      "metadata": {
        "colab": {
          "base_uri": "https://localhost:8080/"
        },
        "id": "4cT-YZBuqPW5",
        "outputId": "e6302ad9-d79c-4f7d-b6c4-c5a039ffa208"
      },
      "source": [
        "fptr = open(\"test.txt\", \"r+\") #can use w+ also   \r\n",
        "\r\n",
        "fptr.write(\"first:I am writing.\\nthen:I will read\")\r\n",
        "\r\n",
        "fptr.seek(0) # reset the ptr to start of file\r\n",
        "\r\n",
        "str = fptr.read(2)\r\n",
        "\r\n",
        "print(\"Read String is : \", str)\r\n",
        "\r\n",
        "fptr.close()"
      ],
      "execution_count": 8,
      "outputs": [
        {
          "output_type": "stream",
          "text": [
            "Read String is :  fi\n"
          ],
          "name": "stdout"
        }
      ]
    },
    {
      "cell_type": "markdown",
      "metadata": {
        "id": "d0IY-49kql1u"
      },
      "source": [
        "3. Which command is used to read the entire content of\r\n",
        "the file as a string."
      ]
    },
    {
      "cell_type": "code",
      "metadata": {
        "colab": {
          "base_uri": "https://localhost:8080/"
        },
        "id": "aDB8PvhfrBgd",
        "outputId": "f92e8002-407a-4315-ba38-791d40c5b58e"
      },
      "source": [
        "\r\n",
        "#Opens a file\r\n",
        "fptr = open(\"test.txt\", \"r\")\r\n",
        "##read command is used to read the entire content of the file as a string.\r\n",
        "str = fptr.read()\r\n",
        "print(\"Read String is :\\n\", str)\r\n",
        "fptr.close()\r\n"
      ],
      "execution_count": 12,
      "outputs": [
        {
          "output_type": "stream",
          "text": [
            "Read String is :\n",
            " first:I am writing.\n",
            "then:I will read\n"
          ],
          "name": "stdout"
        }
      ]
    },
    {
      "cell_type": "markdown",
      "metadata": {
        "id": "Bh8g67sKrYeX"
      },
      "source": [
        "4. How to read the next line of the file ."
      ]
    },
    {
      "cell_type": "code",
      "metadata": {
        "colab": {
          "base_uri": "https://localhost:8080/"
        },
        "id": "hy055VBzrcA_",
        "outputId": "aeb9f75c-7e75-4edf-fe3e-c253534484bc"
      },
      "source": [
        "#Opens a file\r\n",
        "fptr = open(\"test.txt\", \"r\")\r\n",
        "str = fptr.readline()\r\n",
        "print(\"Read String is :\")\r\n",
        "print( str)\r\n",
        "str = fptr.readline()\r\n",
        "print( str)\r\n",
        "fptr.close()"
      ],
      "execution_count": 16,
      "outputs": [
        {
          "output_type": "stream",
          "text": [
            "Read String is :\n",
            "first:I am writing.\n",
            "\n",
            "then:I will read\n"
          ],
          "name": "stdout"
        }
      ]
    },
    {
      "cell_type": "markdown",
      "metadata": {
        "id": "koG6MkMNr4Po"
      },
      "source": [
        "5. Which command is used to open a file for reading in\r\n",
        "binary format only?"
      ]
    },
    {
      "cell_type": "code",
      "metadata": {
        "colab": {
          "base_uri": "https://localhost:8080/"
        },
        "id": "ia3QweMkr7d1",
        "outputId": "2f1d5206-6bd0-4367-994d-0d6bb32d912a"
      },
      "source": [
        "#Opens a file\r\n",
        "fptr = open(\"test.txt\", \"rb\")\r\n",
        "all_lines = fptr.readlines()\r\n",
        "print(all_lines)\r\n",
        "\r\n",
        "print(\"----------------------\")\r\n",
        "\r\n",
        "## if you don't like the default list type o/p of the readlines() then use a for loop \r\n",
        "for l in all_lines:\r\n",
        "    print(l)\r\n",
        "\r\n",
        "\r\n",
        "fptr.close()"
      ],
      "execution_count": 22,
      "outputs": [
        {
          "output_type": "stream",
          "text": [
            "[b'first:I am writing.\\n', b'then:I will read']\n",
            "----------------------\n",
            "b'first:I am writing.\\n'\n",
            "b'then:I will read'\n"
          ],
          "name": "stdout"
        }
      ]
    }
  ]
}