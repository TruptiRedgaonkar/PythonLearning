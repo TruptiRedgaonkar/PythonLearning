{
  "nbformat": 4,
  "nbformat_minor": 0,
  "metadata": {
    "colab": {
      "name": "Functions.ipynb",
      "provenance": [],
      "collapsed_sections": []
    },
    "kernelspec": {
      "name": "python3",
      "display_name": "Python 3"
    }
  },
  "cells": [
    {
      "cell_type": "markdown",
      "metadata": {
        "id": "DQ3BsxlVKTwM"
      },
      "source": [
        "1. Write a Python function that accepts a string and\r\n",
        "calculates the number of uppercase letters and lowercase\r\n",
        "letters."
      ]
    },
    {
      "cell_type": "code",
      "metadata": {
        "colab": {
          "base_uri": "https://localhost:8080/"
        },
        "id": "hHd3rBuCKRYt",
        "outputId": "636b3425-1d05-4e8f-a74e-3e45a2466db3"
      },
      "source": [
        "def stringCalulaterULletter(stringValue):\r\n",
        "    disctCount={\"UPPER_CASE\":0, \"LOWER_CASE\":0}\r\n",
        "    for letter in stringValue:\r\n",
        "        if letter.isupper():\r\n",
        "           disctCount[\"UPPER_CASE\"]+=1\r\n",
        "        elif letter.islower():\r\n",
        "           disctCount[\"LOWER_CASE\"]+=1\r\n",
        "        else:\r\n",
        "           pass\r\n",
        "    print (\"Original String : \", s)\r\n",
        "    print (\"No. of Upper case characters : \", disctCount[\"UPPER_CASE\"])\r\n",
        "    print (\"No. of Lower case Characters : \", disctCount[\"LOWER_CASE\"])\r\n",
        "\r\n",
        "inputString = input(\"Please enter string to calcute number of uppercase and lowercase letters: \")\r\n",
        "string_test(inputString)"
      ],
      "execution_count": 4,
      "outputs": [
        {
          "output_type": "stream",
          "text": [
            "Please enter string to calcute number of uppercase and lowercase letters: I am Trupti Redgaonkar team Lead\n",
            "Original String :  I am Trupti Redgaonkar team Lead\n",
            "No. of Upper case characters :  4\n",
            "No. of Lower case Characters :  23\n"
          ],
          "name": "stdout"
        }
      ]
    },
    {
      "cell_type": "code",
      "metadata": {
        "colab": {
          "base_uri": "https://localhost:8080/"
        },
        "id": "cOLD1_wLSJOe",
        "outputId": "dd9b1b62-4ba0-432d-c828-626d7d9ef718"
      },
      "source": [
        "def up_low(s):\r\n",
        "    disctCount=dict()\r\n",
        "    up = filter(str.isupper, s)\r\n",
        "    low = filter(str.islower, s)\r\n",
        "    disctCount['UPPER_CASE'] = len(list(up))\r\n",
        "    disctCount[\"LOWER_CASE\"] = len(list(low))\r\n",
        "    return disctCount\r\n",
        "\r\n",
        "inputString = input(\"Please enter string to calcute number of uppercase and lowercase letters: \")  \r\n",
        "outputDict  =dict( up_low(inputString))\r\n",
        "\r\n",
        "print (\"No. of Upper case characters : \", outputDict[\"UPPER_CASE\"])\r\n",
        "print (\"No. of Lower case Characters : \", outputDict[\"LOWER_CASE\"])"
      ],
      "execution_count": 34,
      "outputs": [
        {
          "output_type": "stream",
          "text": [
            "Please enter string to calcute number of uppercase and lowercase letters: hhhyyyYYYYYYiii\n",
            "No. of Upper case characters :  6\n",
            "No. of Lower case Characters :  9\n"
          ],
          "name": "stdout"
        }
      ]
    },
    {
      "cell_type": "code",
      "metadata": {
        "colab": {
          "base_uri": "https://localhost:8080/"
        },
        "id": "94LbCEwIWg9i",
        "outputId": "bbccf7d7-8d86-40cf-a109-dad7a88300ae"
      },
      "source": [
        "upper = lambda  s: filter(str.isupper, s)\r\n",
        "lower = lambda  s: filter(str.islower, s)\r\n",
        "\r\n",
        "inputString = input(\"Please enter string to calcute number of uppercase and lowercase letters: \")  \r\n",
        "print (\"No. of Upper case characters : \", len(list(upper(inputString))))\r\n",
        "print (\"No. of Lower case Characters : \", len(list(lower(inputString))))"
      ],
      "execution_count": 46,
      "outputs": [
        {
          "output_type": "stream",
          "text": [
            "Please enter string to calcute number of uppercase and lowercase letters: UU\n",
            "No. of Upper case characters :  2\n",
            "No. of Lower case Characters :  0\n"
          ],
          "name": "stdout"
        }
      ]
    },
    {
      "cell_type": "markdown",
      "metadata": {
        "id": "TyHam638LnD9"
      },
      "source": [
        "2. Write a Python function to create and print a list where\r\n",
        "the values are squares of numbers between 1 and 30 (both\r\n",
        "included)."
      ]
    },
    {
      "cell_type": "code",
      "metadata": {
        "colab": {
          "base_uri": "https://localhost:8080/"
        },
        "id": "x6YFZX97LohJ",
        "outputId": "1fb756ac-9c21-4ec7-8db0-5554ec9d17d2"
      },
      "source": [
        "def CalculateNumbers():\r\n",
        "      listSquarNumber = []\r\n",
        "      for i in range(1 ,31):\r\n",
        "         listSquarNumber.append(i**2)\r\n",
        "      print(listSquarNumber)\r\n",
        "      \r\n",
        "CalculateNumbers()"
      ],
      "execution_count": 7,
      "outputs": [
        {
          "output_type": "stream",
          "text": [
            "[1, 4, 9, 16, 25, 36, 49, 64, 81, 100, 121, 144, 169, 196, 225, 256, 289, 324, 361, 400, 441, 484, 529, 576, 625, 676, 729, 784, 841, 900]\n"
          ],
          "name": "stdout"
        }
      ]
    },
    {
      "cell_type": "code",
      "metadata": {
        "colab": {
          "base_uri": "https://localhost:8080/"
        },
        "id": "Stw1LGpGYjqP",
        "outputId": "a0223521-865f-40dc-81e8-5e56d690dec6"
      },
      "source": [
        "squareNumber = lambda num: num**2 \r\n",
        "\r\n",
        "listSquarNumber = []\r\n",
        "for i in range(1 ,31):\r\n",
        "   listSquarNumber.append(squareNumber(i))\r\n",
        "   \r\n",
        "print(listSquarNumber)"
      ],
      "execution_count": 48,
      "outputs": [
        {
          "output_type": "stream",
          "text": [
            "[1, 4, 9, 16, 25, 36, 49, 64, 81, 100, 121, 144, 169, 196, 225, 256, 289, 324, 361, 400, 441, 484, 529, 576, 625, 676, 729, 784, 841, 900]\n"
          ],
          "name": "stdout"
        }
      ]
    },
    {
      "cell_type": "markdown",
      "metadata": {
        "id": "pFrdLqijMheZ"
      },
      "source": [
        "3.Create a function that counts the number of elements\r\n",
        "within a list that are greater than 30."
      ]
    },
    {
      "cell_type": "code",
      "metadata": {
        "colab": {
          "base_uri": "https://localhost:8080/"
        },
        "id": "e61YN8UcMgx1",
        "outputId": "961a56e0-1fdd-4b8b-b111-cd5417c2f14e"
      },
      "source": [
        "def countNumbers(test_list, value):\r\n",
        "   count =0\r\n",
        "   for i in test_list:\r\n",
        "     if i>value: \r\n",
        "       count += 1\r\n",
        "   return count\r\n",
        "\r\n",
        "test_list = [1, 7, 55, 6, 39, 8] \r\n",
        "  \r\n",
        "\r\n",
        "value = 30\r\n",
        "  \r\n",
        "print (f\"The list : { test_list}\") \r\n",
        "  \r\n",
        "# printing the intersection  \r\n",
        "print (f\"The numbers greater than 30 :  { countNumbers(test_list,value)}\") "
      ],
      "execution_count": 13,
      "outputs": [
        {
          "output_type": "stream",
          "text": [
            "The list : [1, 7, 55, 6, 39, 8]\n",
            "The numbers greater than 30 :  2\n"
          ],
          "name": "stdout"
        }
      ]
    },
    {
      "cell_type": "code",
      "metadata": {
        "colab": {
          "base_uri": "https://localhost:8080/"
        },
        "id": "7D57GgjJQLSD",
        "outputId": "a79bb3f1-9335-4880-97b2-bd8757c377fa"
      },
      "source": [
        "def getNumbers(test_list, value):\r\n",
        "   list_num = []\r\n",
        "   for i in test_list:\r\n",
        "     if i>value: \r\n",
        "       list_num.append(i)\r\n",
        "   return list_num\r\n",
        "\r\n",
        "test_list = [1, 7, 55, 6, 39, 8] \r\n",
        " \r\n",
        "value = 30\r\n",
        " \r\n",
        "print (f\"The list : { test_list}\") \r\n",
        "  \r\n",
        "outputNum = getNumbers(test_list,value)\r\n",
        "  \r\n",
        "print (f\"The numbers greater than 30 :  { len(outputNum)}\") "
      ],
      "execution_count": 14,
      "outputs": [
        {
          "output_type": "stream",
          "text": [
            "The list : [1, 7, 55, 6, 39, 8]\n",
            "The numbers greater than 30 :  2\n"
          ],
          "name": "stdout"
        }
      ]
    },
    {
      "cell_type": "code",
      "metadata": {
        "colab": {
          "base_uri": "https://localhost:8080/"
        },
        "id": "4YEZEvwdQlQh",
        "outputId": "7fd4cd80-056c-41b5-a9e7-1149fb5535bd"
      },
      "source": [
        "test_list = [1, 7, 55, 6, 39, 8] \r\n",
        "value = 30\r\n",
        "len([1 for i in test_list if i > value])"
      ],
      "execution_count": 15,
      "outputs": [
        {
          "output_type": "execute_result",
          "data": {
            "text/plain": [
              "2"
            ]
          },
          "metadata": {
            "tags": []
          },
          "execution_count": 15
        }
      ]
    },
    {
      "cell_type": "markdown",
      "metadata": {
        "id": "dgbGkLmOUn45"
      },
      "source": [
        "4. Write a Python function that takes a list and returns a\r\n",
        "new list with unique elements of the first list.\r\n"
      ]
    },
    {
      "cell_type": "code",
      "metadata": {
        "colab": {
          "base_uri": "https://localhost:8080/"
        },
        "id": "vA7Q9n83UmwL",
        "outputId": "92bf6682-6048-4113-b472-ff779a0e775a"
      },
      "source": [
        "def unique (list):\r\n",
        "    return set(list)\r\n",
        "    \r\n",
        "list_Number= [1,3,1,4,5,3,2,4,5]\r\n",
        "unique(list_Number)\r\n"
      ],
      "execution_count": 31,
      "outputs": [
        {
          "output_type": "execute_result",
          "data": {
            "text/plain": [
              "{1, 2, 3, 4, 5}"
            ]
          },
          "metadata": {
            "tags": []
          },
          "execution_count": 31
        }
      ]
    },
    {
      "cell_type": "code",
      "metadata": {
        "colab": {
          "base_uri": "https://localhost:8080/"
        },
        "id": "dBiSvYOhV6Y5",
        "outputId": "63209744-9739-41f2-b2f7-b8fa165ef2f2"
      },
      "source": [
        "uniqueList = lambda list: set(list)\r\n",
        "\r\n",
        "list_Number= [1,3,1,4,5,3,2,4,5]\r\n",
        "print(\"unique list : \", unique(list_Number))\r\n"
      ],
      "execution_count": 32,
      "outputs": [
        {
          "output_type": "stream",
          "text": [
            "Value of total :  {1, 2, 3, 4, 5}\n"
          ],
          "name": "stdout"
        }
      ]
    },
    {
      "cell_type": "markdown",
      "metadata": {
        "id": "p5Q6JcbybEoo"
      },
      "source": [
        "5. Create a function showEmployee() in such a way that it\r\n",
        "should accept employee name, and it’s salary and display\r\n",
        "both, and if the salary is missing in function call it should\r\n",
        "show it as 9000"
      ]
    },
    {
      "cell_type": "code",
      "metadata": {
        "colab": {
          "base_uri": "https://localhost:8080/"
        },
        "id": "RGOBiX2rbD-B",
        "outputId": "8a888d81-707a-464c-d9b1-5ff3c411bb01"
      },
      "source": [
        "def showEmployee(empname, sal = 9000):\r\n",
        "    print(f\"Employee name : {empname} and Salary {sal}\")\r\n",
        "\r\n",
        "showEmployee(\"radha\", 10000)\r\n",
        "showEmployee(\"Prasad\")\r\n"
      ],
      "execution_count": 56,
      "outputs": [
        {
          "output_type": "stream",
          "text": [
            "Employee name : radha and Salary 10000\n",
            "Employee name : Prasad and Salary 9000\n"
          ],
          "name": "stdout"
        }
      ]
    },
    {
      "cell_type": "markdown",
      "metadata": {
        "id": "Dk0kFxLBbs-f"
      },
      "source": [
        "6. Write a Python program to count the even, odd\r\n",
        "numbers in a given array of integers using Lambda."
      ]
    },
    {
      "cell_type": "code",
      "metadata": {
        "colab": {
          "base_uri": "https://localhost:8080/"
        },
        "id": "aFw15HwObv1I",
        "outputId": "c2adfb22-ed07-4137-c82c-e061727165d4"
      },
      "source": [
        "values = [1, 2, 3, 4, 5, 6, 7, 8, 9, 10]\r\n",
        "\r\n",
        "# Note: We convert the returned filter object to\r\n",
        "# a list data structure.\r\n",
        "even = list(filter(lambda x: x % 2 == 0, values))\r\n",
        "odd = list(filter(lambda x: x % 2 == 1, values))\r\n",
        "\r\n",
        "print(even)\r\n",
        "print(odd)"
      ],
      "execution_count": 57,
      "outputs": [
        {
          "output_type": "stream",
          "text": [
            "[2, 4, 6, 8, 10]\n",
            "[1, 3, 5, 7, 9]\n"
          ],
          "name": "stdout"
        }
      ]
    },
    {
      "cell_type": "markdown",
      "metadata": {
        "id": "qkmhPKUVceGe"
      },
      "source": [
        "7. Write a Python program to add two given lists using\r\n",
        "map and lambda"
      ]
    },
    {
      "cell_type": "code",
      "metadata": {
        "colab": {
          "base_uri": "https://localhost:8080/"
        },
        "id": "fzSzGOzFco8x",
        "outputId": "0e7e6889-44f6-419b-9193-a01a74766b82"
      },
      "source": [
        "values = [1, 2, 3, 4, 5, 6, 7, 8, 9, 10]\r\n",
        "\r\n",
        "addNum = list(map(lambda x: x +2, values))\r\n",
        "\r\n",
        "print(addNum)\r\n"
      ],
      "execution_count": 58,
      "outputs": [
        {
          "output_type": "stream",
          "text": [
            "[3, 4, 5, 6, 7, 8, 9, 10, 11, 12]\n"
          ],
          "name": "stdout"
        }
      ]
    },
    {
      "cell_type": "markdown",
      "metadata": {
        "id": "PAe7ICsgdB0_"
      },
      "source": [
        "8.Write a Python program to rearrange positive and\r\n",
        "negative numbers in a given array using Lambda and filter"
      ]
    },
    {
      "cell_type": "code",
      "metadata": {
        "colab": {
          "base_uri": "https://localhost:8080/"
        },
        "id": "_OVD0e4ieLOQ",
        "outputId": "00452ec8-22be-4cc3-d458-4b96842dc697"
      },
      "source": [
        " arr = [3, 4, -2, -10, 23, 20, -44, 1, -23]\r\n",
        "\r\n",
        "postnum = list(filter(lambda x: x >= 0 , arr))\r\n",
        "negNum = list(filter(lambda x: x <0, arr))\r\n",
        "\r\n",
        "postnum.sort()\r\n",
        "negNum.sort()\r\n",
        "\r\n",
        "new_arr = negNum+postnum\r\n",
        "# printing the resultant array\r\n",
        "print(new_arr)\r\n"
      ],
      "execution_count": 86,
      "outputs": [
        {
          "output_type": "stream",
          "text": [
            "[-44, -23, -10, -2, 1, 3, 4, 20, 23]\n"
          ],
          "name": "stdout"
        }
      ]
    },
    {
      "cell_type": "markdown",
      "metadata": {
        "id": "yeqo6UsoiuGu"
      },
      "source": [
        "9. Write a Python program to filter a list of integers using\r\n",
        "Lambda."
      ]
    },
    {
      "cell_type": "code",
      "metadata": {
        "colab": {
          "base_uri": "https://localhost:8080/"
        },
        "id": "ZLhUSXLsiz2_",
        "outputId": "5686cec7-4b47-49e5-8809-06933e9594f3"
      },
      "source": [
        " arr2 = [3, 4, -2, -10, 23, 20, 'hhhh', 1, -23.99]\r\n",
        "\r\n",
        " integerList = list(filter(lambda x: isinstance(x, int) , arr2))\r\n",
        " \r\n",
        "integerList\r\n"
      ],
      "execution_count": 94,
      "outputs": [
        {
          "output_type": "execute_result",
          "data": {
            "text/plain": [
              "[3, 4, -2, -10, 23, 20, 1]"
            ]
          },
          "metadata": {
            "tags": []
          },
          "execution_count": 94
        }
      ]
    },
    {
      "cell_type": "markdown",
      "metadata": {
        "id": "UQY16gWpkfHt"
      },
      "source": [
        "10. Write a Python program to find the intersection of two\r\n",
        "given arrays using Lambda and filter."
      ]
    },
    {
      "cell_type": "code",
      "metadata": {
        "colab": {
          "base_uri": "https://localhost:8080/"
        },
        "id": "TufelV4GkgRW",
        "outputId": "bd827180-9614-45a7-f702-0ff95f1ef409"
      },
      "source": [
        "array_nums1 = [1, 2, 3, 5, 7, 8, 9, 10]\r\n",
        "array_nums2 = [1, 2, 4, 8, 9]\r\n",
        "print(\"Original arrays:\")\r\n",
        "print(array_nums1)\r\n",
        "print(array_nums2)\r\n",
        "result = list(filter(lambda x: x in array_nums1, array_nums2)) \r\n",
        "print (\"\\nIntersection of the said arrays: \",result)"
      ],
      "execution_count": 95,
      "outputs": [
        {
          "output_type": "stream",
          "text": [
            "Original arrays:\n",
            "[1, 2, 3, 5, 7, 8, 9, 10]\n",
            "[1, 2, 4, 8, 9]\n",
            "\n",
            "Intersection of the said arrays:  [1, 2, 8, 9]\n"
          ],
          "name": "stdout"
        }
      ]
    }
  ]
}