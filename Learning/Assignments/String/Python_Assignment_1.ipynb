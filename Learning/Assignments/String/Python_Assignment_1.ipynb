{
  "nbformat": 4,
  "nbformat_minor": 0,
  "metadata": {
    "colab": {
      "name": "Python Assignment-1",
      "provenance": [],
      "collapsed_sections": [],
      "authorship_tag": "ABX9TyOvd01qC+PxUbbSSbbbZ+5w",
      "include_colab_link": true
    },
    "kernelspec": {
      "name": "python3",
      "display_name": "Python 3"
    }
  },
  "cells": [
    {
      "cell_type": "markdown",
      "metadata": {
        "id": "view-in-github",
        "colab_type": "text"
      },
      "source": [
        "<a href=\"https://colab.research.google.com/github/TruptiRedgaonkar/PythonRepo/blob/main/Python_Assignment_1.ipynb\" target=\"_parent\"><img src=\"https://colab.research.google.com/assets/colab-badge.svg\" alt=\"Open In Colab\"/></a>"
      ]
    },
    {
      "cell_type": "markdown",
      "metadata": {
        "id": "nfCv1QcZnZst"
      },
      "source": [
        "1. Define different types of variables (integer, boolean,\n",
        "string, float, complex) and print their values and their\n",
        "types"
      ]
    },
    {
      "cell_type": "code",
      "metadata": {
        "colab": {
          "base_uri": "https://localhost:8080/"
        },
        "id": "IZ5zGfZbgoCF",
        "outputId": "4fb26d17-7eb3-4809-9cba-3a7dcffda319"
      },
      "source": [
        "intVar = 1     \n",
        "floatVar = 10.5  \n",
        "complexVar = 10 + 5j #complex no. \n",
        "stringVar=\"This is string variable value\"\n",
        "booleanVar =True\n",
        "print (f\"integer Variable value: {intVar}\")\n",
        "print (f\"boolean Variable value: {booleanVar}\")\n",
        "print (f\"string Variable value: {stringVar}\")\n",
        "print (f\"flat Variable value: {floatVar}\")\n",
        "print (f\"complex Variable value: {complexVar}\")\n"
      ],
      "execution_count": null,
      "outputs": [
        {
          "output_type": "stream",
          "text": [
            "integer Variable value: 1\n",
            "boolean Variable value: True\n",
            "string Variable value: This is string variable value\n",
            "flat Variable value: 10.5\n",
            "complex Variable value: (10+5j)\n"
          ],
          "name": "stdout"
        }
      ]
    },
    {
      "cell_type": "markdown",
      "metadata": {
        "id": "YnDxAihB3cb5"
      },
      "source": [
        "2. In the above question convert float variable into integer\n",
        "type and integer variable into str type."
      ]
    },
    {
      "cell_type": "code",
      "metadata": {
        "colab": {
          "base_uri": "https://localhost:8080/"
        },
        "id": "hQYLWexr3f3n",
        "outputId": "6f4215f1-24c5-41df-900e-5712895c40a4"
      },
      "source": [
        "convertedIntVar = int(floatVar)\n",
        "ConvertedStringVar= str(convertedIntVar)\n",
        "print (f\"converted flat variable value: {convertedIntVar}\")\n",
        "print (f\"converted string variable value: {ConvertedStringVar}\")\n"
      ],
      "execution_count": null,
      "outputs": [
        {
          "output_type": "stream",
          "text": [
            "converted flat variable value: 10\n",
            "converted string variable value: 10\n"
          ],
          "name": "stdout"
        }
      ]
    },
    {
      "cell_type": "markdown",
      "metadata": {
        "id": "8dDK1Q4X4rbu"
      },
      "source": [
        "3. What will you get converting “abc” into boolean ?\n",
        "\n",
        "    We will get true converting string “abc” into boolean: ***True***\n"
      ]
    },
    {
      "cell_type": "code",
      "metadata": {
        "colab": {
          "base_uri": "https://localhost:8080/"
        },
        "id": "06NjI27d4m2P",
        "outputId": "947babab-3df4-485c-d0ef-248617ead4b7"
      },
      "source": [
        "var= \"abc\" \n",
        "\n",
        "print (f\"We will get true converting string “abc” into boolean: {bool(var)}\")"
      ],
      "execution_count": null,
      "outputs": [
        {
          "output_type": "stream",
          "text": [
            "We will get true converting string “abc” into boolean: True\n"
          ],
          "name": "stdout"
        }
      ]
    },
    {
      "cell_type": "markdown",
      "metadata": {
        "id": "p4CLa_Da5o2F"
      },
      "source": [
        "4. Print the substring from index 2 to index 4 for any given\n",
        "string. For example (llo) from “Hello World”\n"
      ]
    },
    {
      "cell_type": "code",
      "metadata": {
        "colab": {
          "base_uri": "https://localhost:8080/"
        },
        "id": "84EDg0Eq4ogc",
        "outputId": "2b6675af-998c-46fb-f978-96ee40256ca7"
      },
      "source": [
        "varStr = \"Hello World\"\n",
        "print(f\"substring from index 2 to index 4 : {varStr[2:4]}\")"
      ],
      "execution_count": null,
      "outputs": [
        {
          "output_type": "stream",
          "text": [
            "ll\n"
          ],
          "name": "stdout"
        }
      ]
    },
    {
      "cell_type": "markdown",
      "metadata": {
        "id": "6Hp3AyQj7RfW"
      },
      "source": [
        "5. Write a program to check a substring in a given string.\n",
        "For example 'e' is present in the word 'Umbrella'"
      ]
    },
    {
      "cell_type": "code",
      "metadata": {
        "colab": {
          "base_uri": "https://localhost:8080/"
        },
        "id": "_xed7Un07Kcd",
        "outputId": "9c197b5b-263f-4f17-b389-983b2d0b6391"
      },
      "source": [
        "varString = \"Umbrella\"\n",
        "varToFind='e'\n",
        "if varToFind in varString:\n",
        " print(f\"{varToFind} is there in {varString}\")\n",
        "else: \n",
        " print(f\"{varToFind}  is not there in {varString}\")\n"
      ],
      "execution_count": null,
      "outputs": [
        {
          "output_type": "stream",
          "text": [
            "e is there in Umbrella\n"
          ],
          "name": "stdout"
        }
      ]
    },
    {
      "cell_type": "markdown",
      "metadata": {
        "id": "n-TdlS669exp"
      },
      "source": [
        "6. Use the correct comparison operator to check if 5 is not equal to 10"
      ]
    },
    {
      "cell_type": "code",
      "metadata": {
        "colab": {
          "base_uri": "https://localhost:8080/"
        },
        "id": "ySu6-Cjx9hTY",
        "outputId": "a54511c0-e36c-4dc4-85bc-73b8ed5ee2e2"
      },
      "source": [
        "var1=5\n",
        "var2=10\n",
        "if var1 != var2:\n",
        " print(f\"{var1} is not equal to {var2}\")\n",
        "else :\n",
        "  print(f\"{var1} is equal to {var2}\")"
      ],
      "execution_count": null,
      "outputs": [
        {
          "output_type": "stream",
          "text": [
            "5 is not equal to 10\n"
          ],
          "name": "stdout"
        }
      ]
    },
    {
      "cell_type": "markdown",
      "metadata": {
        "id": "5JkR16-6-dV-"
      },
      "source": [
        "7. Write a program to get a string from the user and sort the\n",
        "words of the string in alphabetical order"
      ]
    },
    {
      "cell_type": "code",
      "metadata": {
        "colab": {
          "base_uri": "https://localhost:8080/"
        },
        "id": "WC-62TRd-rWD",
        "outputId": "8ac6d0b2-21c8-4466-c44e-bf29f078c275"
      },
      "source": [
        " originalStr =input(\"Please enter original string \") \n",
        " print(f\"The original string : {str(originalStr)}\" ) \n",
        "\n",
        "\n",
        "sortedStr = ''.join(sorted(originalStr)) \n",
        " print(f\"String after sorting :  {str(sortedStr)}\" ) "
      ],
      "execution_count": null,
      "outputs": [
        {
          "output_type": "stream",
          "text": [
            "Please enter original string zebra\n",
            "The original string : zebra\n",
            "String after sorting :  aberz\n"
          ],
          "name": "stdout"
        }
      ]
    },
    {
      "cell_type": "markdown",
      "metadata": {
        "id": "olE3wCbp_Yqw"
      },
      "source": [
        "8. Join two words using special characters like ‘ – ‘ ,’#’"
      ]
    },
    {
      "cell_type": "code",
      "metadata": {
        "colab": {
          "base_uri": "https://localhost:8080/"
        },
        "id": "z1y9MWP9_gl_",
        "outputId": "059b896f-626b-47b8-9a89-8092485df1d4"
      },
      "source": [
        "list = ['tensor', 'flow']\n",
        "# joins the list of strings to form a single large string. \n",
        "print(f\"joins using space as a separator {'-'.join(list)}\")\n",
        "\n",
        "print('#'.join(list)) # joins using hash as a separator"
      ],
      "execution_count": null,
      "outputs": [
        {
          "output_type": "stream",
          "text": [
            "tensor-flow\n",
            "tensor#flow\n"
          ],
          "name": "stdout"
        }
      ]
    },
    {
      "cell_type": "markdown",
      "metadata": {
        "id": "Eux6OrwgB_8E"
      },
      "source": [
        "9. Find all occurrences of “INDIA” in a given string\n",
        "ignoring the case.\n",
        "input_str = \"Welcome to INDIA. india is awesome."
      ]
    },
    {
      "cell_type": "code",
      "metadata": {
        "colab": {
          "base_uri": "https://localhost:8080/"
        },
        "id": "m5WrsrW8CBzJ",
        "outputId": "8c2699ab-76eb-401a-9b2f-6ab099dca312"
      },
      "source": [
        "input_str = \"Welcome to INDIA. india is awesome.\"\n",
        "strtoFound=\"INDIA\"\n",
        "occurances = input_str.lower().count(strtoFound.lower(), 0, len(input_str))\n",
        "print(f\"There are {occurances} of \\\"{strtoFound}\\\" in \\\"{input_str}\\\"\" )"
      ],
      "execution_count": null,
      "outputs": [
        {
          "output_type": "stream",
          "text": [
            "There are 2 of \"INDIA\" in \"Welcome to INDIA. india is awesome.\"\n"
          ],
          "name": "stdout"
        }
      ]
    },
    {
      "cell_type": "markdown",
      "metadata": {
        "id": "_pt218yxEXhe"
      },
      "source": [
        "10. Replace first two ‘l’ with ‘n’ in ‘Hello World’\n"
      ]
    },
    {
      "cell_type": "code",
      "metadata": {
        "colab": {
          "base_uri": "https://localhost:8080/"
        },
        "id": "CBLpgZ3fEZpD",
        "outputId": "29c35844-0a7f-4720-fe6d-eeb5ed4ad19d"
      },
      "source": [
        "StringVar = 'Hello World'\n",
        "\n",
        "print(StringVar.replace('ll', 'n'))"
      ],
      "execution_count": null,
      "outputs": [
        {
          "output_type": "stream",
          "text": [
            "Heno World\n"
          ],
          "name": "stdout"
        }
      ]
    },
    {
      "cell_type": "markdown",
      "metadata": {
        "id": "Go2viQtAFWQn"
      },
      "source": [
        "11. Write a program that takes your full name as input and\n",
        "displays the abbreviations of the first and middle names\n",
        "except the last name which is displayed as it is. For\n",
        "example, if your name is Robert Brett Roser, then the\n",
        "output should be R.B.Roser.\n"
      ]
    },
    {
      "cell_type": "code",
      "metadata": {
        "colab": {
          "base_uri": "https://localhost:8080/"
        },
        "id": "r3uILdt7uO7H",
        "outputId": "8e36fc31-3572-4bf5-eb31-eed3bd3c0924"
      },
      "source": [
        "fullName = input(\"Please enter full name with space serator e.g. Robert Brett Roser \")\n",
        "nameList = fullName.split(\" \")\n",
        "count=0\n",
        "while count< len(nameList)  :\n",
        "    next_one = nameList.pop(0)\n",
        "    if count==0 or count==1:\n",
        "      nameList.append(next_one[0].upper())\n",
        "    else :\n",
        "       nameList.append(next_one.title())\n",
        "    count =count+1\n",
        "\n",
        "print(f\"The expected name is  {' '.join(nameList)}\")\n"
      ],
      "execution_count": null,
      "outputs": [
        {
          "output_type": "stream",
          "text": [
            "Please enter full name with space serator e.g. Robert Brett Roser t c ed\n",
            "The expected name is  T C Ed\n"
          ],
          "name": "stdout"
        }
      ]
    },
    {
      "cell_type": "markdown",
      "metadata": {
        "id": "QURVKLvX1Zvf"
      },
      "source": [
        "12. Write a program to check if a given string is a\n",
        "Palindrome.\n",
        " A palindrome reads the same from front and back e.g.-\n",
        "aba, ccaacc, mom, etc."
      ]
    },
    {
      "cell_type": "code",
      "metadata": {
        "colab": {
          "base_uri": "https://localhost:8080/"
        },
        "id": "9y3m0iis2Eto",
        "outputId": "b5e25e84-57ca-4ce9-8a41-9e9b98c0863d"
      },
      "source": [
        "inputSring=input(\"Please enter string to verify for palindrome: \")\n",
        "\n",
        "if inputSring == inputSring[::-1]: \n",
        "  print(f\"The string {inputSring} is palindrome.\")\n",
        "else:\n",
        "  print(f\"The string {inputSring} is not palindrome.\")"
      ],
      "execution_count": null,
      "outputs": [
        {
          "output_type": "stream",
          "text": [
            "Please enter string to verify for palindrome: ab\n",
            "The string ab is not palindrome.\n"
          ],
          "name": "stdout"
        }
      ]
    }
  ]
}