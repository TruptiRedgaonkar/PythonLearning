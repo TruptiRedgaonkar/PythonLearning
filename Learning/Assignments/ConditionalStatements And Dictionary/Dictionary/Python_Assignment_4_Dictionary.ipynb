{
  "nbformat": 4,
  "nbformat_minor": 0,
  "metadata": {
    "colab": {
      "name": "Python Assignment - 4 Dictionary.ipynb",
      "provenance": [],
      "collapsed_sections": [],
      "authorship_tag": "ABX9TyPebeYCUHIsVj+fJRS+CCF8",
      "include_colab_link": true
    },
    "kernelspec": {
      "name": "python3",
      "display_name": "Python 3"
    }
  },
  "cells": [
    {
      "cell_type": "markdown",
      "metadata": {
        "id": "view-in-github",
        "colab_type": "text"
      },
      "source": [
        "<a href=\"https://colab.research.google.com/github/TruptiRedgaonkar/pythonrepo/blob/main/DataFolkz/Assignments/Dictionary/Python_Assignment_4_Dictionary.ipynb\" target=\"_parent\"><img src=\"https://colab.research.google.com/assets/colab-badge.svg\" alt=\"Open In Colab\"/></a>"
      ]
    },
    {
      "cell_type": "markdown",
      "metadata": {
        "id": "O67Tn9EZ3L75"
      },
      "source": [
        "Given a dictionary:\r\n",
        "car = {\"brand\": \"Ford”, “model\":\"Mustang\",\"year\":1964}\r\n",
        "1. Print the value of the \"model\" key of the car dictionary.\r\n",
        "2. Change the \"year\" value from 1964 to 2020.\r\n",
        "3. Add the key/value pair \"colour”: \"red\" to the car dictionary"
      ]
    },
    {
      "cell_type": "code",
      "metadata": {
        "colab": {
          "base_uri": "https://localhost:8080/"
        },
        "id": "Y6krYuj-29UO",
        "outputId": "0e3f2ed0-45c3-41de-aac4-22c7580bb40e"
      },
      "source": [
        "car = {\"brand\": \"Ford\", \"model\":\"Mustang\",\"year\":1964}\r\n",
        "print(car[\"model\"])\r\n",
        "car[\"year\"] = 2020\r\n",
        "car[\"color\"] = \"red\"\r\n",
        "car"
      ],
      "execution_count": null,
      "outputs": [
        {
          "output_type": "stream",
          "text": [
            "Mustang\n"
          ],
          "name": "stdout"
        },
        {
          "output_type": "execute_result",
          "data": {
            "text/plain": [
              "{'brand': 'Ford', 'color': 'red', 'model': 'Mustang', 'year': 2020}"
            ]
          },
          "metadata": {
            "tags": []
          },
          "execution_count": 3
        }
      ]
    },
    {
      "cell_type": "markdown",
      "metadata": {
        "id": "BUWOz2W94RN6"
      },
      "source": [
        "Given a dictionary inventory :\r\n",
        "inventory = {'gold' : 500, 'pouch' : ['flint', 'twine', 'gemstone'],\r\n",
        "'backpack' : ['xylophone’, ‘dagger', 'bedroll’, ‘bread’, ‘loaf']}\r\n",
        "4. Add a key to inventory called 'pocket' and Set the value of\r\n",
        "'pocket' to be a list consisting of the strings 'seashell', 'strange\r\n",
        "berry', and 'lint'.\r\n",
        "5. Sort the items in the list stored under the 'backpack' key.\r\n",
        "6. Remove 'dagger' from the list of items stored under the\r\n",
        "'backpack' key.\r\n",
        "7. Add 50 to the number stored under the 'gold' key.\r\n"
      ]
    },
    {
      "cell_type": "code",
      "metadata": {
        "colab": {
          "base_uri": "https://localhost:8080/"
        },
        "id": "PmkY2-IW4VrW",
        "outputId": "3d986689-92a2-43d2-de90-0e8d294a246e"
      },
      "source": [
        "inventory = {'gold' : 500, 'pouch' : ['flint', 'twine', 'gemstone'], 'backpack' : ['xylophone', 'dagger', 'bedroll', 'bread', 'loaf']}\r\n",
        "inventory['pocket']=[ 'seashell', 'strange berry',  'lint']\r\n",
        "print (inventory)"
      ],
      "execution_count": null,
      "outputs": [
        {
          "output_type": "stream",
          "text": [
            "{'gold': 500, 'pouch': ['flint', 'twine', 'gemstone'], 'backpack': ['xylophone', 'dagger', 'bedroll', 'bread', 'loaf'], 'pocket': ['seashell', 'strange berry', 'lint']}\n"
          ],
          "name": "stdout"
        }
      ]
    },
    {
      "cell_type": "code",
      "metadata": {
        "colab": {
          "base_uri": "https://localhost:8080/"
        },
        "id": "E_6Nml_55d_E",
        "outputId": "5c528088-6253-41c7-8f7b-a96959d58fc8"
      },
      "source": [
        "\r\n",
        "list = inventory.get('backpack') \r\n",
        "list.sort()\r\n",
        "print (inventory)\r\n"
      ],
      "execution_count": null,
      "outputs": [
        {
          "output_type": "stream",
          "text": [
            "['bedroll', 'bread', 'dagger', 'loaf', 'xylophone']\n",
            "{'gold': 500, 'pouch': ['flint', 'twine', 'gemstone'], 'backpack': ['bedroll', 'bread', 'dagger', 'loaf', 'xylophone'], 'pocket': ['seashell', 'strange berry', 'lint']}\n"
          ],
          "name": "stdout"
        }
      ]
    },
    {
      "cell_type": "code",
      "metadata": {
        "colab": {
          "base_uri": "https://localhost:8080/"
        },
        "id": "CDnBosb85lv5",
        "outputId": "f36b0269-fd86-401f-d11d-92e82cabfebe"
      },
      "source": [
        "backPacklist = inventory.get('backpack')\r\n",
        "backPacklist.remove(\"dagger\") \r\n",
        "print (inventory)"
      ],
      "execution_count": null,
      "outputs": [
        {
          "output_type": "stream",
          "text": [
            "{'gold': 500, 'pouch': ['flint', 'twine', 'gemstone'], 'backpack': ['bedroll', 'bread', 'loaf', 'xylophone'], 'pocket': ['seashell', 'strange berry', 'lint']}\n"
          ],
          "name": "stdout"
        }
      ]
    },
    {
      "cell_type": "code",
      "metadata": {
        "colab": {
          "base_uri": "https://localhost:8080/"
        },
        "id": "f5swzR9QB1V6",
        "outputId": "9057acce-2b8f-497e-d004-9c8aa7d7111d"
      },
      "source": [
        "goldAmt = int(inventory.get('gold') )\r\n",
        "inventory['gold'] =  goldAmt+50\r\n",
        "print (inventory)"
      ],
      "execution_count": null,
      "outputs": [
        {
          "output_type": "stream",
          "text": [
            "{'gold': 550, 'pouch': ['flint', 'twine', 'gemstone'], 'backpack': ['bedroll', 'bread', 'loaf', 'xylophone'], 'pocket': ['seashell', 'strange berry', 'lint']}\n"
          ],
          "name": "stdout"
        }
      ]
    },
    {
      "cell_type": "markdown",
      "metadata": {
        "id": "nN3_3jzHCeUQ"
      },
      "source": [
        "8. Write a Python script to concatenate three dictionaries to create\r\n",
        "a new one. Make dictionaries yourself.\r\n"
      ]
    },
    {
      "cell_type": "code",
      "metadata": {
        "colab": {
          "base_uri": "https://localhost:8080/"
        },
        "id": "8TrZIuN-Cd9Y",
        "outputId": "cfb196bb-7e37-42aa-8de4-17886b36f3f5"
      },
      "source": [
        "def Merge(dict1, dict2):\r\n",
        "    return(dict2.update(dict1))\r\n",
        "     \r\n",
        "# Driver code\r\n",
        "dict1 = {'a': 10, 'b': 8}\r\n",
        "dict2 = {'d': 6, 'c': 4}\r\n",
        " \r\n",
        "# This return None\r\n",
        "print(Merge(dict1, dict2))\r\n",
        " \r\n",
        "# changes made in dict2\r\n",
        "print(dict2)"
      ],
      "execution_count": null,
      "outputs": [
        {
          "output_type": "stream",
          "text": [
            "None\n",
            "{'d': 6, 'c': 4, 'a': 10, 'b': 8}\n"
          ],
          "name": "stdout"
        }
      ]
    },
    {
      "cell_type": "markdown",
      "metadata": {
        "id": "2Ho06VNUC__s"
      },
      "source": [
        "9. Write a Python program to sum all the items in a dictionary.\r\n"
      ]
    },
    {
      "cell_type": "code",
      "metadata": {
        "colab": {
          "base_uri": "https://localhost:8080/"
        },
        "id": "1BVquE1ZDVPB",
        "outputId": "e18d29f6-d030-4b01-ca09-4c6cf146e5a9"
      },
      "source": [
        "def returnSum(dict): \r\n",
        "      \r\n",
        "     sum = 0\r\n",
        "     for i in dict.values(): \r\n",
        "           sum = sum + i \r\n",
        "       \r\n",
        "     return sum\r\n",
        "  \r\n",
        "# Driver Function \r\n",
        "dict = {'a': 100, 'b':200, 'c':300} \r\n",
        "print(\"Sum :\", returnSum(dict)) "
      ],
      "execution_count": null,
      "outputs": [
        {
          "output_type": "stream",
          "text": [
            "Sum : 600\n"
          ],
          "name": "stdout"
        }
      ]
    },
    {
      "cell_type": "markdown",
      "metadata": {
        "id": "PMpCIEVBDaRh"
      },
      "source": [
        "10. Write a Python script to check whether a given key already\r\n",
        "exists in a dictionary.\r\n",
        "d = {'foo': 100, 'bar': 200, 'baz': 300}\r\n"
      ]
    },
    {
      "cell_type": "code",
      "metadata": {
        "colab": {
          "base_uri": "https://localhost:8080/"
        },
        "id": "VGOLHWAtDrqQ",
        "outputId": "329b94af-1dd9-42d5-d077-c99fee8f56a7"
      },
      "source": [
        "def checkKey(dict, key): \r\n",
        "    if key in dict.keys(): \r\n",
        "        print(f\"{key} Present, \", end =\" \") \r\n",
        "        print(\"value =\", dict[key]) \r\n",
        "    else: \r\n",
        "        print(f\"{key} Not present\") \r\n",
        "  \r\n",
        "\r\n",
        "\r\n",
        "# Driver Code \r\n",
        "dict = {'a': 100, 'b':200, 'c':300} \r\n",
        "  \r\n",
        "key = 'b'\r\n",
        "checkKey(dict, key) \r\n",
        "  \r\n",
        "key = 'w'\r\n",
        "checkKey(dict, key) "
      ],
      "execution_count": null,
      "outputs": [
        {
          "output_type": "stream",
          "text": [
            "b Present,  value = 200\n",
            "wNot present\n"
          ],
          "name": "stdout"
        }
      ]
    },
    {
      "cell_type": "markdown",
      "metadata": {
        "id": "I7O3AQryGRf9"
      },
      "source": [
        "11. What method call will delete the entry whose value is 200?\r\n"
      ]
    },
    {
      "cell_type": "code",
      "metadata": {
        "colab": {
          "base_uri": "https://localhost:8080/"
        },
        "id": "n_j4QAFXEQRn",
        "outputId": "b483df8b-6afb-4385-f266-fe05e438c520"
      },
      "source": [
        "def get_key(val):\r\n",
        "    for key, value in dict.items():\r\n",
        "         if val == value:\r\n",
        "             return key\r\n",
        " \r\n",
        "    return \"key doesn't exist\"\r\n",
        " \r\n",
        "# Driver Code\r\n",
        "keyValue= get_key(200)\r\n",
        "del dict[keyValue]\r\n",
        "dict\r\n",
        "\r\n",
        "  "
      ],
      "execution_count": null,
      "outputs": [
        {
          "output_type": "execute_result",
          "data": {
            "text/plain": [
              "{'a': 100, 'c': 300}"
            ]
          },
          "metadata": {
            "tags": []
          },
          "execution_count": 57
        }
      ]
    },
    {
      "cell_type": "markdown",
      "metadata": {
        "id": "LrxwePH3GMd5"
      },
      "source": [
        "12. Write a Python program to check multiple keys exists in a dictionary."
      ]
    },
    {
      "cell_type": "code",
      "metadata": {
        "colab": {
          "base_uri": "https://localhost:8080/"
        },
        "id": "yi1OfzhYGu6o",
        "outputId": "9e1a95a1-0b5e-4329-bb3a-d0ee7c59c3f9"
      },
      "source": [
        "sports = {\"geeksforgeeks\" : 1, \"practice\" : 2, \"contribute\" :3} \r\n",
        "  \r\n",
        "# using comparison operator \r\n",
        "print(sports.keys() >= {\"geeksforgeeks\", \"practice\"}) \r\n",
        "print(sports.keys() >= {\"contribute\", \"ide\"}) "
      ],
      "execution_count": null,
      "outputs": [
        {
          "output_type": "stream",
          "text": [
            "True\n",
            "False\n"
          ],
          "name": "stdout"
        }
      ]
    }
  ]
}