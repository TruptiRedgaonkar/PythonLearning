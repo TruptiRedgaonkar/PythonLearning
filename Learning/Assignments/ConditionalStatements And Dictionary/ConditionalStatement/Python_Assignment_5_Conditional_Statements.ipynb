{
  "nbformat": 4,
  "nbformat_minor": 0,
  "metadata": {
    "colab": {
      "name": "Python_Assignment_5_Conditional_Statements.ipynb",
      "provenance": [],
      "collapsed_sections": [],
      "include_colab_link": true
    },
    "kernelspec": {
      "name": "python3",
      "display_name": "Python 3"
    }
  },
  "cells": [
    {
      "cell_type": "markdown",
      "metadata": {
        "id": "view-in-github",
        "colab_type": "text"
      },
      "source": [
        "<a href=\"https://colab.research.google.com/github/TruptiRedgaonkar/pythonrepo/blob/main/DataFolkz/Assignments/ConditionalStatements/Python_Assignment_5_Conditional_Statements.ipynb\" target=\"_parent\"><img src=\"https://colab.research.google.com/assets/colab-badge.svg\" alt=\"Open In Colab\"/></a>"
      ]
    },
    {
      "cell_type": "markdown",
      "metadata": {
        "id": "zIfFnRwlWkkA"
      },
      "source": [
        "Take two integer values from the user and print greatest among them."
      ]
    },
    {
      "cell_type": "code",
      "metadata": {
        "colab": {
          "base_uri": "https://localhost:8080/"
        },
        "id": "N88VXdneWf4D",
        "outputId": "0fd19e62-36a9-4b72-e630-bb45bf6ef29e"
      },
      "source": [
        "num1 = float(input(\"Please enter 1st number : \"))\r\n",
        "num2 = float(input(\"Please enter 2nd number : \"))\r\n",
        "if num1>num2:\r\n",
        "  print(f\"num1 {num1} is greater than num2 {num2}\")\r\n",
        "elif num1<num2:\r\n",
        "  print(f\"num2 {num2} is greater than num1 {num1}\")\r\n",
        "else :\r\n",
        "   print(f\"num1 {num1} is having same value as num2 {num2}\")\r\n"
      ],
      "execution_count": null,
      "outputs": [
        {
          "output_type": "stream",
          "text": [
            "Please entr 1st number : 3\n",
            "Please entr 2nd number : 5\n",
            "num2 5.0 is greater than num1 3.0\n"
          ],
          "name": "stdout"
        }
      ]
    },
    {
      "cell_type": "markdown",
      "metadata": {
        "id": "CMkBWNbeXwaS"
      },
      "source": [
        "2. Write a program that reads an integer from the user. Then your program should display a message indicating whether the integer is even or odd."
      ]
    },
    {
      "cell_type": "code",
      "metadata": {
        "colab": {
          "base_uri": "https://localhost:8080/"
        },
        "id": "ODCliQTmX1Ak",
        "outputId": "edbbfa96-d1ae-431f-b6e4-6742541de995"
      },
      "source": [
        "inputnum = int(input(\"Please enter input number : \"))\r\n",
        "print(f\"input number  {inputnum} is even\") if inputnum%2 == 0 else print(f\"input number  {inputnum} is odd\")"
      ],
      "execution_count": null,
      "outputs": [
        {
          "output_type": "stream",
          "text": [
            "Please enter input number : 10\n",
            "input number  10 is even\n"
          ],
          "name": "stdout"
        }
      ]
    },
    {
      "cell_type": "markdown",
      "metadata": {
        "id": "8TjHSj3xZ3F6"
      },
      "source": [
        "Create a program that reads a letter of the alphabet from\r\n",
        "the user. If the user enters a, e, i, o or u then your program\r\n",
        "should display a message indicating that the entered letter is\r\n",
        "a vowel. If the user enters y then your program should\r\n",
        "display a message indicating that sometimes y is a vowel,\r\n",
        "and sometimes y is a consonant. Otherwise your program\r\n",
        "should display a message indicating that the letter is a\r\n",
        "consonant."
      ]
    },
    {
      "cell_type": "code",
      "metadata": {
        "colab": {
          "base_uri": "https://localhost:8080/"
        },
        "id": "RD4xrRJSZ0JU",
        "outputId": "0c13b59d-baa1-4b14-c1b4-d9ab477f5bfb"
      },
      "source": [
        "inputletter= input(\"Please enter letter only 1 charater: \")\r\n",
        "if len(inputletter)==1:\r\n",
        "\r\n",
        "  if inputletter.lower() in {'a','e','i','o','u'}:\r\n",
        "     print(f\"input letter {inputletter} is a vowel.\")\r\n",
        "  elif inputletter.lower()=='y':\r\n",
        "    print(f\"sometimes {inputletter} is a vowel, and sometimes {inputletter} is a consonant\")\r\n",
        "  else: \r\n",
        "    print(f\"input letter {inputletter}   is a consonant.\")\r\n",
        "\r\n",
        "else:\r\n",
        "  print(\"Please enter valid letter\")"
      ],
      "execution_count": null,
      "outputs": [
        {
          "output_type": "stream",
          "text": [
            "Please enter letter only 1 charaterh\n",
            "input letter h   is a consonant.\n"
          ],
          "name": "stdout"
        }
      ]
    },
    {
      "cell_type": "markdown",
      "metadata": {
        "id": "QbmXJuBpcdvm"
      },
      "source": [
        "A triangle can be classified based on the lengths of its\r\n",
        "sides as equilateral, isosceles or scalene. All three sides of an\r\n",
        "equilateral triangle have the same length. An isosceles\r\n",
        "triangle has two sides that are the same length, and a third\r\n",
        "side that is a different length. If all of the sides have different\r\n",
        "lengths then the triangle is scalene. Write a program that\r\n",
        "reads the lengths of the three sides of a triangle from the user.\r\n",
        "Then display a message that states the triangle’s type."
      ]
    },
    {
      "cell_type": "code",
      "metadata": {
        "colab": {
          "base_uri": "https://localhost:8080/"
        },
        "id": "XE4dLdrWcdGm",
        "outputId": "8c06a6b4-38ba-4cfa-9aaf-09c6b0441d18"
      },
      "source": [
        "print(\"please Input lengths of the triangle sides: \")\r\n",
        "x = int(input(\"x: \"))\r\n",
        "y = int(input(\"y: \"))\r\n",
        "z = int(input(\"z: \"))\r\n",
        "\r\n",
        "if x == y == z:\r\n",
        "\tprint(\"Equilateral triangle\")\r\n",
        "elif x==y or y==z or z==x:\r\n",
        "\tprint(\"isosceles triangle\")\r\n",
        "else:\r\n",
        "\tprint(\"Scalene triangle\")"
      ],
      "execution_count": null,
      "outputs": [
        {
          "output_type": "stream",
          "text": [
            "please Input lengths of the triangle sides: \n",
            "x: 10\n",
            "y: 20\n",
            "z: 30\n",
            "Scalene triangle\n"
          ],
          "name": "stdout"
        }
      ]
    },
    {
      "cell_type": "markdown",
      "metadata": {
        "id": "l7kg9FuBdLxl"
      },
      "source": [
        "Write a program that determines the name of a shape\r\n",
        "from its number of sides. Read the number of sides from the\r\n",
        "user and then report the appropriate name as part of a\r\n",
        "meaningful message. Your program should support shapes\r\n",
        "with anywhere from 3 up to (and including) 10 sides. If a\r\n",
        "number of sides outside of this range is entered then your\r\n",
        "program should display an appropriate error message."
      ]
    },
    {
      "cell_type": "code",
      "metadata": {
        "colab": {
          "base_uri": "https://localhost:8080/",
          "height": 71
        },
        "id": "tyJWNksjdN0y",
        "outputId": "669810da-0848-4ee4-86b6-3ca9088f1874"
      },
      "source": [
        "sides = int(input(\"Enter number of sides: \"))   \r\n",
        "shape=\"\"\r\n",
        "if (sides == 3): \r\n",
        "   shape='triangle' \r\n",
        "elif(sides==4): \r\n",
        "   allsiesAreEquallenth = input(\"All sies are of equal length(Y,N): \")  \r\n",
        "   if (allsiesAreEquallenth.upper()=='Y'):\r\n",
        "       shape='square'\r\n",
        "   elif (allsiesAreEquallenth.upper()=='N'):\r\n",
        "      shape=\"rectangle\" \r\n",
        "   else:\r\n",
        "       shape=\"invalid\" \r\n",
        "elif(sides==5):\r\n",
        "   shape='pentagon' \r\n",
        "elif(sides==6):\r\n",
        "   shape='hexagon' \r\n",
        "elif(sides==8): \r\n",
        "   shape='octagon' \r\n",
        "elif(sides==10): \r\n",
        "   shape='star'\r\n",
        "else:\r\n",
        "   shape='circle'\r\n",
        "\r\n",
        "shape \r\n"
      ],
      "execution_count": null,
      "outputs": [
        {
          "output_type": "stream",
          "text": [
            "Enter number of sides: 4\n",
            "All sies are of equal length(Y,N): y\n"
          ],
          "name": "stdout"
        },
        {
          "output_type": "execute_result",
          "data": {
            "application/vnd.google.colaboratory.intrinsic+json": {
              "type": "string"
            },
            "text/plain": [
              "'square'"
            ]
          },
          "metadata": {
            "tags": []
          },
          "execution_count": 24
        }
      ]
    },
    {
      "cell_type": "markdown",
      "metadata": {
        "id": "p21BRwWehNoc"
      },
      "source": [
        "6. A shop will give a discount of 10% if the cost of the\r\n",
        "purchased quantity is more than 1000. Ask the user for\r\n",
        "quantity, suppose, one unit will cost 100. Judge and print\r\n",
        "total cost for user."
      ]
    },
    {
      "cell_type": "code",
      "metadata": {
        "colab": {
          "base_uri": "https://localhost:8080/"
        },
        "id": "frOFUwPWhPzq",
        "outputId": "4c59736b-4dae-4bb4-f953-6bb9bc50511d"
      },
      "source": [
        "quantity = int(input(\"Enter purchased quantity: \"))   \r\n",
        "unitPrice =100\r\n",
        "amount = (quantity * 100) \r\n",
        "if quantity>1000 :\r\n",
        "  discount =amount * 0.10\r\n",
        "  print(f\"total cost after 10% discosunt {amount- discount}\")\r\n",
        "else:\r\n",
        "  print(f\"total cost {amount}\")\r\n"
      ],
      "execution_count": null,
      "outputs": [
        {
          "output_type": "stream",
          "text": [
            "Enter purchased quantity: 999\n",
            "total cost 99900\n"
          ],
          "name": "stdout"
        }
      ]
    },
    {
      "cell_type": "markdown",
      "metadata": {
        "id": "b2_KCGWimham"
      },
      "source": [
        "7. Take input of age of 3 people by user and determine oldest and youngest among them."
      ]
    },
    {
      "cell_type": "code",
      "metadata": {
        "colab": {
          "base_uri": "https://localhost:8080/"
        },
        "id": "iAkeQ3EwmlhB",
        "outputId": "40c4180c-e246-4405-c592-dbf20aa9cfa4"
      },
      "source": [
        "print(\"please eneter age for 3 people : \")\r\n",
        "listAge=[]\r\n",
        "for i in range(0,3):\r\n",
        "  listAge.append(int(input(\"age: \")))\r\n",
        "\r\n",
        "listAge.sort()\r\n",
        "print(f\"youngest persona age is { listAge[0]} and oldest persona age is {listAge[len(listAge)-1] }\")\r\n"
      ],
      "execution_count": null,
      "outputs": [
        {
          "output_type": "stream",
          "text": [
            "please eneter age for 3 people : \n",
            "age: 66\n",
            "age: 90\n",
            "age: 5\n",
            "youngest persona age is 5 and oldest persona age is 90\n"
          ],
          "name": "stdout"
        }
      ]
    },
    {
      "cell_type": "markdown",
      "metadata": {
        "id": "SnP8KdUBo3V7"
      },
      "source": [
        "8. A company decided to give a bonus of 5% to an employee\r\n",
        "if his/her year of service is more than 5 years. Ask user for\r\n",
        "their salary and year of service and print the net bonus\r\n",
        "amount."
      ]
    },
    {
      "cell_type": "code",
      "metadata": {
        "colab": {
          "base_uri": "https://localhost:8080/"
        },
        "id": "MHTuuYsvo2ra",
        "outputId": "701abfd3-411a-4c5f-c770-4991c80a7cd2"
      },
      "source": [
        "salary = float(input(\"Enter salary : \"))   \r\n",
        "serviceYear =float(input(\"Enter year of service : \")) \r\n",
        "print(f\"bonus amount {(salary *.05)} and net salary {salary + (salary *.05) }  \")   if serviceYear > 5 else print(f\"net salary {salary }\") "
      ],
      "execution_count": null,
      "outputs": [
        {
          "output_type": "stream",
          "text": [
            "Enter salary : 100\n",
            "Enter year of service : 6\n",
            "bonus amount 5.0 and net salary 105.0  \n"
          ],
          "name": "stdout"
        }
      ]
    },
    {
      "cell_type": "markdown",
      "metadata": {
        "id": "oXCMdFUYq_Ku"
      },
      "source": [
        "9. Write a program to check if a year is leap year or not.\r\n",
        "If a year is divisible by 4 then it is leap year but if the year is\r\n",
        "a century year like 2000, 1900, 2100 then it must be divisible\r\n",
        "by 400."
      ]
    },
    {
      "cell_type": "code",
      "metadata": {
        "colab": {
          "base_uri": "https://localhost:8080/"
        },
        "id": "iVSYnhlhrS1l",
        "outputId": "0982a56d-59a0-43ed-8a54-36ca3ff16be5"
      },
      "source": [
        "year = int(input(\"Enter year : \")) \r\n",
        "if (year % 4) == 0:\r\n",
        "   if (year % 100) == 0:\r\n",
        "       if (year % 400) == 0:\r\n",
        "           print(\"{0} is a leap year\".format(year))\r\n",
        "       else:\r\n",
        "           print(\"{0} is not a leap year\".format(year))\r\n",
        "   else:\r\n",
        "       print(\"{0} is a leap year\".format(year))\r\n",
        "else:\r\n",
        "   print(\"{0} is not a leap year\".format(year))"
      ],
      "execution_count": null,
      "outputs": [
        {
          "output_type": "stream",
          "text": [
            "Enter year : 1999\n",
            "1999 is not a leap year\n"
          ],
          "name": "stdout"
        }
      ]
    },
    {
      "cell_type": "markdown",
      "metadata": {
        "id": "bGFeEwf2si1L"
      },
      "source": [
        "10. Accept d1 and d2 as input. First, check to see that they\r\n",
        "are in the proper range for dice. If not, print a message.\r\n",
        "Otherwise, determine the outcome if this is the come out roll.\r\n",
        "If the sum is 7 or 11, print the winner. If the sum is 2, 3 or\r\n",
        "12, print loser. Otherwise print the point."
      ]
    },
    {
      "cell_type": "code",
      "metadata": {
        "colab": {
          "base_uri": "https://localhost:8080/"
        },
        "id": "jqkbS995sgpu",
        "outputId": "cfceb0a9-2023-4033-f4c9-6184b6e412a6"
      },
      "source": [
        "d1 = int(input(\"Enter d1 \"))\r\n",
        "d2 = int(input(\"Enter d2 \"))\r\n",
        "\r\n",
        "add = d1+d2 \r\n",
        "if add in [7,11] :\r\n",
        "  print(\"Winner\")\r\n",
        "elif add in [2,3,12] :\r\n",
        "  print(\"Loser\")\r\n",
        "else:\r\n",
        "   print(f\"sum of dice {add}\")\r\n",
        "   \r\n"
      ],
      "execution_count": null,
      "outputs": [
        {
          "output_type": "stream",
          "text": [
            "Enter d1 2\n",
            "Enter d2 1\n",
            "Loser\n"
          ],
          "name": "stdout"
        }
      ]
    },
    {
      "cell_type": "markdown",
      "metadata": {
        "id": "kEVSwhefuFjI"
      },
      "source": [
        "11. Write a python program to display the number of days in\r\n",
        "a month name from the given list of months or month\r\n",
        "number entered by user."
      ]
    },
    {
      "cell_type": "code",
      "metadata": {
        "colab": {
          "base_uri": "https://localhost:8080/"
        },
        "id": "uQjMI4oeuHgo",
        "outputId": "e8c5cf1d-4622-43d1-b022-abc45d4733db"
      },
      "source": [
        "import datetime\r\n",
        "\r\n",
        "\r\n",
        "listMonthName = [ 'January', 'February', 'March', 'April', 'May', 'June', 'July', 'August', 'September', 'October', 'November', 'December']\r\n",
        "monthVal = input(\"Input the month name  : \")\r\n",
        "if monthVal.isdigit() :\r\n",
        "  \r\n",
        "  if monthNumber in [1, 2, 3, 4, 5, 6, 7, 8, 9, 10, 11, 12]:\r\n",
        "     datetime_object = datetime.datetime.strptime(monthVal, \"%m\")\r\n",
        "     month_name = datetime_object.strftime(\"%B\")\r\n",
        "  else: \r\n",
        "     print(\"Wrong month number\") \r\n",
        "else : \r\n",
        "  month_name = monthVal    \r\n",
        "  \r\n",
        "if month_name == \"February\":\r\n",
        "  print(\"No. of days: 28/29 days\")\r\n",
        "elif month_name in (\"April\", \"June\", \"September\", \"November\"):\r\n",
        "  print(\"No. of days: 30 days\")\r\n",
        "elif month_name in (\"January\", \"March\", \"May\", \"July\", \"August\", \"October\", \"December\"):\r\n",
        "  print(\"No. of days: 31 day\")\r\n",
        "else:\r\n",
        "  print(\"Wrong month name\") \r\n",
        "\r\n"
      ],
      "execution_count": null,
      "outputs": [
        {
          "output_type": "stream",
          "text": [
            "Input the month name  : 12\n",
            "No. of days: 31 day\n"
          ],
          "name": "stdout"
        }
      ]
    },
    {
      "cell_type": "markdown",
      "metadata": {
        "id": "8-bRPPUx16JZ"
      },
      "source": [
        "12. Write a Python program to get next day of a given date."
      ]
    },
    {
      "cell_type": "code",
      "metadata": {
        "colab": {
          "base_uri": "https://localhost:8080/"
        },
        "id": "H4KeSl8h2LdQ",
        "outputId": "5e66422a-6a01-4809-c1df-cebf9f38a83c"
      },
      "source": [
        "import datetime\r\n",
        "\r\n",
        "\r\n",
        "date_time_str = '2018-06-29'\r\n",
        "date_time_obj = datetime.datetime.strptime(date_time_str, '%Y-%m-%d')\r\n",
        "\r\n",
        "print('Date:', date_time_obj.date())\r\n",
        "print('Time:', date_time_obj.time())\r\n",
        "print('Date-time:', date_time_obj)\r\n",
        "\r\n",
        "NextDay_Date =date_time_obj + datetime.timedelta(days=1)\r\n",
        "\r\n",
        "print (NextDay_Date)"
      ],
      "execution_count": null,
      "outputs": [
        {
          "output_type": "stream",
          "text": [
            "Date: 2018-06-29\n",
            "Time: 00:00:00\n",
            "Date-time: 2018-06-29 00:00:00\n",
            "2018-06-30 00:00:00\n"
          ],
          "name": "stdout"
        }
      ]
    }
  ]
}