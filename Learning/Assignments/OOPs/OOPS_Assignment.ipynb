{
  "nbformat": 4,
  "nbformat_minor": 0,
  "metadata": {
    "colab": {
      "name": "OOPS Assignment.ipynb",
      "provenance": [],
      "collapsed_sections": [],
      "authorship_tag": "ABX9TyM1DVyryQfb1GBFhO/wkv+C",
      "include_colab_link": true
    },
    "kernelspec": {
      "name": "python3",
      "display_name": "Python 3"
    }
  },
  "cells": [
    {
      "cell_type": "markdown",
      "metadata": {
        "id": "view-in-github",
        "colab_type": "text"
      },
      "source": [
        "<a href=\"https://colab.research.google.com/github/TruptiRedgaonkar/PythonRepo/blob/main/OOPS_Assignment.ipynb\" target=\"_parent\"><img src=\"https://colab.research.google.com/assets/colab-badge.svg\" alt=\"Open In Colab\"/></a>"
      ]
    },
    {
      "cell_type": "markdown",
      "metadata": {
        "id": "bQV0xMIcpM2U"
      },
      "source": [
        "1. Create an empty class"
      ]
    },
    {
      "cell_type": "code",
      "metadata": {
        "id": "1rHULVKkpMZU"
      },
      "source": [
        "class Employee:\r\n",
        "    pass"
      ],
      "execution_count": null,
      "outputs": []
    },
    {
      "cell_type": "markdown",
      "metadata": {
        "id": "V2KuEDvfpZ2n"
      },
      "source": [
        "\r\n",
        "\r\n",
        "```\r\n",
        "class Dog:\r\n",
        "  species = \"Canis familiaris\"\r\n",
        "  def __init__(self, name, age):\r\n",
        "      self.name = name\r\n",
        "      self.age = age\r\n",
        "buddy = Dog(\"Buddy\", 9)\r\n",
        "miles = Dog(\"Miles\", 4)\r\n",
        "```\r\n",
        "\r\n",
        "\r\n",
        "2. Given the Dog class above retrieve the Object and class\r\n",
        "attributes."
      ]
    },
    {
      "cell_type": "code",
      "metadata": {
        "colab": {
          "base_uri": "https://localhost:8080/"
        },
        "id": "DzPUpLIcpl2Q",
        "outputId": "b9fe8764-9a0e-4643-a9ff-52487a39634d"
      },
      "source": [
        "class Dog:\r\n",
        "  species = \"Canis familiaris\"\r\n",
        "  def __init__(self, name, age):\r\n",
        "      self.name = name\r\n",
        "      self.age = age\r\n",
        "buddy = Dog(\"Buddy\", 9)\r\n",
        "miles = Dog(\"Miles\", 4)\r\n",
        "\r\n",
        "print(f\"class attributes: \\n{Dog.species}\")\r\n",
        "\r\n",
        " \r\n",
        "print(\"-------------buddy details---------------\")\r\n",
        "print(f\"Class Attribute  {buddy.species}\")\r\n",
        "print(f\"Name    {buddy.name}\")\r\n",
        "print(f\"Age   {buddy.age}\")\r\n",
        "\r\n",
        " \r\n",
        "print(\"-------------miles details---------------\")\r\n",
        "print(f\"Class Attribute  {miles.species}\")\r\n",
        "print(f\"Name    {miles.name}\")\r\n",
        "print(f\"Age   {miles.age}\")\r\n",
        "\r\n",
        "\r\n",
        "\r\n"
      ],
      "execution_count": null,
      "outputs": [
        {
          "output_type": "stream",
          "text": [
            "class attributes: \n",
            "Canis familiaris\n",
            "-------------buddy details---------------\n",
            "Class Attribute  Canis familiaris\n",
            "Name    Buddy\n",
            "Age   9\n",
            "-------------miles details---------------\n",
            "Class Attribute  Canis familiaris\n",
            "Name    Miles\n",
            "Age   4\n"
          ],
          "name": "stdout"
        }
      ]
    },
    {
      "cell_type": "markdown",
      "metadata": {
        "id": "XUKVWOfcrF2F"
      },
      "source": [
        "3. Write a Python class named Circle constructed by a radius\r\n",
        "and two methods which will compute the area and the\r\n",
        "perimeter of a circle."
      ]
    },
    {
      "cell_type": "code",
      "metadata": {
        "colab": {
          "base_uri": "https://localhost:8080/"
        },
        "id": "6hz6jU-jrJED",
        "outputId": "67b74d0f-8b84-48d0-a5ae-8c31fa119420"
      },
      "source": [
        "class Circle:\r\n",
        "      PI=3.14\r\n",
        "      def __init__(self, radius):\r\n",
        "          self.radius=radius\r\n",
        "\r\n",
        "      def area (self ):\r\n",
        "          return Circle.PI* self.radius* self.radius\r\n",
        "          \r\n",
        "      def perimeter (self ):\r\n",
        "          return  2*Circle.PI*self.radius\r\n",
        "\r\n",
        "\r\n",
        "c= Circle(10)\r\n",
        "print(\"Area of circle = \",c.area())\r\n",
        "print(\"perimeter of circle = \", round(c.perimeter(),2))\r\n"
      ],
      "execution_count": null,
      "outputs": [
        {
          "output_type": "stream",
          "text": [
            "Area of circle =  314.0\n",
            "perimeter of circle =  62.8\n"
          ],
          "name": "stdout"
        }
      ]
    },
    {
      "cell_type": "markdown",
      "metadata": {
        "id": "rKIJeCOrtsMH"
      },
      "source": [
        "4. Write a Python class to reverse a string word by word.\r\n",
        "For example:\r\n",
        "Input string : 'hello world'\r\n",
        "Expected Output : 'world hello'"
      ]
    },
    {
      "cell_type": "code",
      "metadata": {
        "colab": {
          "base_uri": "https://localhost:8080/"
        },
        "id": "c6wX5X7utty0",
        "outputId": "e206845e-e642-43ec-c228-691e2137ce2e"
      },
      "source": [
        "class myClass:\r\n",
        "    \r\n",
        "      def __init__(self, word):\r\n",
        "          self.word=word\r\n",
        "\r\n",
        "      def reverse (self ):\r\n",
        "          return self.word[::-1]\r\n",
        "\r\n",
        "myWord = myClass(\"Hellos\")\r\n",
        "\r\n",
        "print(myWord.reverse())"
      ],
      "execution_count": null,
      "outputs": [
        {
          "output_type": "stream",
          "text": [
            "solleH\n"
          ],
          "name": "stdout"
        }
      ]
    },
    {
      "cell_type": "markdown",
      "metadata": {
        "id": "pnWWTCjluReO"
      },
      "source": [
        "5. Create a Student class and initialize it with name and roll\r\n",
        "number. Make methods to :\r\n",
        "i) Display - It should display all information of the student.\r\n",
        "ii)setAge - It should assign age to student\r\n",
        "iii) setMarks - It should assign marks to the student."
      ]
    },
    {
      "cell_type": "code",
      "metadata": {
        "colab": {
          "base_uri": "https://localhost:8080/"
        },
        "id": "0x6QOANGuYpw",
        "outputId": "59f313c1-3c8f-4299-ca43-22aa209352aa"
      },
      "source": [
        "class Student:\r\n",
        "      def __init__(self, name,rollNum):\r\n",
        "          self.name=name\r\n",
        "          self.rollNum=rollNum\r\n",
        "\r\n",
        "      def Display(self ):\r\n",
        "          print(\"Student Details : \")\r\n",
        "          print(\"Roll Number : \", self.rollNum)\r\n",
        "          print(\"Name : \", self.name)\r\n",
        "          \r\n",
        "      def setAge(self, age):\r\n",
        "          self.age = age\r\n",
        "\r\n",
        "      def getAge(self):\r\n",
        "          return self.age\r\n",
        "\r\n",
        "      def setMarks(self, marks):\r\n",
        "          self.marks = marks\r\n",
        "\r\n",
        "      def getMarks(self):\r\n",
        "          return self.marks \r\n",
        "\r\n",
        "\r\n",
        "myStudent = Student(\"Trupti Redgaonnkar\", 1001)\r\n",
        "myStudent.setAge(33)\r\n",
        "myStudent.setMarks(88)\r\n",
        "myStudent.Display()\r\n",
        "\r\n",
        "print(\"Age : \", myStudent.getAge())\r\n",
        "print(\"Marks : \", myStudent.getMarks())\r\n",
        "\r\n",
        "\r\n",
        "        "
      ],
      "execution_count": null,
      "outputs": [
        {
          "output_type": "stream",
          "text": [
            "Student Details : \n",
            "Roll Number :  1001\n",
            "Name :  Trupti Redgaonnkar\n",
            "Age :  33\n",
            "Marks :  88\n"
          ],
          "name": "stdout"
        }
      ]
    },
    {
      "cell_type": "markdown",
      "metadata": {
        "id": "h_9RLV6lwolM"
      },
      "source": [
        "6. Write a Python class named Rectangle constructed by a\r\n",
        "length and width and a method which will compute the area\r\n",
        "of a rectangle."
      ]
    },
    {
      "cell_type": "code",
      "metadata": {
        "colab": {
          "base_uri": "https://localhost:8080/"
        },
        "id": "1f028bbKwpa2",
        "outputId": "54c641b2-46b1-4518-fe53-b83d5b023953"
      },
      "source": [
        "class Rectangle:\r\n",
        "    def __init__(self, length , width):\r\n",
        "        self.length = length\r\n",
        "        self.width  = width\r\n",
        "    \r\n",
        "    def area(self):\r\n",
        "        return self.length*self.width\r\n",
        "\r\n",
        "myRectangle = Rectangle(10,12)\r\n",
        "\r\n",
        "print(\"\\n Area of a Rectangle is: \" , round( myRectangle.area(),2))"
      ],
      "execution_count": null,
      "outputs": [
        {
          "output_type": "stream",
          "text": [
            "\n",
            " Area of a Rectangle is:  120\n"
          ],
          "name": "stdout"
        }
      ]
    }
  ]
}