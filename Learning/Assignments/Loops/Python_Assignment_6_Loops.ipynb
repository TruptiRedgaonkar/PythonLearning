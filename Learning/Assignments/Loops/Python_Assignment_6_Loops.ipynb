{
  "nbformat": 4,
  "nbformat_minor": 0,
  "metadata": {
    "colab": {
      "name": "Python Assignment - 6 Loops.ipynb",
      "provenance": [],
      "collapsed_sections": [],
      "authorship_tag": "ABX9TyPbnQI9W0g2amZVBFmtF+qW",
      "include_colab_link": true
    },
    "kernelspec": {
      "name": "python3",
      "display_name": "Python 3"
    }
  },
  "cells": [
    {
      "cell_type": "markdown",
      "metadata": {
        "id": "view-in-github",
        "colab_type": "text"
      },
      "source": [
        "<a href=\"https://colab.research.google.com/github/TruptiRedgaonkar/PythonRepo/blob/main/Python_Assignment_6_Loops.ipynb\" target=\"_parent\"><img src=\"https://colab.research.google.com/assets/colab-badge.svg\" alt=\"Open In Colab\"/></a>"
      ]
    },
    {
      "cell_type": "markdown",
      "metadata": {
        "id": "qfo4pSSa_Wfe"
      },
      "source": [
        "1. Print First 10 natural numbers using while loop\n"
      ]
    },
    {
      "cell_type": "code",
      "metadata": {
        "colab": {
          "base_uri": "https://localhost:8080/"
        },
        "id": "l_tBDwop_RfQ",
        "outputId": "ee382ed0-2eb5-4799-c527-8cd011962f43"
      },
      "source": [
        "i=1\n",
        "while i<= 10:\n",
        "  print(i)\n",
        "  i=i+1\n",
        "\n"
      ],
      "execution_count": null,
      "outputs": [
        {
          "output_type": "stream",
          "text": [
            "1\n",
            "2\n",
            "3\n",
            "4\n",
            "5\n",
            "6\n",
            "7\n",
            "8\n",
            "9\n",
            "10\n"
          ],
          "name": "stdout"
        }
      ]
    },
    {
      "cell_type": "markdown",
      "metadata": {
        "id": "6fRq36Nv_-Dq"
      },
      "source": [
        "2. Display -10 to -1 using for loop\n"
      ]
    },
    {
      "cell_type": "code",
      "metadata": {
        "colab": {
          "base_uri": "https://localhost:8080/"
        },
        "id": "jHKmgyoeAB1F",
        "outputId": "c572a297-10b8-4d3b-9642-f51702bc4eb4"
      },
      "source": [
        "numbervale=10\n",
        "for i in range(10):\n",
        "    print (numbervale)\n",
        "    numbervale = numbervale-1"
      ],
      "execution_count": null,
      "outputs": [
        {
          "output_type": "stream",
          "text": [
            "10\n",
            "9\n",
            "8\n",
            "7\n",
            "6\n",
            "5\n",
            "4\n",
            "3\n",
            "2\n",
            "1\n"
          ],
          "name": "stdout"
        }
      ]
    },
    {
      "cell_type": "markdown",
      "metadata": {
        "id": "3otFq_G3BNdO"
      },
      "source": [
        "3 Write a python program to print the factorial of a given number"
      ]
    },
    {
      "cell_type": "code",
      "metadata": {
        "colab": {
          "base_uri": "https://localhost:8080/"
        },
        "id": "i7TwlMoLBMMp",
        "outputId": "857eb211-c2f9-495f-9677-7edd4a4513ec"
      },
      "source": [
        "num = int(input(\"Please enter the number to find factorial : \"))\n",
        "\n",
        "factorial = 1\n",
        "if num < 0:\n",
        "   print(\"Sorry, does not exist for negative numbers\")\n",
        "elif num == 0:\n",
        "   print(\"The factorial of 0 is 1\")\n",
        "else:\n",
        "   for i in range(1,num + 1):\n",
        "       factorial = factorial*i\n",
        "   print(\"The factorial of\",num,\"is\",factorial)"
      ],
      "execution_count": null,
      "outputs": [
        {
          "output_type": "stream",
          "text": [
            "Please enter the number to find factorial : 5\n",
            "The factorial of 5 is 120\n"
          ],
          "name": "stdout"
        }
      ]
    },
    {
      "cell_type": "markdown",
      "metadata": {
        "id": "2WXO0t0bCDyw"
      },
      "source": [
        "4 Write a python program to print all prime numbers\n",
        "between 0 to 100 , and print how many prime numbers\n",
        "are there.\n"
      ]
    },
    {
      "cell_type": "code",
      "metadata": {
        "id": "UkVeZCAKCTin",
        "colab": {
          "base_uri": "https://localhost:8080/"
        },
        "outputId": "d318a212-9deb-43f6-bd84-350eda50071f"
      },
      "source": [
        "rangeValue=100\n",
        "\n",
        "for num in range(rangeValue+1):\n",
        "  isPrime = True\n",
        "  if num>1:\n",
        "      for j in range(2,num):\n",
        "          if num % j == 0:\n",
        "              isPrime=False\n",
        "              break\n",
        "      if isPrime==True:\n",
        "          print(num)\n"
      ],
      "execution_count": null,
      "outputs": [
        {
          "output_type": "stream",
          "text": [
            "2\n",
            "3\n",
            "5\n",
            "7\n",
            "11\n",
            "13\n",
            "17\n",
            "19\n",
            "23\n",
            "29\n",
            "31\n",
            "37\n",
            "41\n",
            "43\n",
            "47\n",
            "53\n",
            "59\n",
            "61\n",
            "67\n",
            "71\n",
            "73\n",
            "79\n",
            "83\n",
            "89\n",
            "97\n"
          ],
          "name": "stdout"
        }
      ]
    },
    {
      "cell_type": "markdown",
      "metadata": {
        "id": "WsE2W6mkCT23"
      },
      "source": [
        "5.Print the following pattern :\n",
        "\n",
        "```\n",
        "1\n",
        "1 2\n",
        "1 2 3\n",
        "1 2 3 4\n",
        "1 2 3 4 5\n",
        "```\n",
        "\n",
        "\n"
      ]
    },
    {
      "cell_type": "code",
      "metadata": {
        "colab": {
          "base_uri": "https://localhost:8080/"
        },
        "id": "OmhAYzcHCp94",
        "outputId": "b63dd21f-0e12-41c3-fd94-2dbd152e2049"
      },
      "source": [
        "num= int(input(\"Please enter the value for n \"))\n",
        "for i in range(1,num+1):\n",
        " for j in (range(1,i+1)):\n",
        "    print(j , end=\" \")\n",
        " print(\"\")"
      ],
      "execution_count": null,
      "outputs": [
        {
          "output_type": "stream",
          "text": [
            "Please enter the value for n 5\n",
            "1 \n",
            "1 2 \n",
            "1 2 3 \n",
            "1 2 3 4 \n",
            "1 2 3 4 5 \n"
          ],
          "name": "stdout"
        }
      ]
    },
    {
      "cell_type": "markdown",
      "metadata": {
        "id": "_kRzmUU3FTxy"
      },
      "source": [
        "6 Accept n number from user and calculate the sum of all\n",
        "number between 1 and n including n"
      ]
    },
    {
      "cell_type": "code",
      "metadata": {
        "colab": {
          "base_uri": "https://localhost:8080/"
        },
        "id": "tqQ0OrBUDGkN",
        "outputId": "7c516dd8-1369-49ba-ad9c-a43090311a79"
      },
      "source": [
        "num= int(input(\"Please enter the value for n \"))\n",
        "sum=0\n",
        "for i in range(1,num+1):\n",
        "  sum=sum+i\n",
        "sum"
      ],
      "execution_count": null,
      "outputs": [
        {
          "output_type": "stream",
          "text": [
            "Please enter the value for n 5\n"
          ],
          "name": "stdout"
        },
        {
          "output_type": "execute_result",
          "data": {
            "text/plain": [
              "15"
            ]
          },
          "metadata": {
            "tags": []
          },
          "execution_count": 34
        }
      ]
    },
    {
      "cell_type": "markdown",
      "metadata": {
        "id": "sMwIrdWbFxsF"
      },
      "source": [
        "7. Given a number count the total number of digits in a number"
      ]
    },
    {
      "cell_type": "code",
      "metadata": {
        "colab": {
          "base_uri": "https://localhost:8080/"
        },
        "id": "r54Yh0C2F1QM",
        "outputId": "34150895-aeec-4f76-f76d-c17bf1938e97"
      },
      "source": [
        "num= input(\"Please enter the value for n \")\n",
        "print(f\"the number of digits in {num} is {len(num)}\")"
      ],
      "execution_count": null,
      "outputs": [
        {
          "output_type": "stream",
          "text": [
            "Please enter the value for n 2555\n",
            "the number of digits in 2555 is 4\n"
          ],
          "name": "stdout"
        }
      ]
    },
    {
      "cell_type": "markdown",
      "metadata": {
        "id": "9DTlEu3RGlrN"
      },
      "source": [
        "8. Write a Python program to create the multiplication table(from 1 to 10) of a number."
      ]
    },
    {
      "cell_type": "code",
      "metadata": {
        "colab": {
          "base_uri": "https://localhost:8080/"
        },
        "id": "y4R4YN0IGrcu",
        "outputId": "3b0593a1-d69e-407b-8c3e-6fb88215d0d9"
      },
      "source": [
        "for i in range(1,11):\n",
        " for j in (range(1,11)):\n",
        "    print('{:4}'.format(i*j) , end=\" \")\n",
        " print(\"\")"
      ],
      "execution_count": null,
      "outputs": [
        {
          "output_type": "stream",
          "text": [
            "   1    2    3    4    5    6    7    8    9   10 \n",
            "   2    4    6    8   10   12   14   16   18   20 \n",
            "   3    6    9   12   15   18   21   24   27   30 \n",
            "   4    8   12   16   20   24   28   32   36   40 \n",
            "   5   10   15   20   25   30   35   40   45   50 \n",
            "   6   12   18   24   30   36   42   48   54   60 \n",
            "   7   14   21   28   35   42   49   56   63   70 \n",
            "   8   16   24   32   40   48   56   64   72   80 \n",
            "   9   18   27   36   45   54   63   72   81   90 \n",
            "  10   20   30   40   50   60   70   80   90  100 \n"
          ],
          "name": "stdout"
        }
      ]
    },
    {
      "cell_type": "markdown",
      "metadata": {
        "id": "xYrSR9aMIUAV"
      },
      "source": [
        "9 Reverse the following list using for loop\n",
        "list1 = [10, 20, 30, 40, 50]\n"
      ]
    },
    {
      "cell_type": "code",
      "metadata": {
        "colab": {
          "base_uri": "https://localhost:8080/"
        },
        "id": "IzYBCSX7IYPN",
        "outputId": "59dda443-7b45-497d-8a5a-93e5131cc41c"
      },
      "source": [
        "list1 = [10, 20, 30, 40, 50]\n",
        "reverseList=[]\n",
        "for i in range(len(list1)):\n",
        "    popedStr= list1.pop()\n",
        "    reverseList.append(popedStr)\n",
        "reverseList"
      ],
      "execution_count": null,
      "outputs": [
        {
          "output_type": "execute_result",
          "data": {
            "text/plain": [
              "[50, 40, 30, 20, 10]"
            ]
          },
          "metadata": {
            "tags": []
          },
          "execution_count": 50
        }
      ]
    },
    {
      "cell_type": "markdown",
      "metadata": {
        "id": "SOaVOXeuKu2X"
      },
      "source": [
        "10. Write a Python program to construct the following\n",
        "pattern, using a nested for loop.\n",
        "\n",
        "\n",
        "---\n",
        "\n",
        "\n",
        "```\n",
        "*\n",
        "* *\n",
        "* * *\n",
        "* * * *\n",
        "* * * * *\n",
        "* * * *\n",
        "* * *\n",
        "* *\n",
        "*\n",
        "```\n"
      ]
    },
    {
      "cell_type": "code",
      "metadata": {
        "colab": {
          "base_uri": "https://localhost:8080/"
        },
        "id": "n6pVe1VYKwXg",
        "outputId": "344f2b4a-50a4-4e4b-b604-f5b399b11315"
      },
      "source": [
        "for i in range(6):\n",
        "  for j in range(i):\n",
        "    print(\"*\" , end=\" \")\n",
        "  print(\"\") \n",
        "count =4\n",
        "for i in range(5):\n",
        "  for j in range(count):\n",
        "    print(\"*\" , end=\" \")\n",
        "  print(\"\") \n",
        "  count=count-1\n"
      ],
      "execution_count": null,
      "outputs": [
        {
          "output_type": "stream",
          "text": [
            "\n",
            "* \n",
            "* * \n",
            "* * * \n",
            "* * * * \n",
            "* * * * * \n",
            "* * * * \n",
            "* * * \n",
            "* * \n",
            "* \n",
            "\n"
          ],
          "name": "stdout"
        }
      ]
    },
    {
      "cell_type": "markdown",
      "metadata": {
        "id": "pf10heEOQzr_"
      },
      "source": [
        "11.Write a Python program that accepts a string and\n",
        "calculate the number of digits and letters."
      ]
    },
    {
      "cell_type": "code",
      "metadata": {
        "colab": {
          "base_uri": "https://localhost:8080/"
        },
        "id": "-yYni_WPQzXm",
        "outputId": "5e8fc243-db4c-4af0-ddca-e1be98681d78"
      },
      "source": [
        "inputstr = input('please enter the string ')\n",
        "\n",
        "countdigit=0\n",
        "countletters=0\n",
        "\n",
        "for char in inputstr:\n",
        "    if char.isalpha():\n",
        "      countletters=countletters+1\n",
        "    else:\n",
        "       countdigit =countdigit+1\n",
        "print(f\"{inputstr} contains {countdigit} digits and {countletters} letters.\")"
      ],
      "execution_count": null,
      "outputs": [
        {
          "output_type": "stream",
          "text": [
            "please enter the string s67890\n",
            "s67890 contains 5 digits and 1 letters.\n"
          ],
          "name": "stdout"
        }
      ]
    },
    {
      "cell_type": "markdown",
      "metadata": {
        "id": "8YsAhkwCSNkB"
      },
      "source": [
        "12. From a list containing ints, strings and floats, make\n",
        "three lists to store them separately."
      ]
    },
    {
      "cell_type": "code",
      "metadata": {
        "colab": {
          "base_uri": "https://localhost:8080/"
        },
        "id": "3cBcKJuXS-lp",
        "outputId": "2337e54a-d668-4a25-da18-658f234088da"
      },
      "source": [
        "listItem = ['def',11,10.6,16 ,'abc',15.9]\n",
        "\n",
        "intList=[]\n",
        "floatList=[]\n",
        "stringList=[]\n",
        "speciallist=[]\n",
        "\n",
        "for i in listItem :\n",
        "  if isinstance(i, int):\n",
        "    intList.append(i)\n",
        "  elif isinstance(i, float):\n",
        "    floatList.append(i)\n",
        "  elif isinstance(i, str):\n",
        "    stringList.append(i)\n",
        "  else:\n",
        "    speciallist.append(i)\n",
        "\n",
        "print(f\"Int list {intList}\")\n",
        "print(f\"Float list {floatList}\")\n",
        "print(f\"String list {stringList}\")  "
      ],
      "execution_count": null,
      "outputs": [
        {
          "output_type": "stream",
          "text": [
            "Int list [11, 16]\n",
            "Float list [10.6, 15.9]\n",
            "String list ['def', 'abc']\n"
          ],
          "name": "stdout"
        }
      ]
    }
  ]
}