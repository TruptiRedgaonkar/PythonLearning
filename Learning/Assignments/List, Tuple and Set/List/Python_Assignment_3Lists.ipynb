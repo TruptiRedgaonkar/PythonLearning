{
  "nbformat": 4,
  "nbformat_minor": 0,
  "metadata": {
    "colab": {
      "name": "Python Assignment_3Lists.ipynb",
      "provenance": [],
      "collapsed_sections": [],
      "authorship_tag": "ABX9TyMqcGsloerafTfIWb0vRhm7",
      "include_colab_link": true
    },
    "kernelspec": {
      "name": "python3",
      "display_name": "Python 3"
    }
  },
  "cells": [
    {
      "cell_type": "markdown",
      "metadata": {
        "id": "view-in-github",
        "colab_type": "text"
      },
      "source": [
        "<a href=\"https://colab.research.google.com/github/TruptiRedgaonkar/PythonRepo/blob/main/Python_Assignment_3Lists.ipynb\" target=\"_parent\"><img src=\"https://colab.research.google.com/assets/colab-badge.svg\" alt=\"Open In Colab\"/></a>"
      ]
    },
    {
      "cell_type": "markdown",
      "metadata": {
        "id": "UHShL4XPxrMt"
      },
      "source": [
        "1. City = [‘Gurgaon’, ’Mumbai’, ’Bangalore’]\n",
        "```\n",
        "i) Print the second item from the list.\n",
        "ii) Change the value from \"Gurgaon\" to \"Kerala\"\n",
        "iii) Remove the last element of the list\n",
        "```"
      ]
    },
    {
      "cell_type": "code",
      "metadata": {
        "colab": {
          "base_uri": "https://localhost:8080/"
        },
        "id": "MN5nqEDlwLsb",
        "outputId": "7debb7f3-39b4-4744-bda3-5c460ba5a10f"
      },
      "source": [
        "City = ['Gurgaon', 'Mumbai', 'Bangalore']\n",
        "#i) Print the second item from the list.\n",
        "print(f\"Second item in list is {City[1]}\") \n",
        "\n",
        "#ii) Change the value from \"Gurgaon\" to \"Kerala\"\n",
        "\n",
        "City[0] = 'Kerala'\n",
        "print(f\"first  item in list is {City[0]}\") \n",
        "\n",
        "#iii) Remove the last element of the list.\n",
        "City.pop()\n",
        "print(f\"list after removing last element {City}\") "
      ],
      "execution_count": null,
      "outputs": [
        {
          "output_type": "stream",
          "text": [
            "Second item in list is Mumbai\n",
            "first  item in list is Kerala\n",
            "list after removing last element ['Kerala', 'Mumbai']\n"
          ],
          "name": "stdout"
        }
      ]
    },
    {
      "cell_type": "markdown",
      "metadata": {
        "id": "tdVSd5qRyKa9"
      },
      "source": [
        "2. Use negative indexing to print the last item in the list. Make\n",
        "a list by yourself."
      ]
    },
    {
      "cell_type": "code",
      "metadata": {
        "colab": {
          "base_uri": "https://localhost:8080/"
        },
        "id": "v8SRLukCyNN_",
        "outputId": "99c6f673-cb15-4b2f-83d3-4a2cfb7289b1"
      },
      "source": [
        "sampleList = ['abc', 'def', '111']\n",
        "\n",
        "print(f\"first  item in list is {sampleList[-1]}\") \n"
      ],
      "execution_count": null,
      "outputs": [
        {
          "output_type": "stream",
          "text": [
            "first  item in list is 111\n"
          ],
          "name": "stdout"
        }
      ]
    },
    {
      "cell_type": "markdown",
      "metadata": {
        "id": "bCjnshVpyk6z"
      },
      "source": [
        "3. Use a range of indexes to print the third, fourth, and fifth\n",
        "item in the list. Make a list by yourself"
      ]
    },
    {
      "cell_type": "code",
      "metadata": {
        "colab": {
          "base_uri": "https://localhost:8080/"
        },
        "id": "yhICi-dXynuO",
        "outputId": "45bfa606-99d7-4ec5-b54a-457e467f2e82"
      },
      "source": [
        "fruitslist=['apple','lichi','guava','cherry','mango','watermelon','banana']\n",
        "\n",
        "print(f\"third, fourth, and fifth item in the list respectively are {fruitslist[2:5]}\")"
      ],
      "execution_count": null,
      "outputs": [
        {
          "output_type": "stream",
          "text": [
            "third, fourth, and fifth item in the list respectively are ['guava', 'cherry', 'mango']\n"
          ],
          "name": "stdout"
        }
      ]
    },
    {
      "cell_type": "markdown",
      "metadata": {
        "id": "JhyMC-ZLyzMT"
      },
      "source": [
        "4. Remove the last element from the city list\n"
      ]
    },
    {
      "cell_type": "code",
      "metadata": {
        "colab": {
          "base_uri": "https://localhost:8080/"
        },
        "id": "EP8LbJ9Ay1Im",
        "outputId": "b9d6c2ee-54de-47cd-f2a4-b6e2720f6f0c"
      },
      "source": [
        "City.pop()\n",
        "\n",
        "print(f\"City list is {City}\") "
      ],
      "execution_count": null,
      "outputs": [
        {
          "output_type": "stream",
          "text": [
            "City list is ['Kerala']\n"
          ],
          "name": "stdout"
        }
      ]
    },
    {
      "cell_type": "markdown",
      "metadata": {
        "id": "FPlZRFoF1r1Z"
      },
      "source": [
        "4. fruits=[‘apple’,’lichi’,’guava’,’cherry’,’mango’,’watermelon’,’banana’]\n",
        "\n",
        "```\n",
        " i) Add \"orange\" at the end of the above list.\n",
        "ii) Add \"lemon\" as the second item in the fruits list\n",
        "```"
      ]
    },
    {
      "cell_type": "code",
      "metadata": {
        "colab": {
          "base_uri": "https://localhost:8080/"
        },
        "id": "y1nQG6JV0ySP",
        "outputId": "4da7f66e-24d8-42e7-bf60-d00a5f8634fc"
      },
      "source": [
        "fruits=['apple','lichi','guava','cherry','mango','watermelon','banana']\n",
        "fruits.append(\"orange\")\n",
        "fruits.insert(1,\"lemon\")\n",
        "fruits"
      ],
      "execution_count": null,
      "outputs": [
        {
          "output_type": "execute_result",
          "data": {
            "text/plain": [
              "['apple',\n",
              " 'lemon',\n",
              " 'lichi',\n",
              " 'guava',\n",
              " 'cherry',\n",
              " 'mango',\n",
              " 'watermelon',\n",
              " 'banana',\n",
              " 'orange']"
            ]
          },
          "metadata": {
            "tags": []
          },
          "execution_count": 25
        }
      ]
    },
    {
      "cell_type": "markdown",
      "metadata": {
        "id": "0crlbyMq3w5Q"
      },
      "source": [
        "6. Remove ‘cherry’ from the fruit list given above.\n"
      ]
    },
    {
      "cell_type": "code",
      "metadata": {
        "colab": {
          "base_uri": "https://localhost:8080/"
        },
        "id": "wDwpMI2A3zIF",
        "outputId": "f0f92121-5c34-4781-f3e1-67e55aae26d6"
      },
      "source": [
        "fruits.pop(4)\n",
        "fruits"
      ],
      "execution_count": null,
      "outputs": [
        {
          "output_type": "execute_result",
          "data": {
            "text/plain": [
              "['apple', 'lemon', 'lichi', 'guava', 'mango', 'watermelon', 'banana', 'orange']"
            ]
          },
          "metadata": {
            "tags": []
          },
          "execution_count": 26
        }
      ]
    },
    {
      "cell_type": "markdown",
      "metadata": {
        "id": "Y9yxnbuB3ySd"
      },
      "source": [
        "7. Write the python program to let the user input a list of\n",
        "numbers and print the list in descending order.\n"
      ]
    },
    {
      "cell_type": "code",
      "metadata": {
        "colab": {
          "base_uri": "https://localhost:8080/"
        },
        "id": "QdlAprXD4bAV",
        "outputId": "ff66ded9-418f-41bf-bc2f-1d0591201fcb"
      },
      "source": [
        "numberList = []\n",
        "\n",
        "while(True):\n",
        "    num =input (\"please enter number (e to exit)\")\n",
        "    if num == 'e':\n",
        "      break\n",
        "    else:\n",
        "      numberList.append(num)\n",
        "\n",
        "print(f\"unsorted number list {numberList }\")\n",
        "numberList.sort()\n",
        "\n",
        "print(f\"sorted number list {numberList }\")\n",
        "\n"
      ],
      "execution_count": null,
      "outputs": [
        {
          "output_type": "stream",
          "text": [
            "please enter number (e to exit)6\n",
            "please enter number (e to exit)3\n",
            "please enter number (e to exit)8\n",
            "please enter number (e to exit)2\n",
            "please enter number (e to exit)5\n",
            "please enter number (e to exit)e\n",
            "unsorted number list ['6', '3', '8', '2', '5']\n",
            "sorted number list ['2', '3', '5', '6', '8']\n"
          ],
          "name": "stdout"
        }
      ]
    },
    {
      "cell_type": "markdown",
      "metadata": {
        "id": "TRXA1B8E8XIs"
      },
      "source": [
        "8 Write the python program to let the user input two lists and\n",
        "combine both the lists.\n"
      ]
    },
    {
      "cell_type": "code",
      "metadata": {
        "colab": {
          "base_uri": "https://localhost:8080/"
        },
        "id": "zDjoNPpA8WL_",
        "outputId": "d5f61c8d-25de-4faf-8611-9d654e08961a"
      },
      "source": [
        "list1 = []\n",
        "list2 = []\n",
        "\n",
        "while(True):\n",
        "    inputStr =input (\"please values for list1 (e to exit)\")\n",
        "    if inputStr == 'e':\n",
        "      break\n",
        "    else:\n",
        "      list1.append(inputStr)\n",
        "print(\"\\n---------------\")\n",
        "while(True):\n",
        "    inputStr =input (\"please values for list2 (e to exit)\")\n",
        "    if inputStr == 'e':\n",
        "      break\n",
        "    else:\n",
        "      list2.append(inputStr)\n",
        "print(\"\\n---------------\")\n",
        "print(f\"list1 {list1 }\")\n",
        "print(\"\\n---------------\")\n",
        "print(f\"list2 {list2 }\")\n",
        "\n",
        "list1.extend(list2)\n",
        "print(\"\\n---------------\")\n",
        "print(f\"list1 after combining with list2 {list1 }\")\n"
      ],
      "execution_count": null,
      "outputs": [
        {
          "output_type": "stream",
          "text": [
            "please values for list1 (e to exit)apple\n",
            "please values for list1 (e to exit)banana\n",
            "please values for list1 (e to exit)orannge\n",
            "please values for list1 (e to exit)e\n",
            "\n",
            "---------------\n",
            "please values for list2 (e to exit)guava\n",
            "please values for list2 (e to exit)cherry\n",
            "please values for list2 (e to exit)e\n",
            "\n",
            "---------------\n",
            "list1 ['apple', 'banana', 'orannge']\n",
            "\n",
            "---------------\n",
            "list2 ['guava', 'cherry']\n",
            "\n",
            "---------------\n",
            "list1 after combining with list2 ['apple', 'banana', 'orannge', 'guava', 'cherry']\n"
          ],
          "name": "stdout"
        }
      ]
    },
    {
      "cell_type": "markdown",
      "metadata": {
        "id": "OgMWsgDw-DBl"
      },
      "source": [
        "9 List = [10, 45, 78, 11, 9, 23]. Shuffle this list"
      ]
    },
    {
      "cell_type": "code",
      "metadata": {
        "colab": {
          "base_uri": "https://localhost:8080/"
        },
        "id": "OVV1h-On-Cg7",
        "outputId": "684894d4-019e-4a8c-c3df-12fdf32f65a6"
      },
      "source": [
        "import random\n",
        "List = [10, 45, 78, 11, 9, 23]\n",
        "print(f\"original List {List }\")\n",
        "random.shuffle(List)\n",
        "print(f\"shuffled List {List }\")"
      ],
      "execution_count": null,
      "outputs": [
        {
          "output_type": "stream",
          "text": [
            "original List [10, 45, 78, 11, 9, 23]\n",
            "shuffled List [9, 11, 10, 45, 23, 78]\n"
          ],
          "name": "stdout"
        }
      ]
    },
    {
      "cell_type": "markdown",
      "metadata": {
        "id": "WhCsibX8_zM5"
      },
      "source": [
        " x = [10, [3.141, 20, [30, 'baz', 2.718]], 'foo']\n",
        " ```\n",
        " i) What is the expression that returns the 'z' in 'baz'?\n",
        " ii) What expression returns the list ['baz', 2.718]?\n",
        "```\n",
        "\n",
        "11 Extract element 20 from the above list\n",
        "\n"
      ]
    },
    {
      "cell_type": "code",
      "metadata": {
        "colab": {
          "base_uri": "https://localhost:8080/"
        },
        "id": "FPgbxM76ABxa",
        "outputId": "5666d228-78a8-44af-ad81-3508612e33b5"
      },
      "source": [
        "x = [10, [3.141, 20, [30, 'baz', 2.718]], 'foo']\n",
        "\n",
        "sublist = x[1][2]\n",
        "\n",
        "print(f\"'z' in 'baz' is rerurned by sublist[1][2]  {sublist[1][2]}\")\n",
        "print(f\"list ['baz', 2.718] is retuned by sublist[1:] {sublist[1:]}\")\n",
        "print(f\"20 is retuned by x[1][1] {x[1][1]}\")\n"
      ],
      "execution_count": null,
      "outputs": [
        {
          "output_type": "stream",
          "text": [
            "'z' in 'baz' is rerurned by sublist[1][2]  z\n",
            "list ['baz', 2.718] is retuned by sublist[1:] ['baz', 2.718]\n",
            "20 is retuned by x[1][1] 20\n"
          ],
          "name": "stdout"
        }
      ]
    },
    {
      "cell_type": "markdown",
      "metadata": {
        "id": "BzQWytkbDuDV"
      },
      "source": [
        "12. You have a list a = [1, 2, 7, 8]\n",
        "Write a Python statement using slice assignment that will fill in\n",
        "the missing values so that a equals [1, 2, 3, 4, 5, 6, 7, 8]"
      ]
    },
    {
      "cell_type": "code",
      "metadata": {
        "colab": {
          "base_uri": "https://localhost:8080/"
        },
        "id": "6DfvOr2WEl-4",
        "outputId": "b740adef-6b4f-44b2-98bb-8037f2df1516"
      },
      "source": [
        "a = [1, 2, 7, 8]\n",
        "list2 = a[2:]\n",
        "a[2:6] = [3,4,5,6]\n",
        "a.extend(list2)\n",
        "print(a)\n",
        "\n",
        "a = [1, 2, 7, 8]\n",
        "a[4:] = [3,4,5,6]\n",
        "a.sort()\n",
        "print(a)\n"
      ],
      "execution_count": null,
      "outputs": [
        {
          "output_type": "stream",
          "text": [
            "[1, 2, 3, 4, 5, 6, 7, 8]\n",
            "[1, 2, 3, 4, 5, 6, 7, 8]\n"
          ],
          "name": "stdout"
        }
      ]
    }
  ]
}