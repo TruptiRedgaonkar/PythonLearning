{
  "nbformat": 4,
  "nbformat_minor": 0,
  "metadata": {
    "colab": {
      "name": "PythinsBasic.ipynb",
      "provenance": [],
      "include_colab_link": true
    },
    "kernelspec": {
      "name": "python3",
      "display_name": "Python 3"
    }
  },
  "cells": [
    {
      "cell_type": "markdown",
      "metadata": {
        "id": "view-in-github",
        "colab_type": "text"
      },
      "source": [
        "<a href=\"https://colab.research.google.com/github/TruptiRedgaonkar/pythonrepo/blob/main/DataFolkz/Assignments/Basics/PythinsBasic.ipynb\" target=\"_parent\"><img src=\"https://colab.research.google.com/assets/colab-badge.svg\" alt=\"Open In Colab\"/></a>"
      ]
    },
    {
      "cell_type": "markdown",
      "metadata": {
        "id": "VS9onjpankdk"
      },
      "source": [
        "Import keyword library and print list of keywords along with\n",
        "total number of keywords"
      ]
    },
    {
      "cell_type": "code",
      "metadata": {
        "id": "Cr0Mhe25nSYG",
        "colab": {
          "base_uri": "https://localhost:8080/"
        },
        "outputId": "0d87c13e-c4cc-4aee-fb27-99b8f3afb9dc"
      },
      "source": [
        "import keyword # import the library Keyword\n",
        "\n",
        "print(keyword.kwlist) \n",
        "\n",
        "print(\"Total number of keywords \", len(keyword.kwlist))"
      ],
      "execution_count": null,
      "outputs": [
        {
          "output_type": "stream",
          "text": [
            "['False', 'None', 'True', 'and', 'as', 'assert', 'break', 'class', 'continue', 'def', 'del', 'elif', 'else', 'except', 'finally', 'for', 'from', 'global', 'if', 'import', 'in', 'is', 'lambda', 'nonlocal', 'not', 'or', 'pass', 'raise', 'return', 'try', 'while', 'with', 'yield']\n",
            "Total number of keywords  33\n"
          ],
          "name": "stdout"
        }
      ]
    },
    {
      "cell_type": "markdown",
      "metadata": {
        "id": "DnCjgiT1ngmH"
      },
      "source": [
        "In Markdown State, Copy Python keywords image from Google\n",
        "Images and Paste it in your notebook\n",
        "   \n",
        "<img src=\"https://drive.google.com/uc?id=1paP7g_3Z3dBF-YJDOWRP0Su26pcD2LIw\" />"
      ]
    },
    {
      "cell_type": "markdown",
      "metadata": {
        "id": "YSjiLkJAnxT3"
      },
      "source": [
        "Create two strings a and b with any integer values stored in it\n",
        "And perform Addition, Multiplication, Subtraction and a2 +b2"
      ]
    },
    {
      "cell_type": "code",
      "metadata": {
        "id": "OUyn9qZ1nyOY",
        "colab": {
          "base_uri": "https://localhost:8080/"
        },
        "outputId": "fe04a3c4-f4e2-4db2-fe2c-f7b9a70aa446"
      },
      "source": [
        "a = input(\"Enter value of a \")\n",
        "b=  input(\"Enter value of b \")\n",
        "\n",
        "print(\"Addition of a and b\" , int(a)+int(b))\n",
        "print(\"multiplication of a and b\" , int(a)*int(b))\n",
        "print(\"Addition of a and b\" , int(a)-int(b))\n",
        "print(\"Addition of a and b\" , int(a)+int(b))\n",
        "print(\"Addition of a and b\" , (int(a)**2)+(int(b)**2))"
      ],
      "execution_count": null,
      "outputs": [
        {
          "output_type": "stream",
          "text": [
            "Enter value of a 3\n",
            "Enter value of b 4\n",
            "Addition of a and b 7\n",
            "multiplication of a and b 12\n",
            "Addition of a and b -1\n",
            "Addition of a and b 7\n",
            "Addition of a and b 25\n"
          ],
          "name": "stdout"
        }
      ]
    },
    {
      "cell_type": "markdown",
      "metadata": {
        "id": "gYJjL9dUpKFw"
      },
      "source": [
        "Create two strings x and y with any integer values stored in it\n",
        "And perform bitwise operations (&,^, | ,>>,<<)**bold text**"
      ]
    },
    {
      "cell_type": "code",
      "metadata": {
        "id": "vaVFkgeypJxD"
      },
      "source": [
        "x = input(\"Enter value of x \")\n",
        "y=  input(\"Enter value of y \")\n",
        "print(\"Addition of a and b\" , int(a)+int(b))\n",
        "print(\"multiplication of a and b\" , int(a)*int(b))\n",
        "print(\"Addition of a and b\" , int(a)-int(b))"
      ],
      "execution_count": null,
      "outputs": []
    }
  ]
}