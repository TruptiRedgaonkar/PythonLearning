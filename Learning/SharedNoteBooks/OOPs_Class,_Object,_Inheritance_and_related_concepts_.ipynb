{
  "nbformat": 4,
  "nbformat_minor": 0,
  "metadata": {
    "kernelspec": {
      "display_name": "Python 3",
      "language": "python",
      "name": "python3"
    },
    "language_info": {
      "codemirror_mode": {
        "name": "ipython",
        "version": 3
      },
      "file_extension": ".py",
      "mimetype": "text/x-python",
      "name": "python",
      "nbconvert_exporter": "python",
      "pygments_lexer": "ipython3",
      "version": "3.6.8"
    },
    "colab": {
      "name": "OOPs - Class, Object, Inheritance and related concepts .ipynb",
      "provenance": [],
      "collapsed_sections": [],
      "include_colab_link": true
    }
  },
  "cells": [
    {
      "cell_type": "markdown",
      "metadata": {
        "id": "view-in-github",
        "colab_type": "text"
      },
      "source": [
        "<a href=\"https://colab.research.google.com/github/TruptiRedgaonkar/pythonrepo/blob/main/DataFolkz/SharedNoteBooks/OOPs_Class%2C_Object%2C_Inheritance_and_related_concepts_.ipynb\" target=\"_parent\"><img src=\"https://colab.research.google.com/assets/colab-badge.svg\" alt=\"Open In Colab\"/></a>"
      ]
    },
    {
      "cell_type": "markdown",
      "metadata": {
        "id": "OHXYbXhskEzq"
      },
      "source": [
        "Python Objects and Classes\n",
        "--\n",
        "\n",
        "Python is an object oriented programming language. Unlike procedure oriented programming, where the main emphasis is on functions, object oriented programming stresses on objects.\n",
        "\n",
        "An object is simply a collection of data (variables) and methods (functions) that act on those data. Similarly, a class is a blueprint for that object.\n",
        "\n",
        "We can think of class as a sketch (prototype) of a house. It contains all the details about the floors, doors, windows etc. Based on these descriptions we build the house. House is the object.\n",
        "\n",
        "As many houses can be made from a house's blueprint, we can create many objects from a class. An object is also called an instance of a class and the process of creating this object is called instantiation.\n",
        "\n",
        "\n",
        "**`Defining a Class in Python`**\n",
        "\n",
        "Like function definitions begin with the def keyword in Python, class definitions begin with a class keyword."
      ]
    },
    {
      "cell_type": "markdown",
      "metadata": {
        "id": "OG75NM7NkEzr"
      },
      "source": [
        "<hr />\n",
        "\n",
        "**This Notebook is authored by Master Data Science Trainer & Consultant - Mr. Rocky Jagtiani**\n",
        "\n",
        "Connect with him on **linkedin** and follow his company page - **Suven Consultants & Technology Pvt Ltd.** to know <font color='green'><b>about best Job offers for lateral hiring</b></font> ( `3 to 15 yrs work-ex IT profiles` )\n",
        "\n",
        "<hr />"
      ]
    },
    {
      "cell_type": "code",
      "metadata": {
        "id": "2fMOKrJTkEzr"
      },
      "source": [
        "class MyNewClass:\n",
        "    '''This is a docstring. I have created a new class'''\n",
        "    pass\n",
        "\n",
        "## A class creates a new local namespace where all its attributes are defined. \n",
        "## Attributes may be data or functions.\n",
        "\n",
        "## There are also special attributes in it that begins with double underscores __. \n",
        "## For example, __doc__ gives us the docstring of that class.\n",
        "\n",
        "## As soon as we define a class, a new class object is created with the same name. \n",
        "## This class object allows us to access the different attributes \n",
        "## as well as to instantiate new objects of that class."
      ],
      "execution_count": null,
      "outputs": []
    },
    {
      "cell_type": "code",
      "metadata": {
        "id": "zRrl83NVkEzs",
        "colab": {
          "base_uri": "https://localhost:8080/"
        },
        "outputId": "b5252035-0f7d-4489-d59b-aad1b767b1e3"
      },
      "source": [
        "class Person:\n",
        "    \"This is a person class\"\n",
        "    age = 40\n",
        "\n",
        "    def greet(self):\n",
        "        print('Hello from Python !!')\n",
        "\n",
        "\n",
        "# Output: 10\n",
        "print(Person.age)\n",
        "\n",
        "# Output: <function Person.greet>\n",
        "print(Person.greet)\n",
        "\n",
        "# Output: 'This is a person class'\n",
        "print(Person.__doc__)"
      ],
      "execution_count": null,
      "outputs": [
        {
          "output_type": "stream",
          "text": [
            "40\n",
            "<function Person.greet at 0x7f7e5db16048>\n",
            "This is a person class\n"
          ],
          "name": "stdout"
        }
      ]
    },
    {
      "cell_type": "markdown",
      "metadata": {
        "id": "3EW0NuIakEzx"
      },
      "source": [
        "Creating an Object in Python\n",
        "--"
      ]
    },
    {
      "cell_type": "code",
      "metadata": {
        "id": "-0MNZMEkkEzx",
        "colab": {
          "base_uri": "https://localhost:8080/"
        },
        "outputId": "37b262a9-7110-4c21-9439-e76348e43f96"
      },
      "source": [
        "samrin = Person()  ## calls the default constructor \n",
        "\n",
        "samrin.greet()"
      ],
      "execution_count": null,
      "outputs": [
        {
          "output_type": "stream",
          "text": [
            "Hello from Python !!\n"
          ],
          "name": "stdout"
        }
      ]
    },
    {
      "cell_type": "markdown",
      "metadata": {
        "id": "h3VlgF_1kEzx"
      },
      "source": [
        "You may have noticed the `self` parameter in function definition inside the class but we called the method simply as harry.greet() without any arguments. It still worked.\n",
        "\n",
        "This is because, whenever an object calls its method, the object itself is passed as the first argument. So, `harry.greet()` translates into `Person.greet(harry)`."
      ]
    },
    {
      "cell_type": "markdown",
      "metadata": {
        "id": "Y5Mmn1wIkEzx"
      },
      "source": [
        "Constructors in Python\n",
        "--"
      ]
    },
    {
      "cell_type": "code",
      "metadata": {
        "id": "48FFUnsZkEzx",
        "colab": {
          "base_uri": "https://localhost:8080/",
          "height": 229
        },
        "outputId": "45a9b449-fda3-458a-e5d4-cec842baef5f"
      },
      "source": [
        "## Class functions that begin with double underscore __ are called special functions.\n",
        "\n",
        "## Of one particular interest is the __init__() function. \n",
        "## This special function gets called whenever a new object of that class is instantiated.\n",
        "\n",
        "## This type of function is also called constructors in Object Oriented Programming (OOP). \n",
        "## We normally use it to initialize all the variables.\n",
        "\n",
        "class ComplexNumber:\n",
        "    def __init__(self, r=0, i=0):\n",
        "        self.real = r\n",
        "        self.imag = i\n",
        "\n",
        "    def get_data(self):\n",
        "        print(f'{self.real}+{self.imag}j')\n",
        "\n",
        "\n",
        "# Create a new ComplexNumber object\n",
        "num1 = ComplexNumber(2, 3)\n",
        "\n",
        "# Call get_data() method\n",
        "num1.get_data()\n",
        "\n",
        "# Create another ComplexNumber object\n",
        "num2 = ComplexNumber(5)\n",
        "num2.attr = 10\n",
        "\n",
        "# Output: (5, 0, 10)\n",
        "print((num2.real, num2.imag, num2.attr))\n",
        "\n",
        "# but c1 object doesn't have attribute 'attr'\n",
        "# AttributeError: 'ComplexNumber' object has no attribute 'attr'\n",
        "print(num1.attr)"
      ],
      "execution_count": null,
      "outputs": [
        {
          "output_type": "stream",
          "text": [
            "2+3j\n",
            "(5, 0, 10)\n"
          ],
          "name": "stdout"
        },
        {
          "output_type": "error",
          "ename": "AttributeError",
          "evalue": "ignored",
          "traceback": [
            "\u001b[0;31m---------------------------------------------------------------------------\u001b[0m",
            "\u001b[0;31mAttributeError\u001b[0m                            Traceback (most recent call last)",
            "\u001b[0;32m<ipython-input-8-18a4501a67c3>\u001b[0m in \u001b[0;36m<module>\u001b[0;34m()\u001b[0m\n\u001b[1;32m     31\u001b[0m \u001b[0;31m# but c1 object doesn't have attribute 'attr'\u001b[0m\u001b[0;34m\u001b[0m\u001b[0;34m\u001b[0m\u001b[0;34m\u001b[0m\u001b[0m\n\u001b[1;32m     32\u001b[0m \u001b[0;31m# AttributeError: 'ComplexNumber' object has no attribute 'attr'\u001b[0m\u001b[0;34m\u001b[0m\u001b[0;34m\u001b[0m\u001b[0;34m\u001b[0m\u001b[0m\n\u001b[0;32m---> 33\u001b[0;31m \u001b[0mprint\u001b[0m\u001b[0;34m(\u001b[0m\u001b[0mnum1\u001b[0m\u001b[0;34m.\u001b[0m\u001b[0mattr\u001b[0m\u001b[0;34m)\u001b[0m\u001b[0;34m\u001b[0m\u001b[0;34m\u001b[0m\u001b[0m\n\u001b[0m",
            "\u001b[0;31mAttributeError\u001b[0m: 'ComplexNumber' object has no attribute 'attr'"
          ]
        }
      ]
    },
    {
      "cell_type": "markdown",
      "metadata": {
        "id": "vjDPaoHKkEzy"
      },
      "source": [
        "Deleting Attributes and Objects\n",
        "--"
      ]
    },
    {
      "cell_type": "code",
      "metadata": {
        "id": "kp-8CN0RkEzy",
        "colab": {
          "base_uri": "https://localhost:8080/",
          "height": 313
        },
        "outputId": "c9b2f008-e611-425d-d7de-2e49f8eaac51"
      },
      "source": [
        "## Any attribute of an object can be deleted anytime, using the del statement. \n",
        "\n",
        "num1 = ComplexNumber(2,3)\n",
        "\n",
        "del num1.imag\n",
        "\n",
        "num1.get_data()"
      ],
      "execution_count": null,
      "outputs": [
        {
          "output_type": "error",
          "ename": "AttributeError",
          "evalue": "ignored",
          "traceback": [
            "\u001b[0;31m---------------------------------------------------------------------------\u001b[0m",
            "\u001b[0;31mAttributeError\u001b[0m                            Traceback (most recent call last)",
            "\u001b[0;32m<ipython-input-9-fd733a55cb76>\u001b[0m in \u001b[0;36m<module>\u001b[0;34m()\u001b[0m\n\u001b[1;32m      5\u001b[0m \u001b[0;32mdel\u001b[0m \u001b[0mnum1\u001b[0m\u001b[0;34m.\u001b[0m\u001b[0mimag\u001b[0m\u001b[0;34m\u001b[0m\u001b[0;34m\u001b[0m\u001b[0m\n\u001b[1;32m      6\u001b[0m \u001b[0;34m\u001b[0m\u001b[0m\n\u001b[0;32m----> 7\u001b[0;31m \u001b[0mnum1\u001b[0m\u001b[0;34m.\u001b[0m\u001b[0mget_data\u001b[0m\u001b[0;34m(\u001b[0m\u001b[0;34m)\u001b[0m\u001b[0;34m\u001b[0m\u001b[0;34m\u001b[0m\u001b[0m\n\u001b[0m",
            "\u001b[0;32m<ipython-input-8-18a4501a67c3>\u001b[0m in \u001b[0;36mget_data\u001b[0;34m(self)\u001b[0m\n\u001b[1;32m     13\u001b[0m \u001b[0;34m\u001b[0m\u001b[0m\n\u001b[1;32m     14\u001b[0m     \u001b[0;32mdef\u001b[0m \u001b[0mget_data\u001b[0m\u001b[0;34m(\u001b[0m\u001b[0mself\u001b[0m\u001b[0;34m)\u001b[0m\u001b[0;34m:\u001b[0m\u001b[0;34m\u001b[0m\u001b[0;34m\u001b[0m\u001b[0m\n\u001b[0;32m---> 15\u001b[0;31m         \u001b[0mprint\u001b[0m\u001b[0;34m(\u001b[0m\u001b[0;34mf'{self.real}+{self.imag}j'\u001b[0m\u001b[0;34m)\u001b[0m\u001b[0;34m\u001b[0m\u001b[0;34m\u001b[0m\u001b[0m\n\u001b[0m\u001b[1;32m     16\u001b[0m \u001b[0;34m\u001b[0m\u001b[0m\n\u001b[1;32m     17\u001b[0m \u001b[0;34m\u001b[0m\u001b[0m\n",
            "\u001b[0;31mAttributeError\u001b[0m: 'ComplexNumber' object has no attribute 'imag'"
          ]
        }
      ]
    },
    {
      "cell_type": "code",
      "metadata": {
        "id": "pIOjVI1ukEzy",
        "colab": {
          "base_uri": "https://localhost:8080/",
          "height": 195
        },
        "outputId": "74758fc3-ef90-416f-8ff6-1b9883250ca7"
      },
      "source": [
        "del ComplexNumber.get_data\n",
        "\n",
        "num1.get_data()"
      ],
      "execution_count": null,
      "outputs": [
        {
          "output_type": "error",
          "ename": "AttributeError",
          "evalue": "ignored",
          "traceback": [
            "\u001b[0;31m---------------------------------------------------------------------------\u001b[0m",
            "\u001b[0;31mAttributeError\u001b[0m                            Traceback (most recent call last)",
            "\u001b[0;32m<ipython-input-10-2eff1b9005a8>\u001b[0m in \u001b[0;36m<module>\u001b[0;34m()\u001b[0m\n\u001b[1;32m      1\u001b[0m \u001b[0;32mdel\u001b[0m \u001b[0mComplexNumber\u001b[0m\u001b[0;34m.\u001b[0m\u001b[0mget_data\u001b[0m\u001b[0;34m\u001b[0m\u001b[0;34m\u001b[0m\u001b[0m\n\u001b[1;32m      2\u001b[0m \u001b[0;34m\u001b[0m\u001b[0m\n\u001b[0;32m----> 3\u001b[0;31m \u001b[0mnum1\u001b[0m\u001b[0;34m.\u001b[0m\u001b[0mget_data\u001b[0m\u001b[0;34m(\u001b[0m\u001b[0;34m)\u001b[0m\u001b[0;34m\u001b[0m\u001b[0;34m\u001b[0m\u001b[0m\n\u001b[0m",
            "\u001b[0;31mAttributeError\u001b[0m: 'ComplexNumber' object has no attribute 'get_data'"
          ]
        }
      ]
    },
    {
      "cell_type": "code",
      "metadata": {
        "id": "KoQS8J8jkEzy",
        "colab": {
          "base_uri": "https://localhost:8080/",
          "height": 195
        },
        "outputId": "53f72818-c82b-4142-865d-59106298212d"
      },
      "source": [
        "## We can even delete the object itself, using the del statement.\n",
        "\n",
        "c1 = ComplexNumber(1,3)\n",
        "del c1\n",
        "c1"
      ],
      "execution_count": null,
      "outputs": [
        {
          "output_type": "error",
          "ename": "NameError",
          "evalue": "ignored",
          "traceback": [
            "\u001b[0;31m---------------------------------------------------------------------------\u001b[0m",
            "\u001b[0;31mNameError\u001b[0m                                 Traceback (most recent call last)",
            "\u001b[0;32m<ipython-input-13-44d5b7f1180c>\u001b[0m in \u001b[0;36m<module>\u001b[0;34m()\u001b[0m\n\u001b[1;32m      3\u001b[0m \u001b[0mc1\u001b[0m \u001b[0;34m=\u001b[0m \u001b[0mComplexNumber\u001b[0m\u001b[0;34m(\u001b[0m\u001b[0;36m1\u001b[0m\u001b[0;34m,\u001b[0m\u001b[0;36m3\u001b[0m\u001b[0;34m)\u001b[0m\u001b[0;34m\u001b[0m\u001b[0;34m\u001b[0m\u001b[0m\n\u001b[1;32m      4\u001b[0m \u001b[0;32mdel\u001b[0m \u001b[0mc1\u001b[0m\u001b[0;34m\u001b[0m\u001b[0;34m\u001b[0m\u001b[0m\n\u001b[0;32m----> 5\u001b[0;31m \u001b[0mc1\u001b[0m\u001b[0;34m\u001b[0m\u001b[0;34m\u001b[0m\u001b[0m\n\u001b[0m",
            "\u001b[0;31mNameError\u001b[0m: name 'c1' is not defined"
          ]
        }
      ]
    },
    {
      "cell_type": "markdown",
      "metadata": {
        "id": "dXCfxhKbkEzy"
      },
      "source": [
        "<img src=\"https://cdn.programiz.com/sites/tutorial2program/files/objectReference.jpg\">\n",
        "\n",
        "`Note` : On the command del c1, the binding is removed and the name c1 is deleted from the corresponding namespace. The object however continues to exist in memory and if no other name is bound to it, it is later automatically destroyed.\n",
        "\n",
        "This `automatic destruction` of unreferenced objects in Python is also called `garbage collection`."
      ]
    },
    {
      "cell_type": "code",
      "metadata": {
        "id": "VXdrlSa9kEzy",
        "outputId": "57b36edc-120a-46b8-fbb4-249bc5cd82c5"
      },
      "source": [
        "## ----------- Some Practice Examples ---------\n",
        "#-- example : 1\n",
        "\n",
        "class Employee:\n",
        "   'Common base class for all employees'\n",
        "   empCount = 0\n",
        "\n",
        "   def __init__(self, name, salary):\n",
        "      self.name = name\n",
        "      self.salary = salary\n",
        "      Employee.empCount += 1\n",
        "   \n",
        "   def displayCount(self):\n",
        "     print(\"Total Employee %d\" % Employee.empCount)\n",
        "\n",
        "   def displayEmployee(self):\n",
        "      print(\"Name : \", self.name,  \", Salary: \", self.salary)\n",
        "\n",
        "#--This would create first object of Employee class\n",
        "emp1 = Employee(\"Neetu\", 23000)\n",
        "\n",
        "#--This would create second object of Employee class\n",
        "emp2 = Employee(\"Vipin\", 25000)\n",
        "\n",
        "#--calling instance methods\n",
        "emp1.displayEmployee()\n",
        "print(\"-----------------------\")\n",
        "\n",
        "emp2.displayEmployee()\n",
        "print(\"-----------------------\")\n",
        "\n",
        "#--calling class method\n",
        "emp1.displayCount()"
      ],
      "execution_count": null,
      "outputs": [
        {
          "output_type": "stream",
          "text": [
            "Name :  Neetu , Salary:  23000\n",
            "-----------------------\n",
            "Name :  Vipin , Salary:  25000\n",
            "-----------------------\n",
            "Total Employee 2\n"
          ],
          "name": "stdout"
        }
      ]
    },
    {
      "cell_type": "markdown",
      "metadata": {
        "id": "12tQOFebkEzy"
      },
      "source": [
        "Exercise 1 ( 10 mins )\n",
        "--\n",
        "\n",
        "We have a class defined for vehicles. Create two new vehicles called car1 and car2. Set `car1` to be a red convertible worth \\$60,000.00 with a name of `Fer`, and `car2` to be a blue van named Jump worth \\$10,000.00.\n",
        "\n",
        "`Expected o/p`\n",
        "<br /><font color='green'>\n",
        "Fer is a red convertible worth \\$60000.00.  \n",
        "\n",
        "Jump is a blue van worth \\$10000.00.\n",
        "</font>    "
      ]
    },
    {
      "cell_type": "code",
      "metadata": {
        "id": "WfXhcJT2kEzy"
      },
      "source": [
        "# define the Vehicle class\n",
        "class Vehicle:\n",
        "    name = \"\"\n",
        "    kind = \"car\"\n",
        "    color = \"\"\n",
        "    value = 100.00\n",
        "    def description(self):\n",
        "        desc_str = \"%s is a %s %s worth $%.2f.\" % (self.name, self.color, self.kind, self.value)\n",
        "        return desc_str\n",
        "    \n",
        "# your code goes here\n",
        "\n",
        "\n",
        "# test code\n",
        "print(car1.description())\n",
        "print(car2.description())"
      ],
      "execution_count": null,
      "outputs": []
    },
    {
      "cell_type": "markdown",
      "metadata": {
        "id": "RTktL777kEzz"
      },
      "source": [
        "Python Inheritance\n",
        "--\n",
        "\n",
        "Inheritance enables us to define a class that takes all the functionality from a parent class and allows us to add more.\n",
        "\n",
        "The new class is called derived (or child) class and the one from which it inherits is called the base (or parent) class."
      ]
    },
    {
      "cell_type": "code",
      "metadata": {
        "id": "RK3F_5KjkEzz"
      },
      "source": [
        "##Python Inheritance Syntax\n",
        "\n",
        "class BaseClass:\n",
        "  ##Body of base class\n",
        "\n",
        "class DerivedClass(BaseClass):\n",
        "  ##Body of derived class"
      ],
      "execution_count": null,
      "outputs": []
    },
    {
      "cell_type": "code",
      "metadata": {
        "id": "vf_vwlckkEzz",
        "outputId": "48c066e4-671f-4418-aa00-ce37cb7c846f"
      },
      "source": [
        "## Inheritance Example\n",
        "\n",
        "class Super:        # define parent class\n",
        "   superAttr = 300\n",
        "   def __init__(self):\n",
        "      print(\"Calling Super constructor\")\n",
        "\n",
        "   def superMethod(self):\n",
        "      print('Calling Super method')\n",
        "\n",
        "   def setAttr(self, attr):\n",
        "      Super.superAttr = attr\n",
        "\n",
        "   def getAttr(self):\n",
        "      print(\"Parent attribute :\", Super.superAttr)\n",
        "\n",
        "class Child(Super):     # define child class\n",
        "   def __init__(self):\n",
        "      print(\"Calling child constructor\")\n",
        "\n",
        "   def childMethod(self):\n",
        "      print('Calling child method')\n",
        "\n",
        "c = Child()          # instance of child\n",
        "c.childMethod()      # child calls its method\n",
        "c.superMethod()     # calls parent's method\n",
        "c.setAttr(210)       # again call parent's method\n",
        "c.getAttr()          # again call parent's method\n"
      ],
      "execution_count": null,
      "outputs": [
        {
          "output_type": "stream",
          "text": [
            "Calling child constructor\n",
            "Calling child method\n",
            "Calling Super method\n",
            "Parent attribute : 210\n"
          ],
          "name": "stdout"
        }
      ]
    },
    {
      "cell_type": "code",
      "metadata": {
        "id": "OedscsU0kEzz",
        "outputId": "9b671ae7-4860-498b-c338-ca25b299d8ef"
      },
      "source": [
        "# Python code to demonstrate how parent constructors \n",
        "# are called. \n",
        "  \n",
        "# parent class \n",
        "class Person( object ):     \n",
        "  \n",
        "        # __init__ is known as the constructor          \n",
        "        def __init__(self, name, idnumber):    \n",
        "                self.name = name \n",
        "                self.idnumber = idnumber \n",
        "                \n",
        "        def display(self): \n",
        "                print(self.name) \n",
        "                print(self.idnumber) \n",
        "  \n",
        "## child class \n",
        "class Employee( Person ):            \n",
        "        def __init__(self, name, idnumber, salary, post): \n",
        "                self.salary = salary \n",
        "                self.post = post \n",
        "  \n",
        "                # invoking the __init__ of the parent class  \n",
        "                Person.__init__(self, name, idnumber)  \n",
        "  \n",
        "                  \n",
        "# creation of an object variable or an instance \n",
        "a = Employee('Rahul', 336012, 20000, \"Intern\")     \n",
        "  \n",
        "# calling a function of the class Person using its instance \n",
        "a.display()  "
      ],
      "execution_count": null,
      "outputs": [
        {
          "output_type": "stream",
          "text": [
            "Rahul\n",
            "336012\n"
          ],
          "name": "stdout"
        }
      ]
    },
    {
      "cell_type": "markdown",
      "metadata": {
        "id": "C3hzQUKekEzz"
      },
      "source": [
        "Use the super() Function\n",
        "--\n",
        "\n",
        "Python also has a super() function that will make the child class inherit all the methods and properties from its parent.\n",
        "\n",
        "By using the super() function, you do not have to use the name of the parent element, it will automatically inherit the methods and properties from its parent.\n",
        "\n",
        "`Note` : super()  function call can come anywhere in the child class function. As well it can come for multiple times. "
      ]
    },
    {
      "cell_type": "code",
      "metadata": {
        "id": "62ZLFTQ7kEzz",
        "outputId": "903fa3f3-4a2a-4cb1-bef6-58dd6d945407"
      },
      "source": [
        "# Python code to demonstrate how parent constructors \n",
        "# are called. \n",
        "  \n",
        "# parent class \n",
        "class Person( object ):     \n",
        "  \n",
        "        # __init__ is known as the constructor          \n",
        "        def __init__(self, name, idnumber):    \n",
        "                self.name = name \n",
        "                self.idnumber = idnumber \n",
        "                \n",
        "        def display(self): \n",
        "                print(self.name) \n",
        "                print(self.idnumber) \n",
        "  \n",
        "## child class \n",
        "class Employee( Person ):            \n",
        "        def __init__(self, name, idnumber, salary, post): \n",
        "                # invoking the __init__ of the parent class  \n",
        "                super().__init__(name, idnumber)  \n",
        "                \n",
        "                self.salary = salary \n",
        "                self.post = post \n",
        "  \n",
        "                  \n",
        "# creation of an object variable or an instance \n",
        "a = Employee('Rahul', 336012, 20000, \"Intern\")     \n",
        "  \n",
        "# calling a function of the class Person using its instance \n",
        "a.display()  "
      ],
      "execution_count": null,
      "outputs": [
        {
          "output_type": "stream",
          "text": [
            "Rahul\n",
            "336012\n"
          ],
          "name": "stdout"
        }
      ]
    },
    {
      "cell_type": "markdown",
      "metadata": {
        "id": "QEyJShw0kEzz"
      },
      "source": [
        "Method Overriding\n",
        "--\n",
        "\n",
        "`Method overriding` is a concept of object oriented programming that allows us to change the implementation of a function in the child class that is defined in the parent class. It is the ability of a child class to change the implementation of any method which is already provided by one of its parent class(ancestors).\n",
        "\n",
        "**Following conditions must be met for overriding a function:**\n",
        "\n",
        "1. Inheritance should be there. Function overriding cannot be done within a class. We need to derive a child class from a parent class.\n",
        "\n",
        "2. The function that is redefined in the child class should have the same signature as in the parent class i.e. same number of parameters.\n",
        "\n",
        "As we have already learned about the concept of Inheritance, we know that when a child class inherits a parent class it also gets access to its variables and methods, for example,"
      ]
    },
    {
      "cell_type": "code",
      "metadata": {
        "id": "OzZnt9AbkEzz",
        "outputId": "32f1a6bd-f9f2-4ac8-c871-7f60c16a1432"
      },
      "source": [
        "# parent class\n",
        "class Parent:\n",
        "    # some dummy function\n",
        "    def anything(self):\n",
        "        print('Function defined in parent class!')\n",
        "        \n",
        "# child class\n",
        "class Child(Parent):\n",
        "    # Overriding the defn from the parent\n",
        "    def anything(self):\n",
        "        print('Function -- in child class!')\n",
        "\n",
        "\n",
        "obj1 = Parent()\n",
        "obj1.anything()        \n",
        "        \n",
        "obj2 = Child()\n",
        "obj2.anything()"
      ],
      "execution_count": null,
      "outputs": [
        {
          "output_type": "stream",
          "text": [
            "Function defined in parent class!\n",
            "Function -- in child class!\n"
          ],
          "name": "stdout"
        }
      ]
    },
    {
      "cell_type": "code",
      "metadata": {
        "id": "7VhkLkfikEzz",
        "colab": {
          "base_uri": "https://localhost:8080/"
        },
        "outputId": "c42d2bf6-7af7-40cf-ba0f-e87612e87d71"
      },
      "source": [
        "## More Examples on Overriding -----\n",
        "\n",
        "## overriding methods of a class\n",
        "## Create a parent class Robot. define a method action. \n",
        "## Create another HelloRobot class that inherits from the class Robot. \n",
        "## override the method action.\n",
        "\n",
        "class Robot:\n",
        "    def action(self):\n",
        "        print('Robot action')\n",
        "\n",
        "class HelloRobot(Robot):\n",
        "    def action(self):\n",
        "        print('Hello world')\n",
        "\n",
        "r = HelloRobot()\n",
        "r.action()"
      ],
      "execution_count": null,
      "outputs": [
        {
          "output_type": "stream",
          "text": [
            "Hello world\n"
          ],
          "name": "stdout"
        }
      ]
    },
    {
      "cell_type": "code",
      "metadata": {
        "id": "UeVEgBCKkEz0",
        "colab": {
          "base_uri": "https://localhost:8080/"
        },
        "outputId": "b372b4db-933b-488d-c62b-86f11d253f77"
      },
      "source": [
        "class Robot:\n",
        "    def action(self):\n",
        "        print('Robot action')\n",
        "\n",
        "class HelloRobot(Robot):\n",
        "    def action(self):\n",
        "        print('Hello world')\n",
        "\n",
        "class DummyRobot(Robot):\n",
        "    def start(self):\n",
        "        print('Started.')\n",
        "\n",
        "r = HelloRobot()\n",
        "d = DummyRobot()\n",
        "\n",
        "r.action()\n",
        "d.action()"
      ],
      "execution_count": null,
      "outputs": [
        {
          "output_type": "stream",
          "text": [
            "Hello world\n",
            "Robot action\n"
          ],
          "name": "stdout"
        }
      ]
    },
    {
      "cell_type": "markdown",
      "metadata": {
        "id": "sEw7Aw-ekEz0"
      },
      "source": [
        "Method Overloading\n",
        "--\n",
        "\n",
        "_Like other languages (for example method overloading in Java)_ , `python` does not supports method overloading by default. But there are different ways to achieve method overloading in Python.\n",
        "\n",
        "`The problem with method overloading in Python is that we may overload the methods but can only use the latest defined method.`"
      ]
    },
    {
      "cell_type": "code",
      "metadata": {
        "id": "sMK-Xa2DkEz-",
        "outputId": "aced4e5c-ed18-4a8a-a6e2-5b2c28998a31"
      },
      "source": [
        "#---example of method Overloading----\n",
        "\n",
        "class Human:\n",
        " def sayHello(self, name=None):\n",
        " \n",
        "  if name is not None:\n",
        "   print('Hello ', name)\n",
        "  else:\n",
        "   print('Hello ')\n",
        " \n",
        "#Create instance\n",
        "obj = Human()\n",
        " \n",
        "#Call the method\n",
        "obj.sayHello()\n",
        " \n",
        "#Call the method with a parameter\n",
        "obj.sayHello('Suven')"
      ],
      "execution_count": null,
      "outputs": [
        {
          "output_type": "stream",
          "text": [
            "Hello \n",
            "Hello  Suven\n"
          ],
          "name": "stdout"
        }
      ]
    },
    {
      "cell_type": "code",
      "metadata": {
        "id": "KPj4UBiLkEz_",
        "outputId": "c96ec1ef-ea6b-47a6-e508-52663e604ead"
      },
      "source": [
        "#---Be careful don't overload like this : \n",
        "#-- See Error :\n",
        "class A:\n",
        "    def stackoverflow(self):    \n",
        "        print('first method')\n",
        "    def stackoverflow(self, i):\n",
        "        print('second method', i)\n",
        "\n",
        "ob=A()\n",
        "ob.stackoverflow()"
      ],
      "execution_count": null,
      "outputs": [
        {
          "output_type": "error",
          "ename": "TypeError",
          "evalue": "stackoverflow() missing 1 required positional argument: 'i'",
          "traceback": [
            "\u001b[1;31m-----------------------------------------------\u001b[0m",
            "\u001b[1;31mTypeError\u001b[0m     Traceback (most recent call last)",
            "\u001b[1;32m<ipython-input-19-8056ab037f92>\u001b[0m in \u001b[0;36m<module>\u001b[1;34m\u001b[0m\n\u001b[0;32m      8\u001b[0m \u001b[1;33m\u001b[0m\u001b[0m\n\u001b[0;32m      9\u001b[0m \u001b[0mob\u001b[0m\u001b[1;33m=\u001b[0m\u001b[0mA\u001b[0m\u001b[1;33m(\u001b[0m\u001b[1;33m)\u001b[0m\u001b[1;33m\u001b[0m\u001b[1;33m\u001b[0m\u001b[0m\n\u001b[1;32m---> 10\u001b[1;33m \u001b[0mob\u001b[0m\u001b[1;33m.\u001b[0m\u001b[0mstackoverflow\u001b[0m\u001b[1;33m(\u001b[0m\u001b[1;33m)\u001b[0m\u001b[1;33m\u001b[0m\u001b[1;33m\u001b[0m\u001b[0m\n\u001b[0m",
            "\u001b[1;31mTypeError\u001b[0m: stackoverflow() missing 1 required positional argument: 'i'"
          ]
        }
      ]
    },
    {
      "cell_type": "code",
      "metadata": {
        "id": "_Sx2IjtAkEz_",
        "outputId": "7a4ddbbc-4888-4249-9412-fc9ba275ef23"
      },
      "source": [
        "#--correct way of Overloading is : \n",
        "\n",
        "class A:\n",
        "    def stackoverflow(self, i='some_default_value'):    \n",
        "        print('only method', i)\n",
        "\n",
        "ob=A()\n",
        "ob.stackoverflow(2)\n",
        "ob.stackoverflow()"
      ],
      "execution_count": null,
      "outputs": [
        {
          "output_type": "stream",
          "text": [
            "only method 2\n",
            "only method some_default_value\n"
          ],
          "name": "stdout"
        }
      ]
    },
    {
      "cell_type": "code",
      "metadata": {
        "id": "YVZ2xQFYkEz_",
        "outputId": "e355a89d-7a7e-498c-ebce-0d9f697b3121"
      },
      "source": [
        "####------ or like this --------\n",
        "class A:  \n",
        "    def stackoverflow(self, i=None):\n",
        "        if i is None:\n",
        "            print('first form')\n",
        "        else:\n",
        "            print('second form')\n",
        "\n",
        "ob=A()\n",
        "ob.stackoverflow(2)\n",
        "ob.stackoverflow()"
      ],
      "execution_count": null,
      "outputs": [
        {
          "output_type": "stream",
          "text": [
            "second form\n",
            "first form\n"
          ],
          "name": "stdout"
        }
      ]
    },
    {
      "cell_type": "markdown",
      "metadata": {
        "id": "h_pHRnsKkEz_"
      },
      "source": [
        "Destroying Objects (Garbage Collection)\n",
        "--"
      ]
    },
    {
      "cell_type": "code",
      "metadata": {
        "id": "GcVfqvXwkEz_",
        "outputId": "99ba6018-42af-4d96-ebc9-9b1ce51182c8"
      },
      "source": [
        "#--Destroying Objects (Garbage Collection)--\n",
        "\n",
        "class Point:\n",
        "   def __init__( self, x=0, y=0):\n",
        "      self.x = x\n",
        "      self.y = y\n",
        "\t  \n",
        "   def __del__(self):\n",
        "      class_name = self.__class__.__name__\n",
        "      print(class_name, \"destroyed\")\n",
        "\n",
        "pt1 = Point()\n",
        "pt2 = pt1\n",
        "pt3 = pt1\n",
        "\n",
        "#prints the ids of the objects\n",
        "print (id(pt1), id(pt2), id(pt3))  \n",
        "del pt1\n",
        "del pt2\n",
        "del pt3"
      ],
      "execution_count": null,
      "outputs": [
        {
          "output_type": "stream",
          "text": [
            "72037392 72037392 72037392\n",
            "Point destroyed\n"
          ],
          "name": "stdout"
        }
      ]
    },
    {
      "cell_type": "markdown",
      "metadata": {
        "id": "dVzk2xVKkEz_"
      },
      "source": [
        "Application of OOP Concepts : multi-threading\n",
        "--\n",
        "\n",
        "Like multiprocessing, `multithreading` is a way of achieving multitasking. In multithreading, the concept of threads is used.\n",
        "\n",
        "Let us first understand the concept of thread in computer architecture.\n",
        "\n",
        "**`Thread`**\n",
        "\n",
        "In computing, `a process is an instance` of a computer program that is being executed. Any process has 3 basic components:\n",
        "\n",
        "1. An executable program.\n",
        "\n",
        "2. The associated data needed by the program (variables, work space, buffers, etc.)\n",
        "\n",
        "3. The execution context of the program (State of process)\n",
        "\n",
        "A thread is an entity within a process that can be scheduled for execution. Also, it is the smallest unit of processing that can be performed in an OS (Operating System).\n",
        "\n",
        "<img src=\"https://media.geeksforgeeks.org/wp-content/uploads/multithreading-python-21.png\">"
      ]
    },
    {
      "cell_type": "code",
      "metadata": {
        "id": "xlpkZMdtkEz_"
      },
      "source": [
        "#--creating 2 threads, printing Odd and Even numbers\n",
        "## -- Run this code in Cmd prompt -----\n",
        "\n",
        "import threading\n",
        "import time\n",
        "\n",
        "exitFlag = 0\n",
        "\n",
        "class EvenNumbers (threading.Thread):\n",
        "   def run(self):\n",
        "      for i in range(0,11,2):\n",
        "          print(i)\n",
        "          time.sleep(1)\n",
        "      \n",
        "class OddNumbers (threading.Thread):\n",
        "   def run(self):\n",
        "      for j in range(1,11,2):\n",
        "          print(j)\n",
        "          time.sleep(1)\n",
        "\n",
        "# Create new threads\n",
        "thread1 = EvenNumbers()\n",
        "thread2 = OddNumbers()\n",
        "\n",
        "# Start new Threads\n",
        "thread1.start()\n",
        "thread2.start()\n",
        "\n",
        "thread1.join()\n",
        "thread2.join()\n",
        "\n",
        "print(\"Exiting Main Thread\")\n",
        "\n",
        "## -- Run this code in Cmd prompt -----"
      ],
      "execution_count": null,
      "outputs": []
    },
    {
      "cell_type": "markdown",
      "metadata": {
        "id": "U7XutFtxkEz_"
      },
      "source": [
        "**`Extra Read`**\n",
        "\n",
        "https://medium.com/mindful-engineering/multithreading-multiprocessing-in-python3-f6314ab5e23f"
      ]
    }
  ]
}