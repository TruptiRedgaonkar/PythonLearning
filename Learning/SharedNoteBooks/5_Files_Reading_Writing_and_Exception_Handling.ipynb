{
  "nbformat": 4,
  "nbformat_minor": 0,
  "metadata": {
    "kernelspec": {
      "display_name": "Python 3",
      "language": "python",
      "name": "python3"
    },
    "language_info": {
      "codemirror_mode": {
        "name": "ipython",
        "version": 3
      },
      "file_extension": ".py",
      "mimetype": "text/x-python",
      "name": "python",
      "nbconvert_exporter": "python",
      "pygments_lexer": "ipython3",
      "version": "3.6.8"
    },
    "colab": {
      "name": "5_Files Reading Writing and Exception Handling.ipynb",
      "provenance": [],
      "collapsed_sections": [],
      "include_colab_link": true
    }
  },
  "cells": [
    {
      "cell_type": "markdown",
      "metadata": {
        "id": "view-in-github",
        "colab_type": "text"
      },
      "source": [
        "<a href=\"https://colab.research.google.com/github/TruptiRedgaonkar/pythonrepo/blob/main/DataFolkz/SharedNoteBooks/5_Files_Reading_Writing_and_Exception_Handling.ipynb\" target=\"_parent\"><img src=\"https://colab.research.google.com/assets/colab-badge.svg\" alt=\"Open In Colab\"/></a>"
      ]
    },
    {
      "cell_type": "markdown",
      "metadata": {
        "id": "KtDqQITtCC1m"
      },
      "source": [
        "Files\n",
        "--\n",
        "\n",
        "Files are named locations on disk to store related information. They are used to permanently store data in a non-volatile memory (e.g. hard disk).\n",
        "\n",
        "Since Random Access Memory (RAM) is volatile (which loses its data when the computer is turned off), we use files for future use of the data by permanently storing them.\n",
        "\n",
        "When we want to read from or write to a file, we need to open it first. When we are done, it needs to be closed so that the resources that are tied with the file are freed.\n",
        "\n",
        "Hence, in Python, a file operation takes place in the following order:\n",
        "\n",
        "1. Open a file\n",
        "\n",
        "2. Read or write (perform operation)\n",
        "\n",
        "3. Close the file"
      ]
    },
    {
      "cell_type": "code",
      "metadata": {
        "id": "Sq-CI55jCC1n"
      },
      "source": [
        "## --- Do  ot run this cell ----------\n",
        "## -----------------------------------\n",
        "\n",
        "#-- Opening and Closing Files--\n",
        "#-- Before you can read or write a file, \n",
        "#-- you have to open it using Python's built-in open() function.\n",
        "\n",
        "#-- syntax of open()\n",
        "file object = open(file_name [, access_mode][, buffering])\n",
        "\n",
        "#--If the buffering value is set to 0, no buffering takes place. \n",
        "#--If the buffering value is 1, line buffering is performed while accessing a file. \n",
        "\n",
        "#-syntax of close()\n",
        "fileObject.close();\n",
        "\n",
        "#--file Object Attributes\n",
        "#-1> file.closed  \n",
        "#-2> file.mode\n",
        "#-3> file.name"
      ],
      "execution_count": null,
      "outputs": []
    },
    {
      "cell_type": "code",
      "metadata": {
        "id": "kvzlSzsbCC1n",
        "outputId": "2c946f0f-1217-41ca-e885-87b80bbe101d"
      },
      "source": [
        "#-example prg \n",
        "fptr = open(\"test.txt\", \"wb\")\n",
        "\n",
        "print(\"Name of the file: \", fptr.name)\n",
        "print(\"Closed or not : \", fptr.closed)\n",
        "print(\"Opening mode : \", fptr.mode)\n",
        "\n",
        "fptr.close()"
      ],
      "execution_count": null,
      "outputs": [
        {
          "output_type": "stream",
          "text": [
            "Name of the file:  test.txt\n",
            "Closed or not :  False\n",
            "Opening mode :  wb\n"
          ],
          "name": "stdout"
        }
      ]
    },
    {
      "cell_type": "markdown",
      "metadata": {
        "id": "Xe3kh7HLCC1p"
      },
      "source": [
        "<img src=\"https://drive.google.com/uc?id=1thhE6RxDeSbUCX7r2YAgwj3Q5-cQVlcp\" >"
      ]
    },
    {
      "cell_type": "code",
      "metadata": {
        "id": "UTWh6bVKCC1p"
      },
      "source": [
        "##----------  Do not run this cell ---------------\n",
        "\n",
        "## Examples\n",
        "f = open(\"test.txt\")      # equivalent to 'r' or 'rt'\n",
        "f = open(\"test.txt\",'w')  # write in text mode\n",
        "f = open(\"img.bmp\",'r+b') # read and write in binary mode"
      ],
      "execution_count": null,
      "outputs": []
    },
    {
      "cell_type": "code",
      "metadata": {
        "id": "Xd4L2lFHCC1p",
        "outputId": "09af24c2-cec0-4c2b-ebad-1c2e503a85b4"
      },
      "source": [
        "#--Reading and Writing Files\n",
        "#-for reading use fileObject.read([count]);    \n",
        "#-for writing fileObject.write(string);\n",
        "\n",
        "#-- program to r/w --\n",
        "fptr = open(\"test.txt\", \"w\")\n",
        "fptr.write(\"Python is a \\ngreat language\")\n",
        "fptr.close()\n",
        "\n",
        "#opening again but in a different mode\n",
        "fptr = open(\"test.txt\", \"r+\")\n",
        "str = fptr.read(100) #read up to 100 chars\n",
        "print(\"Read String is : \", str)\n",
        "fptr.close()"
      ],
      "execution_count": null,
      "outputs": [
        {
          "output_type": "stream",
          "text": [
            "Read String is :  Python is a \n",
            "great language\n"
          ],
          "name": "stdout"
        }
      ]
    },
    {
      "cell_type": "code",
      "metadata": {
        "id": "B9L1bg9ACC1q",
        "outputId": "144c59ac-3c5c-4769-b202-ac567822af1e"
      },
      "source": [
        "#can open r/w mode also , like this\n",
        "fptr = open(\"test.txt\", \"r+\") #can use w+ also   \n",
        "\n",
        "fptr.write(\"first:I am writing.\\nthen:I will read\")\n",
        "\n",
        "fptr.seek(0) # reset the ptr to start of file\n",
        "\n",
        "str = fptr.read(100)\n",
        "\n",
        "print(\"Read String is : \", str)\n",
        "\n",
        "fptr.close()"
      ],
      "execution_count": null,
      "outputs": [
        {
          "output_type": "stream",
          "text": [
            "Read String is :  first:I am writing.\n",
            "then:I will read\n"
          ],
          "name": "stdout"
        }
      ]
    },
    {
      "cell_type": "code",
      "metadata": {
        "id": "kGlkzfZnCC1r",
        "outputId": "02e52eec-a5ab-4a13-f66e-6c683bfa7351"
      },
      "source": [
        "#----File Positions---\n",
        "\n",
        "#Opens a file\n",
        "fptr = open(\"test.txt\", \"r+\")\n",
        "str = fptr.read(10)\n",
        "print(\"Read String is : \", str)\n",
        "\n",
        "#Check current position\n",
        "## your code here\n",
        "\n",
        "\n",
        "\n",
        "# Reposition pointer at the beginning once again\n",
        "## your code here\n",
        "\n",
        "\n"
      ],
      "execution_count": null,
      "outputs": [
        {
          "output_type": "stream",
          "text": [
            "Read String is :  first:I am\n",
            "Current file position :  10\n",
            "Again read String is :  first:I am\n"
          ],
          "name": "stdout"
        }
      ]
    },
    {
      "cell_type": "code",
      "metadata": {
        "id": "ihWo3ttXCC1t",
        "outputId": "6c66f28e-c5a4-4af3-c6cf-c483a02ce7ee"
      },
      "source": [
        "## Write code to copy from one file to another\n",
        "\n",
        "from os.path import exists\n",
        "\n",
        "from_file = input(\"Enter the source file : \")\n",
        "\n",
        "to_file = input(\"Enter the destination file : \")\n",
        "\n",
        "print(f\"Copying from {from_file} to {to_file}\")\n",
        "\n",
        "in_file = open(from_file)\n",
        "\n",
        "indata = in_file.read()\n",
        "\n",
        "print(f\"The input file is {len(indata)} bytes long\")\n",
        "\n",
        "print(f\"Does the output file exist? {exists(to_file)}\")\n",
        "print(\"Hit ENTER key to continue, CTRL-C to abort.\")\n",
        "input()\n",
        "\n",
        "## your code here\n",
        "\n",
        "\n",
        "\n",
        "\n"
      ],
      "execution_count": null,
      "outputs": [
        {
          "output_type": "stream",
          "text": [
            "Enter the source file : test.txt\n",
            "Enter the destination file : abc.txt\n",
            "Copying from test.txt to abc.txt\n",
            "The input file is 36 bytes long\n",
            "Does the output file exist? False\n",
            "Hit ENTER key to continue, CTRL-C to abort.\n",
            "\n",
            "Alright, all done.\n"
          ],
          "name": "stdout"
        }
      ]
    },
    {
      "cell_type": "code",
      "metadata": {
        "id": "Nb-Q2MogCC1t",
        "outputId": "074159ef-ab0f-4095-d06f-9fb5990af2b6"
      },
      "source": [
        "## to check on the abc.txt file \n",
        "## open and read it\n",
        "\n",
        "out_file = open(to_file, 'r')\n",
        "\n",
        "str = out_file.read()\n",
        "\n",
        "print(str)\n",
        "\n",
        "out_file.close()"
      ],
      "execution_count": null,
      "outputs": [
        {
          "output_type": "stream",
          "text": [
            "first:I am writing.\n",
            "then:I will read\n"
          ],
          "name": "stdout"
        }
      ]
    },
    {
      "cell_type": "markdown",
      "metadata": {
        "id": "DPYOAbHbCC1u"
      },
      "source": [
        "readline()\n",
        "--\n",
        "\n",
        "Alternatively, we can use the readline() method to read individual lines of a file. This method reads a file till the newline, including the newline character.\n",
        "\n",
        "readlines()\n",
        "--\n",
        "readlines() method returns all lines of the entire file. \n",
        "\n",
        "`All these reading methods return empty values when the end of file (EOF) is reached`."
      ]
    },
    {
      "cell_type": "code",
      "metadata": {
        "id": "CFJkMW9_CC1u",
        "outputId": "b7fa1802-88b0-4f83-fc0c-471b36c1f597"
      },
      "source": [
        "out_file = open('test.txt', 'r')\n",
        "\n",
        "line_1 = out_file.readline()\n",
        "print(line_1)\n",
        "\n",
        "line_2 = out_file.readline()\n",
        "print(line_2)\n",
        "\n",
        "line_3 = out_file.readline()\n",
        "print(line_3)  ## Notice no output , as we have reached EOF \n",
        "\n",
        "out_file.close()"
      ],
      "execution_count": null,
      "outputs": [
        {
          "output_type": "stream",
          "text": [
            "first:I am writing.\n",
            "\n",
            "then:I will read\n",
            "\n"
          ],
          "name": "stdout"
        }
      ]
    },
    {
      "cell_type": "code",
      "metadata": {
        "id": "iGpZ_fdCCC1v",
        "outputId": "74f0fce9-11b6-4e2d-e851-8184967e32eb"
      },
      "source": [
        "out_file = open('test.txt', 'r')\n",
        "\n",
        "all_lines = out_file.readlines()\n",
        "print(all_lines)\n",
        "\n",
        "print(\"----------------------\")\n",
        "\n",
        "## if you don't like the default list type o/p of the readlines() then use a for loop \n",
        "for l in all_lines:\n",
        "    print(l)\n",
        "\n",
        "out_file.close()"
      ],
      "execution_count": null,
      "outputs": [
        {
          "output_type": "stream",
          "text": [
            "['first:I am writing.\\n', 'then:I will read']\n",
            "----------------------\n",
            "first:I am writing.\n",
            "\n",
            "then:I will read\n"
          ],
          "name": "stdout"
        }
      ]
    },
    {
      "cell_type": "markdown",
      "metadata": {
        "id": "l-s0JAPFCC1w"
      },
      "source": [
        "What if the file fails to open ?\n",
        "--\n",
        "\n",
        "Above method of opening files is not entirely safe. If an exception occurs when we are performing some operation with the file, the code exits without closing the file.\n",
        "\n",
        "**`A safer way is to use a try...finally block`**."
      ]
    },
    {
      "cell_type": "code",
      "metadata": {
        "id": "_ZL86BQJCC1w"
      },
      "source": [
        "## Only Syntax --- DO NOT Run this Cell -------------\n",
        "\n",
        "try:\n",
        "   f = open(\"test1.txt\")\n",
        "   # perform file operations, if the file opens\n",
        "   # like reading , writing, etc.. \n",
        "    \n",
        "finally:\n",
        "   f.close()\n",
        "\n",
        "## This is also called Exception Handling.  Next Sub topic in this NB"
      ],
      "execution_count": null,
      "outputs": []
    },
    {
      "cell_type": "markdown",
      "metadata": {
        "id": "9DEOXth-CC1w"
      },
      "source": [
        "This way, we are guaranteeing that the file is properly closed even if an exception is raised that causes program flow to stop.\n",
        "\n",
        "`The best way to close a file is by using the with statement`. This ensures that the file is closed when the block inside the with statement is exited.\n",
        "\n",
        "We don't need to explicitly call the close() method. It is done internally.\n",
        "\n",
        "**safest way is to use `with` block**\n"
      ]
    },
    {
      "cell_type": "code",
      "metadata": {
        "id": "vdq3wN_kCC1w",
        "outputId": "4b8a4cb2-7965-422d-bbab-1c5355d571c4"
      },
      "source": [
        "with open(\"test.txt\") as f:\n",
        "   all_lines = f.read()\n",
        "   print(all_lines) "
      ],
      "execution_count": null,
      "outputs": [
        {
          "output_type": "stream",
          "text": [
            "first:I am writing.\n",
            "then:I will read\n"
          ],
          "name": "stdout"
        }
      ]
    },
    {
      "cell_type": "markdown",
      "metadata": {
        "id": "ZOpzKWyECC1x"
      },
      "source": [
        "<hr />\n",
        "\n",
        "<font color='red'><b>This Notebook is authored by Master Data Science Trainer & Consultant - Mr. Rocky Jagtiani  </b> </font> \n",
        "\n",
        "Connect with him on **linkedin** and follow his company page - **Suven Consultants & Technology Pvt Ltd.** to know <font color='green'><b>about best Job offers for lateral hiring</b></font> ( `3 to 15 yrs work-ex IT profiles` )\n",
        "\n",
        "<hr />"
      ]
    },
    {
      "cell_type": "markdown",
      "metadata": {
        "id": "AOs6TdAvCC1x"
      },
      "source": [
        "Exception Handling\n",
        "--\n",
        "\n",
        "`Python Exception Handling Using try, except and finally statement`\n",
        "\n",
        "**Exceptions in Python**\n",
        "\n",
        "Python has many built-in exceptions that are raised when your program encounters an error (something in the program goes wrong).\n",
        "\n",
        "When these exceptions occur, the Python interpreter stops the current process and passes it to the calling process until it is handled. If not handled, the program will crash.\n",
        "\n",
        "For example, let us consider a program where we have a function `A` that calls function `B`, which in turn calls function `C`. If an exception occurs in function `C` but is not handled in `C`, the exception passes to `B` and then to `A`.\n",
        "\n",
        "If never handled, an error message is displayed and our program comes to a sudden unexpected halt.\n",
        "\n",
        "**Catching Exceptions in Python**\n",
        "\n",
        "In Python, exceptions can be handled using a `try` statement.\n",
        "\n",
        "The critical operation which can raise an exception is placed inside the try clause. The code that handles the exceptions is written in the `except` clause."
      ]
    },
    {
      "cell_type": "code",
      "metadata": {
        "id": "bvpydfhvCC1x",
        "outputId": "cd75ef73-3c2b-4a4e-cd1b-6c832b8eee85"
      },
      "source": [
        "# import module sys to get the type of exception\n",
        "import sys\n",
        "\n",
        "randomList = ['a', 0, 2]\n",
        "\n",
        "for entry in randomList:\n",
        "    try:\n",
        "        print(\"The entry is\", entry)\n",
        "        r = 1/int(entry)\n",
        "        break\n",
        "    except:\n",
        "        print(\"Oops!\", sys.exc_info()[0], \"occurred.\")\n",
        "        print(\"Next entry.\")\n",
        "        print()\n",
        "print(\"The reciprocal of\", entry, \"is\", r)"
      ],
      "execution_count": null,
      "outputs": [
        {
          "output_type": "stream",
          "text": [
            "The entry is a\n",
            "Oops! <class 'ValueError'> occurred.\n",
            "Next entry.\n",
            "\n",
            "The entry is 0\n",
            "Oops! <class 'ZeroDivisionError'> occurred.\n",
            "Next entry.\n",
            "\n",
            "The entry is 2\n",
            "The reciprocal of 2 is 0.5\n"
          ],
          "name": "stdout"
        }
      ]
    },
    {
      "cell_type": "code",
      "metadata": {
        "id": "FkFSg4WzCC1y",
        "outputId": "fb61d2a1-ddc0-4278-d707-e3aa29ed89f7"
      },
      "source": [
        "## Since every exception in Python inherits from the base Exception class, \n",
        "## we can also perform the above task in the following way:\n",
        "\n",
        "\n",
        "randomList = ['a', 0, 2]\n",
        "\n",
        "for entry in randomList:\n",
        "    try:\n",
        "        print(\"The entry is\", entry)\n",
        "        r = 1/int(entry)\n",
        "        break\n",
        "    except Exception as e:\n",
        "        ##print(\"Oops!\", e, \"occurred.\")\n",
        "        print(\"Oops!\", e.__class__, \"occurred.\")\n",
        "        print(\"Next entry.\")\n",
        "        print()\n",
        "print(\"The reciprocal of\", entry, \"is\", r)"
      ],
      "execution_count": null,
      "outputs": [
        {
          "output_type": "stream",
          "text": [
            "The entry is a\n",
            "Oops! <class 'ValueError'> occurred.\n",
            "Next entry.\n",
            "\n",
            "The entry is 0\n",
            "Oops! <class 'ZeroDivisionError'> occurred.\n",
            "Next entry.\n",
            "\n",
            "The entry is 2\n",
            "The reciprocal of 2 is 0.5\n"
          ],
          "name": "stdout"
        }
      ]
    },
    {
      "cell_type": "markdown",
      "metadata": {
        "id": "VRA0HTNGCC1y"
      },
      "source": [
        "Python try with else clause\n",
        "--\n",
        "\n",
        "In some situations, you might want to run a certain block of code if the code block inside try ran without any errors. For these cases, you can use the `optional else keyword` with the try statement.\n",
        "\n",
        "`Note`: Exceptions in the else clause are not handled by the preceding except clauses."
      ]
    },
    {
      "cell_type": "code",
      "metadata": {
        "id": "igNfdYUgCC1y",
        "outputId": "00c25eb2-436e-46c1-be43-acc8e699ec58"
      },
      "source": [
        "# program to print the reciprocal of even numbers\n",
        "## your code here\n",
        "\n",
        "\n",
        "\n",
        "\n"
      ],
      "execution_count": null,
      "outputs": [
        {
          "output_type": "stream",
          "text": [
            "Enter a number: 4\n",
            "0.25\n"
          ],
          "name": "stdout"
        }
      ]
    },
    {
      "cell_type": "markdown",
      "metadata": {
        "id": "Cu3ZciPXCC1z"
      },
      "source": [
        "Python try...finally\n",
        "--\n",
        "\n",
        "The `try` statement in Python can have an `optional finally clause`. This clause is executed no matter what, and is generally `used to release external resources`.\n",
        "\n",
        "For example, we may be connected to a remote data center through the network or `working with a file` or a Graphical User Interface (GUI).\n",
        "\n",
        "In all these circumstances, we must clean up the resource before the program comes to a halt whether it successfully ran or not. These actions (closing a file, GUI or disconnecting from network) are performed in the finally clause to guarantee the execution."
      ]
    },
    {
      "cell_type": "code",
      "metadata": {
        "id": "MA1glm15CC1z",
        "outputId": "e4176081-ca28-477b-bf9e-6025015f8909"
      },
      "source": [
        "## run this code twice\n",
        "## Case 1 : open(\"test1.txt\")\n",
        "## Case 2 : open(\"test.txt\")\n",
        "\n",
        "try:\n",
        "   ## f = open(\"test1.txt\")\n",
        "   f = open(\"test.txt\") \n",
        "   somelines = f.read()\n",
        "   print(somelines) \n",
        "except :\n",
        "   print(\"Check the file once in your local system !!\") \n",
        "finally:\n",
        "   f.close()"
      ],
      "execution_count": null,
      "outputs": [
        {
          "output_type": "stream",
          "text": [
            "first:I am writing.\n",
            "then:I will read\n"
          ],
          "name": "stdout"
        }
      ]
    },
    {
      "cell_type": "markdown",
      "metadata": {
        "id": "I7LIgbudCC10"
      },
      "source": [
        "Python Custom Exceptions\n",
        "--\n",
        "\n",
        "Python has numerous built-in exceptions that force your program to output an error when something in the program goes wrong.\n",
        "\n",
        "However, sometimes you may need to create your own custom exceptions that serve your purpose.\n",
        "\n",
        "<hr />\n",
        "\n",
        "**`Example`** : User-Defined Exception in Python"
      ]
    },
    {
      "cell_type": "code",
      "metadata": {
        "id": "jrEzUpHiCC10",
        "outputId": "e35672e5-a9ec-497d-9c67-8fbf2e773300"
      },
      "source": [
        "## This program will ask the user to enter a number until they guess \n",
        "## a stored number correctly. \n",
        "## To help them figure it out, a hint is provided whether their guess \n",
        "## is greater than or less than the stored number.\n",
        "\n",
        "# define Python user-defined exceptions\n",
        "class Error(Exception):\n",
        "    \"\"\"Base class for other exceptions\"\"\"\n",
        "    pass\n",
        "\n",
        "\n",
        "class ValueTooSmallError(Error):\n",
        "    \"\"\"Raised when the input value is too small\"\"\"\n",
        "    pass\n",
        "\n",
        "\n",
        "class ValueTooLargeError(Error):\n",
        "    \"\"\"Raised when the input value is too large\"\"\"\n",
        "    pass\n",
        "\n",
        "\n",
        "# you need to guess this number\n",
        "number = 10\n",
        "\n",
        "# user guesses a number until he/she gets it right\n",
        "while True:\n",
        "    try:\n",
        "        i_num = int(input(\"Enter a number: \"))\n",
        "        if i_num < number:\n",
        "            raise ValueTooSmallError\n",
        "        elif i_num > number:\n",
        "            raise ValueTooLargeError\n",
        "        break\n",
        "    except ValueTooSmallError:\n",
        "        print(\"This value is too small, try again!\")\n",
        "        print()\n",
        "    except ValueTooLargeError:\n",
        "        print(\"This value is too large, try again!\")\n",
        "        print()\n",
        "\n",
        "print(\"Congratulations! You guessed it correctly.\")"
      ],
      "execution_count": null,
      "outputs": [
        {
          "output_type": "stream",
          "text": [
            "Enter a number: 5\n",
            "This value is too small, try again!\n",
            "\n",
            "Enter a number: 12\n",
            "This value is too large, try again!\n",
            "\n",
            "Enter a number: 10\n",
            "Congratulations! You guessed it correctly.\n"
          ],
          "name": "stdout"
        }
      ]
    },
    {
      "cell_type": "markdown",
      "metadata": {
        "id": "0mLYF9wECC11"
      },
      "source": [
        "**`Explaination`** \n",
        "\n",
        "We have defined a base class called Error.\n",
        "\n",
        "The other two exceptions (`ValueTooSmallError` and `ValueTooLargeError`) that are actually raised by our program are derived from this class. \n",
        "\n",
        "**This is the standard way to define user-defined exceptions in Python programming**."
      ]
    },
    {
      "cell_type": "markdown",
      "metadata": {
        "id": "xCYm81SoCC12"
      },
      "source": [
        "<hr />\n",
        "\n",
        "<font color='red'><b>This Notebook is authored by Master Data Science Trainer & Consultant - Mr. Rocky Jagtiani  </b> </font> \n",
        "\n",
        "Connect with him on **linkedin** and follow his company page - **Suven Consultants & Technology Pvt Ltd.** to know <font color='green'><b>about best Job offers for lateral hiring</b></font> ( `3 to 15 yrs work-ex IT profiles` )\n",
        "\n",
        "<hr />"
      ]
    }
  ]
}