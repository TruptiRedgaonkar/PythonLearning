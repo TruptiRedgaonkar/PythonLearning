{
  "nbformat": 4,
  "nbformat_minor": 0,
  "metadata": {
    "kernelspec": {
      "display_name": "Python 3",
      "language": "python",
      "name": "python3"
    },
    "language_info": {
      "codemirror_mode": {
        "name": "ipython",
        "version": 3
      },
      "file_extension": ".py",
      "mimetype": "text/x-python",
      "name": "python",
      "nbconvert_exporter": "python",
      "pygments_lexer": "ipython3",
      "version": "3.6.8"
    },
    "colab": {
      "name": "Builtin functions_DataFolkz_Rocky",
      "provenance": [],
      "collapsed_sections": [
        "4JGo6R0tpQw_",
        "4YkDBaanpQw_",
        "hvoxAyt8pQxA"
      ],
      "include_colab_link": true
    }
  },
  "cells": [
    {
      "cell_type": "markdown",
      "metadata": {
        "id": "view-in-github",
        "colab_type": "text"
      },
      "source": [
        "<a href=\"https://colab.research.google.com/github/TruptiRedgaonkar/pythonrepo/blob/main/DataFolkz/SharedNoteBooks/Builtin_functions_DataFolkz_Rocky.ipynb\" target=\"_parent\"><img src=\"https://colab.research.google.com/assets/colab-badge.svg\" alt=\"Open In Colab\"/></a>"
      ]
    },
    {
      "cell_type": "markdown",
      "metadata": {
        "id": "rRjW1gnXpQwz"
      },
      "source": [
        "Random Number Functions\n",
        "--"
      ]
    },
    {
      "cell_type": "code",
      "metadata": {
        "id": "6btLbsEOpQwz",
        "outputId": "9d44169e-aaf6-41c7-fdde-8b2defb0eabb"
      },
      "source": [
        "#--Random Number Functions--\n",
        "#--seed() # helps the pseudo-random no. generator with a start value\n",
        "import random\n",
        "\n",
        "random.seed() # as no seed provided, hence it takes systime\n",
        "print (\"random number with default seed\", random.random())\n",
        "\n",
        "random.seed(10)\n",
        "print (\"random number with int seed\", random.random())"
      ],
      "execution_count": null,
      "outputs": [
        {
          "output_type": "stream",
          "text": [
            "random number with default seed 0.37210689644090345\n",
            "random number with int seed 0.5714025946899135\n"
          ],
          "name": "stdout"
        }
      ]
    },
    {
      "cell_type": "markdown",
      "metadata": {
        "id": "q2z0UjIcpQw0"
      },
      "source": [
        "**Randomness** has many uses in **science, art, statistics, cryptography, gaming, gambling**, and other fields. For example, random assignment in randomized controlled trials helps scientists to test hypotheses, and random numbers or pseudorandom numbers help video games such as video poker.\n",
        "\n",
        "These uses have different levels of requirements, which leads to the use of different methods.  Some are strict and some others are loose.\n",
        "\n",
        "For example, applications in cryptography usually have strict requirements, whereas applications like generating a \"quote of the day\" can use a looser standard of pseudorandomness."
      ]
    },
    {
      "cell_type": "code",
      "metadata": {
        "id": "WiJj13uXpQw0",
        "outputId": "b24859dd-380c-42e4-d032-856a7c220063"
      },
      "source": [
        "#--shuffle()\n",
        "import random\n",
        "\n",
        "numlist = [20, 16, 10, 5];\n",
        "random.shuffle(numlist)\n",
        "print (\"Reshuffled list : \",  numlist)\n",
        "\n",
        "random.shuffle(numlist)\n",
        "print (\"Reshuffled again : \",  numlist)"
      ],
      "execution_count": null,
      "outputs": [
        {
          "output_type": "stream",
          "text": [
            "Reshuffled list :  [10, 20, 16, 5]\n",
            "Reshuffled again :  [10, 16, 5, 20]\n"
          ],
          "name": "stdout"
        }
      ]
    },
    {
      "cell_type": "code",
      "metadata": {
        "id": "dxCBhjf7pQw0",
        "outputId": "1894a856-7f75-465e-e03e-d68588089592"
      },
      "source": [
        "#--randrange() method returns a randomly selected element from range(start, stop, step).\n",
        "import random\n",
        "\n",
        "# randomly select an odd number between 1-100 \n",
        "print (\"randrange(1,100, 2) : \", random.randrange(1, 100, 2))\n",
        "\n",
        "# randomly select a number between 0-99 \n",
        "print (\"randrange(100) : \", random.randrange(100))"
      ],
      "execution_count": null,
      "outputs": [
        {
          "output_type": "stream",
          "text": [
            "randrange(1,100, 2) :  35\n",
            "randrange(100) :  83\n"
          ],
          "name": "stdout"
        }
      ]
    },
    {
      "cell_type": "markdown",
      "metadata": {
        "id": "t1oOMd0hpQw1"
      },
      "source": [
        "Built-in String Methods\n",
        "--"
      ]
    },
    {
      "cell_type": "code",
      "metadata": {
        "id": "IP_tjiTnpQw1",
        "outputId": "4d0f0afa-28aa-4777-c8b8-ab71a69e9d78"
      },
      "source": [
        "#-- len()\n",
        "astring = \"Hello friends!\"\n",
        "\n",
        "#count(total chars in the String)\n",
        "print(len(astring))"
      ],
      "execution_count": null,
      "outputs": [
        {
          "output_type": "stream",
          "text": [
            "14\n"
          ],
          "name": "stdout"
        }
      ]
    },
    {
      "cell_type": "code",
      "metadata": {
        "id": "R2hOufYUpQw1",
        "outputId": "0914e36c-2121-4061-e52c-ec3099bb2735"
      },
      "source": [
        "# index()\n",
        "\n",
        "# searches first index of a char\n",
        "print(\"searching for o :\", astring.index(\"o\"))\n",
        "bstring = \"All is well\"\n",
        "print(\"searching for l :\", bstring.index(\"l\", 3))\n",
        "print(\"searching last occurrence :\", bstring.rindex(\"l\"))"
      ],
      "execution_count": null,
      "outputs": [
        {
          "output_type": "stream",
          "text": [
            "searching for o : 4\n",
            "searching for l : 9\n",
            "searching last occurrence : 10\n"
          ],
          "name": "stdout"
        }
      ]
    },
    {
      "cell_type": "code",
      "metadata": {
        "id": "RO4Ensn-pQw1"
      },
      "source": [
        "# if string not found we get ValueError\n",
        "# print(\"searching for r :\", bstring.index(\"r\", 3))"
      ],
      "execution_count": null,
      "outputs": []
    },
    {
      "cell_type": "code",
      "metadata": {
        "id": "qZfV-ZGFpQw1",
        "outputId": "fb22419d-22bd-404a-d206-1debb07034fc"
      },
      "source": [
        "#--soln to above ValueError :\n",
        "try :\n",
        " print(\"searching for r :\", bstring.index('r', 3))\n",
        "except :\n",
        " print(\"no such char found\")"
      ],
      "execution_count": null,
      "outputs": [
        {
          "output_type": "stream",
          "text": [
            "no such char found\n"
          ],
          "name": "stdout"
        }
      ]
    },
    {
      "cell_type": "code",
      "metadata": {
        "id": "AccRz3FYpQw1",
        "outputId": "fd721649-9d29-40f5-bb3f-3de1c52f5f70"
      },
      "source": [
        "#counts the number of times 'l' char comes\n",
        "astring = \"Hello world!\"\n",
        "print(\"count of single char \", astring.count(\"l\"))\n",
        "\n",
        "\n",
        "str = \"this is string example....wow!!!\"\n",
        "sub = 'exam'\n",
        "\n",
        "# count the times 'exam' substring comes in str\n",
        "print (\"str.count('exam', 10, 40) : \", str.count(sub,10,40))\n"
      ],
      "execution_count": null,
      "outputs": [
        {
          "output_type": "stream",
          "text": [
            "count of single char  3\n",
            "str.count('exam', 10, 40) :  1\n"
          ],
          "name": "stdout"
        }
      ]
    },
    {
      "cell_type": "code",
      "metadata": {
        "id": "rCR4rSlQpQw2",
        "outputId": "df91a200-ef59-4534-d504-acee3b5578b8"
      },
      "source": [
        "#---upper, lower, startswith, endswith\n",
        "#covert to upper and lower cases\n",
        "astring = \"Hello world!\"\n",
        "print(astring.upper())\n",
        "print(\"Hello World\".lower())\n",
        "\n",
        "#---startswith() and endswith() returns bool\n",
        "print(astring.startswith(\"Hello\"))\n",
        "print(astring.endswith(\"asdfasdfasdf\"))"
      ],
      "execution_count": null,
      "outputs": [
        {
          "output_type": "stream",
          "text": [
            "HELLO WORLD!\n",
            "hello world\n",
            "True\n",
            "False\n"
          ],
          "name": "stdout"
        }
      ]
    },
    {
      "cell_type": "code",
      "metadata": {
        "id": "HbqPgJKypQw2",
        "outputId": "fe8cb19c-3073-4866-c402-231fe5d0b930"
      },
      "source": [
        "#---split the string into array\n",
        "astring = \"Hello world!\"\n",
        "afewwords = astring.split(\" \")\n",
        "print(afewwords)"
      ],
      "execution_count": null,
      "outputs": [
        {
          "output_type": "stream",
          "text": [
            "['Hello', 'world!']\n"
          ],
          "name": "stdout"
        }
      ]
    },
    {
      "cell_type": "code",
      "metadata": {
        "id": "l6o1E-GapQw2",
        "outputId": "723a8b63-be33-4301-b1db-34466a2d1f24"
      },
      "source": [
        "#---- slice operator\n",
        "astring = \"Hello world!\"\n",
        "#This prints a slice of the string. many forms.\n",
        "print(\"prints from index 3 to 7 :\", astring[3:8])\n",
        "print(\"prints from index 3 to end :\", astring[3:])\n",
        "print(\"prints from index start to 7th :\", astring[:8])"
      ],
      "execution_count": null,
      "outputs": [
        {
          "output_type": "stream",
          "text": [
            "prints from index 3 to 7 : lo wo\n",
            "prints from index 3 to end : lo world!\n",
            "prints from index start to 7th : Hello wo\n"
          ],
          "name": "stdout"
        }
      ]
    },
    {
      "cell_type": "code",
      "metadata": {
        "id": "IjMmgJJkpQw2",
        "outputId": "9bbe70ed-426c-4363-a2bb-af5dda111579"
      },
      "source": [
        "#extended syntax of slice is [start,stop,step]\n",
        "bstring = \"0123456789\"\n",
        "print(\"prints 3rd to 7th, alternate chars:\", bstring[ 3 : 8 : 2])"
      ],
      "execution_count": null,
      "outputs": [
        {
          "output_type": "stream",
          "text": [
            "prints 3rd to 7th, alternate chars: 357\n"
          ],
          "name": "stdout"
        }
      ]
    },
    {
      "cell_type": "code",
      "metadata": {
        "id": "l6BIahnapQw3",
        "outputId": "a8ac8529-0d69-409f-f006-9d9f576344fa"
      },
      "source": [
        "#read rgt to left and print forward\n",
        "print(\"negative index -3 :\", bstring[-3:])\n",
        "\n",
        "#reverse a string. -1 means step backwards\n",
        "print(\"Reversing the string :\", bstring[ : : -1])\n",
        "\n",
        "#reverse string and alternating chars\n",
        "print(\"reverse string, alternate chars:\", bstring[ : : -2])"
      ],
      "execution_count": null,
      "outputs": [
        {
          "output_type": "stream",
          "text": [
            "negative index -3 : 789\n",
            "Reversing the string : 9876543210\n",
            "reverse string, alternate chars: 97531\n"
          ],
          "name": "stdout"
        }
      ]
    },
    {
      "cell_type": "markdown",
      "metadata": {
        "id": "mSGhqp3WpQw3"
      },
      "source": [
        "Coding exercise ( 5 mins )\n",
        "--"
      ]
    },
    {
      "cell_type": "code",
      "metadata": {
        "id": "Z1j5Tb_7pQw3",
        "colab": {
          "base_uri": "https://localhost:8080/"
        },
        "outputId": "bcc297f1-b5c0-4557-afa5-56cca5c92c98"
      },
      "source": [
        "s = \"strings are awesome\"\n",
        "\n",
        "## print len of the string ?\n",
        "print(\"Length of s = \", len(s))\n",
        "\n",
        "# find first occurrence of \"a\" ?\n",
        "print(\"The first occurrence of the letter a = \", s.index(\"a\"))\n",
        "\n",
        "# find Number of a's ?\n",
        "print(\"a occurs \", s.count(\"a\"), \"times\")\n",
        "\n",
        "# use slicing and find first 5 chars\n",
        "print(\"The first five characters are \", s[ : 5]) \n",
        "\n",
        "# use slicing and find 5th to 9th char\n",
        "print(\"The next five characters are \", s[5 : 10])\n",
        "\n",
        "# use slicing and find alternate chars from 1st to last.\n",
        "print(\"The characters with odd index are\", s[1 :  : 2]) \n",
        "\n",
        "# use slicing and find 5th-from-last to the last char. Hint : use -ve index \n",
        "print(\"The last five characters are \",s[ -5 : ]) "
      ],
      "execution_count": null,
      "outputs": [
        {
          "output_type": "stream",
          "text": [
            "Length of s =  19\n",
            "The first occurrence of the letter a =  8\n",
            "a occurs  2 times\n",
            "The first five characters are  strin\n",
            "The next five characters are  gs ar\n",
            "The characters with odd index are tig r wsm\n",
            "The last five characters are  esome\n"
          ],
          "name": "stdout"
        }
      ]
    },
    {
      "cell_type": "code",
      "metadata": {
        "id": "tczuooQmpQw3",
        "colab": {
          "base_uri": "https://localhost:8080/"
        },
        "outputId": "398d59b9-21ee-45d9-cd15-750fd9bd2070"
      },
      "source": [
        "#-------More String functions\n",
        "\n",
        "#--accept input and check it is num, alpha or special\n",
        "#--isalpha(), isdigit(), isalnum()\n",
        "\n",
        "str = input(\"Enter any string ? \")\n",
        "\n",
        "if str.isalpha() :\n",
        " print(\"i/p is alpha only\")\n",
        "elif str.isdigit() :\n",
        " print(\"i/p is digit\")\n",
        "elif str.isalnum() :\n",
        " print(\"i/p is alpha-numeric\")\n",
        "else :\n",
        " print(\"i/p is special char\")\n",
        "\n",
        "## Note :  space is taken as special char "
      ],
      "execution_count": null,
      "outputs": [
        {
          "output_type": "stream",
          "text": [
            "Enter any string ? esha malhatra\n",
            "i/p is special char\n"
          ],
          "name": "stdout"
        }
      ]
    },
    {
      "cell_type": "code",
      "metadata": {
        "id": "nN4HUBmCpQw3",
        "colab": {
          "base_uri": "https://localhost:8080/"
        },
        "outputId": "e56581fd-9ad1-48b3-e1a6-bae020fefa48"
      },
      "source": [
        "#--find() method \n",
        "#-- determines if the string str occurs in string or not. if yes returns index, else -1\n",
        "\n",
        "str1 = \"this is string example....wow!!!\"\n",
        "str2 = \"exam\";\n",
        "\n",
        "print(str1.find(str2))\n",
        "\n",
        "print(str1.find(str2, 10))\n",
        "\n",
        "print(str1.find(str2, 40))  #-1 if not found\n",
        "\n",
        "#--find from rgt to left \n",
        "strA = \"example1 and example2\"\n",
        "strB = \"exam\";\n",
        "print(strA.rfind(strB))"
      ],
      "execution_count": null,
      "outputs": [
        {
          "output_type": "stream",
          "text": [
            "15\n",
            "15\n",
            "-1\n",
            "13\n"
          ],
          "name": "stdout"
        }
      ]
    },
    {
      "cell_type": "markdown",
      "metadata": {
        "id": "PPbd5WM6pQw3"
      },
      "source": [
        "Built-in List Functions\n",
        "--"
      ]
    },
    {
      "cell_type": "code",
      "metadata": {
        "id": "ISC_x9TNpQw3",
        "colab": {
          "base_uri": "https://localhost:8080/"
        },
        "outputId": "cf0aa9d3-db02-4ff7-fd3c-d89379e074ed"
      },
      "source": [
        "#--list() converts a tuple or string or object to List\n",
        "aTuple = (123, 'C++', 'Java', 'Python')\n",
        "\n",
        "list1 = list(aTuple)\n",
        "print(\"List elements : \", list1)\n",
        "\n",
        "str = \"Hello World\"\n",
        "\n",
        "list2 = list(str)\n",
        "print(\"List elements : \", list2)"
      ],
      "execution_count": null,
      "outputs": [
        {
          "output_type": "stream",
          "text": [
            "List elements :  [123, 'C++', 'Java', 'Python']\n",
            "List elements :  ['H', 'e', 'l', 'l', 'o', ' ', 'W', 'o', 'r', 'l', 'd']\n"
          ],
          "name": "stdout"
        }
      ]
    },
    {
      "cell_type": "code",
      "metadata": {
        "id": "45WwmKZNpQw4",
        "colab": {
          "base_uri": "https://localhost:8080/"
        },
        "outputId": "d6def447-7d3f-4817-c828-e577c11f8b41"
      },
      "source": [
        "#-- append() appends object to the list \n",
        "list3 = ['sql', 'Java', 'Python']\n",
        "list3.append(['hackerrank', 'Challenge'])\n",
        "\n",
        "print(\"after appending : \", list3)"
      ],
      "execution_count": null,
      "outputs": [
        {
          "output_type": "stream",
          "text": [
            "after appending :  ['sql', 'Java', 'Python', ['hackerrank', 'Challenge']]\n"
          ],
          "name": "stdout"
        }
      ]
    },
    {
      "cell_type": "code",
      "metadata": {
        "id": "VP4l_GiupQw4",
        "colab": {
          "base_uri": "https://localhost:8080/"
        },
        "outputId": "39011975-71ba-4932-9f5e-d0508a834ded"
      },
      "source": [
        "#-- extend() adds each element of the iterable to the list one at a time. \n",
        "list3 = ['sql', 'Java', 'Python']\n",
        "\n",
        "list3.extend(['hackerrank', 'Challenge'])\n",
        "\n",
        "print(\"after extending : \", list3)"
      ],
      "execution_count": null,
      "outputs": [
        {
          "output_type": "stream",
          "text": [
            "after extending :  ['sql', 'Java', 'Python', 'hackerrank', 'Challenge']\n"
          ],
          "name": "stdout"
        }
      ]
    },
    {
      "cell_type": "code",
      "metadata": {
        "id": "RMqsgNaEpQw4",
        "colab": {
          "base_uri": "https://localhost:8080/"
        },
        "outputId": "48ace70e-7187-4d55-c4f3-8cb68d3afc66"
      },
      "source": [
        "#-- count() counts object in the list \n",
        "list4 = ['Java Script', 'Java', 'Python']\n",
        "\n",
        "print(\"Count of Java : \", list4.count('Java'))\n"
      ],
      "execution_count": null,
      "outputs": [
        {
          "output_type": "stream",
          "text": [
            "Count of Java :  1\n"
          ],
          "name": "stdout"
        }
      ]
    },
    {
      "cell_type": "code",
      "metadata": {
        "id": "aHjCBJqGpQw4",
        "colab": {
          "base_uri": "https://localhost:8080/"
        },
        "outputId": "b04d42e7-1709-40ae-862b-b9f45b76f6df"
      },
      "source": [
        "#--insert() method inserts object obj into list at offset index.\n",
        "\n",
        "list5 = ['physics', 'chemistry', 'maths']\n",
        "\n",
        "list5.insert(1, 'Biology')\n",
        "\n",
        "print ('Final list : ', list5)"
      ],
      "execution_count": null,
      "outputs": [
        {
          "output_type": "stream",
          "text": [
            "Final list :  ['physics', 'Biology', 'chemistry', 'maths']\n"
          ],
          "name": "stdout"
        }
      ]
    },
    {
      "cell_type": "code",
      "metadata": {
        "id": "LSDMhTE_pQw4",
        "colab": {
          "base_uri": "https://localhost:8080/"
        },
        "outputId": "4594c383-6b51-4714-cea5-35a56a80e3e3"
      },
      "source": [
        "#--pop() Removes and returns last object from list\n",
        "list4 = ['physics', 'Biology', 'maths']\n",
        "list4.pop(1)\n",
        "print ('pop once : ', list4)\n",
        "\n",
        "list4.pop()\n",
        "print ('pop again : ', list4)"
      ],
      "execution_count": null,
      "outputs": [
        {
          "output_type": "stream",
          "text": [
            "pop once :  ['physics', 'maths']\n",
            "pop again :  ['physics']\n"
          ],
          "name": "stdout"
        }
      ]
    },
    {
      "cell_type": "code",
      "metadata": {
        "id": "fQQJTAdzpQw4",
        "colab": {
          "base_uri": "https://localhost:8080/",
          "height": 35
        },
        "outputId": "1e7ef445-0a85-42ca-e895-c242f8bc6034"
      },
      "source": [
        "## - does pop() work with -ve index ?\n",
        "\n",
        "list4 = ['physics', 'Biology', 'maths']\n",
        "list4.pop(-2)\n",
        "\n",
        "## ans : yes it does."
      ],
      "execution_count": null,
      "outputs": [
        {
          "output_type": "execute_result",
          "data": {
            "application/vnd.google.colaboratory.intrinsic+json": {
              "type": "string"
            },
            "text/plain": [
              "'Biology'"
            ]
          },
          "metadata": {
            "tags": []
          },
          "execution_count": 19
        }
      ]
    },
    {
      "cell_type": "code",
      "metadata": {
        "id": "7pwlwnELpQw5",
        "colab": {
          "base_uri": "https://localhost:8080/"
        },
        "outputId": "043e4284-431c-4bd0-a86b-4fe76ed3a2bb"
      },
      "source": [
        "#--reverse() the list\n",
        "list5 = ['physics', 'chemistry', 'maths']\n",
        "\n",
        "list5.reverse()\n",
        "\n",
        "print(\"after reversing : \", list5)"
      ],
      "execution_count": null,
      "outputs": [
        {
          "output_type": "stream",
          "text": [
            "after reversing :  ['maths', 'chemistry', 'physics']\n"
          ],
          "name": "stdout"
        }
      ]
    },
    {
      "cell_type": "code",
      "metadata": {
        "id": "r9JE8NVlpQw5",
        "colab": {
          "base_uri": "https://localhost:8080/"
        },
        "outputId": "8c27beb7-8105-406e-e477-3733e169987b"
      },
      "source": [
        "#--sort() the list\n",
        "list6 = ['physics', 'chemistry', 'maths']\n",
        "\n",
        "list6.sort()\n",
        "\n",
        "print(\"after sorting : \", list6)\n",
        "\n",
        "## sorting uses ASCII values\n",
        "## ascii(A) -> 65 ,  ascii(a) -> 97\n",
        "## A -> Z has lower ascii value compared a -> z"
      ],
      "execution_count": null,
      "outputs": [
        {
          "output_type": "stream",
          "text": [
            "after sorting :  ['chemistry', 'maths', 'physics']\n"
          ],
          "name": "stdout"
        }
      ]
    },
    {
      "cell_type": "code",
      "metadata": {
        "id": "mKk5MuQhpQw7",
        "colab": {
          "base_uri": "https://localhost:8080/"
        },
        "outputId": "d57fa07a-4952-4eac-d65b-8ba74e55491b"
      },
      "source": [
        "#--sort() the list in reverse\n",
        "list6 = ['physics', 'chemistry', 'maths']\n",
        "\n",
        "list6.sort(reverse = True)\n",
        "\n",
        "print(\"after sorting : \", list6)"
      ],
      "execution_count": null,
      "outputs": [
        {
          "output_type": "stream",
          "text": [
            "after sorting :  ['physics', 'maths', 'chemistry']\n"
          ],
          "name": "stdout"
        }
      ]
    },
    {
      "cell_type": "markdown",
      "metadata": {
        "id": "qaNBHwB2pQw7"
      },
      "source": [
        "Coding Excerise ( 5 mins )\n",
        "--"
      ]
    },
    {
      "cell_type": "code",
      "metadata": {
        "id": "Cn7GylhBpQw8",
        "outputId": "878914c2-8bbe-4692-fbd8-4aff6ea59984"
      },
      "source": [
        "## Loop over your list and print all elements that are of size 3 ?\n",
        "\n",
        "# This is your list\n",
        "mylist = [ [1,2,3], [4,5,6,7], [8,9,10] ]\n",
        "\n",
        "# Loop over your list and print all elements that are of size 3\n",
        "for x in mylist:\n",
        "      if len(x) == 3 :\n",
        "        print(x)"
      ],
      "execution_count": null,
      "outputs": [
        {
          "output_type": "stream",
          "text": [
            "[1, 2, 3]\n",
            "[8, 9, 10]\n"
          ],
          "name": "stdout"
        }
      ]
    },
    {
      "cell_type": "code",
      "metadata": {
        "id": "lb5i1BNGpQw-",
        "colab": {
          "base_uri": "https://localhost:8080/"
        },
        "outputId": "b9fa1229-691b-4517-8700-02ba7e0cd7a0"
      },
      "source": [
        "## enumerate() : returns the index and value both \n",
        "\n",
        "## Loop over \"myList\" and print tuples of all indices and values\n",
        "# This is your list\n",
        "#myList = [3,4,5,6]\n",
        "myList = [ [1,2,3], [4,5,6,7], [8,9,10] ]\n",
        "\n",
        "# Loop over \"myList\" and print tuples of all indices and values \n",
        "for i, val in enumerate(myList):\n",
        "     print(i, val)"
      ],
      "execution_count": null,
      "outputs": [
        {
          "output_type": "stream",
          "text": [
            "0 [1, 2, 3]\n",
            "1 [4, 5, 6, 7]\n",
            "2 [8, 9, 10]\n"
          ],
          "name": "stdout"
        }
      ]
    },
    {
      "cell_type": "code",
      "metadata": {
        "id": "u098wNCRpQw-",
        "colab": {
          "base_uri": "https://localhost:8080/"
        },
        "outputId": "508cc503-c92b-4fa9-cd25-bc25e94a2ca0"
      },
      "source": [
        "## Get the common unique elements ?\n",
        "\n",
        "## Hint use intersection() of the set  \n",
        "\n",
        "list1 = [1,2,3,4,5,6,6]\n",
        "list2 = [3,3,4,7,8]\n",
        "\n",
        "print(set(list1))\n",
        "print(set(list2))\n",
        "\n",
        "print(\"-----------------\")\n",
        "\n",
        "# Use intersection()\n",
        "print(list(set(list1).intersection(set(list2))))\n",
        "\n",
        "# Remember : intersection method is defn over set object, not list"
      ],
      "execution_count": null,
      "outputs": [
        {
          "output_type": "stream",
          "text": [
            "{1, 2, 3, 4, 5, 6}\n",
            "{8, 3, 4, 7}\n",
            "-----------------\n",
            "[3, 4]\n"
          ],
          "name": "stdout"
        }
      ]
    },
    {
      "cell_type": "code",
      "metadata": {
        "id": "LGtYo_yppQw-",
        "colab": {
          "base_uri": "https://localhost:8080/"
        },
        "outputId": "fe92a783-9144-4242-b826-26e050b21612"
      },
      "source": [
        "## Print the unique elements from List ?\n",
        "\n",
        "# Your list with duplicate values\n",
        "duplicates = [1, 2, 3, 1, 2, 5, 6, 7, 8]\n",
        "\n",
        "#--Print the unique elements from \"duplicates\" list\n",
        "print(list(set(duplicates)))"
      ],
      "execution_count": null,
      "outputs": [
        {
          "output_type": "stream",
          "text": [
            "[1, 2, 3, 5, 6, 7, 8]\n"
          ],
          "name": "stdout"
        }
      ]
    },
    {
      "cell_type": "code",
      "metadata": {
        "colab": {
          "base_uri": "https://localhost:8080/"
        },
        "id": "P68LJnYoBGs2",
        "outputId": "64a353aa-519d-43b2-f890-0eb44d5f9a7d"
      },
      "source": [
        "# Your list with duplicate values\n",
        "duplicates = [\"abc\", \"abc\", \"def\"]\n",
        "\n",
        "#--Print the unique elements from \"duplicates\" list\n",
        "print(list(set(duplicates)))"
      ],
      "execution_count": null,
      "outputs": [
        {
          "output_type": "stream",
          "text": [
            "['def', 'abc']\n"
          ],
          "name": "stdout"
        }
      ]
    },
    {
      "cell_type": "markdown",
      "metadata": {
        "id": "-ZH3Sv13pQw-"
      },
      "source": [
        "Built-in tuple Functions\n",
        "--"
      ]
    },
    {
      "cell_type": "code",
      "metadata": {
        "id": "DTocqxEhpQw-",
        "colab": {
          "base_uri": "https://localhost:8080/"
        },
        "outputId": "95ab7a27-100a-4733-e4af-230dd28e72e2"
      },
      "source": [
        "#--Built-in tuple Functions--\n",
        "tuple1, tuple2 = (123, 456, 678), (456, 123)\n",
        "\n",
        "#finding len of tuple\n",
        "print(len(tuple1))\n",
        "\n",
        "#returns max value\n",
        "print(max(tuple1))\n",
        "\n",
        "#returns min value\n",
        "print(min(tuple1))"
      ],
      "execution_count": null,
      "outputs": [
        {
          "output_type": "stream",
          "text": [
            "3\n",
            "678\n",
            "123\n"
          ],
          "name": "stdout"
        }
      ]
    },
    {
      "cell_type": "code",
      "metadata": {
        "id": "jr84nZWjpQw_",
        "colab": {
          "base_uri": "https://localhost:8080/"
        },
        "outputId": "4e9b80e1-1b16-4ae8-8ab1-5cb52688d6c3"
      },
      "source": [
        "#converts list to tuple\n",
        "listt = [123, 'suven', 789]\n",
        "\n",
        "tuple4 = tuple(listt)\n",
        "\n",
        "print(tuple4)"
      ],
      "execution_count": null,
      "outputs": [
        {
          "output_type": "stream",
          "text": [
            "(123, 'suven', 789)\n"
          ],
          "name": "stdout"
        }
      ]
    },
    {
      "cell_type": "markdown",
      "metadata": {
        "id": "A2u0AKlXpQw_"
      },
      "source": [
        "zip function\n",
        "--"
      ]
    },
    {
      "cell_type": "code",
      "metadata": {
        "id": "g-Intc-YpQw_",
        "colab": {
          "base_uri": "https://localhost:8080/"
        },
        "outputId": "22fd731e-f891-4562-d5bb-887320ad82fd"
      },
      "source": [
        "## The purpose of zip() is to map the similar index of multiple containers \n",
        "## so that they can be used as a single entity.\n",
        "\n",
        "# initializing lists \n",
        "name = [ \"Akshay\", \"Neha\", \"Vipin\", \"Snehar\"] \n",
        "emp_no = [ 4, 1, 3, 2 ] \n",
        "bonus_in_percent = [ 20, 12, 30, 17 ] \n",
        "  \n",
        "# using zip() to map values \n",
        "mapped = zip(name, emp_no, bonus_in_percent) # if you don't convert to set or list, then it prints the object id\n",
        "  \n",
        "# converting mappeed Object to a set or list,  for printing purposes \n",
        "smapped = list(mapped) # if you don't convert to set , then it prints the object id\n",
        "  \n",
        "# printing resultant values  \n",
        "print(\"The zipped result is : \", end=\" \") \n",
        "print(smapped)\n",
        "smapped.sort()  ## Can we sort ?  Ans : Yes\n",
        "print(smapped)"
      ],
      "execution_count": null,
      "outputs": [
        {
          "output_type": "stream",
          "text": [
            "The zipped result is :  [('Akshay', 4, 20), ('Neha', 1, 12), ('Vipin', 3, 30), ('Snehar', 2, 17)]\n",
            "[('Akshay', 4, 20), ('Neha', 1, 12), ('Snehar', 2, 17), ('Vipin', 3, 30)]\n"
          ],
          "name": "stdout"
        }
      ]
    },
    {
      "cell_type": "code",
      "metadata": {
        "id": "PwA18Ut9pQw_",
        "colab": {
          "base_uri": "https://localhost:8080/"
        },
        "outputId": "ca744b49-5a60-43ab-95a2-701bde834ca3"
      },
      "source": [
        "## - simple application of zip() \n",
        "\n",
        "#initializing list of players. \n",
        "players = [ \"Sachin\", \"Sehwag\", \"Gambhir\", \"Dravid\", \"Raina\" ] \n",
        "  \n",
        "#initializing their scores \n",
        "scores = [100, 15, 17, 28, 43 ] \n",
        "  \n",
        "#printing players and scores. \n",
        "for pl, sc in zip(players, scores): \n",
        "    print (\"Player :  %s     Score : %d\" %(pl, sc)) \n",
        "\n",
        "## %s -> String , %d --> int number   , %f --> float number     "
      ],
      "execution_count": null,
      "outputs": [
        {
          "output_type": "stream",
          "text": [
            "Player :  Sachin     Score : 100\n",
            "Player :  Sehwag     Score : 15\n",
            "Player :  Gambhir     Score : 17\n",
            "Player :  Dravid     Score : 28\n"
          ],
          "name": "stdout"
        }
      ]
    },
    {
      "cell_type": "markdown",
      "metadata": {
        "id": "4JGo6R0tpQw_"
      },
      "source": [
        "zipping and unzipping\n",
        "--"
      ]
    },
    {
      "cell_type": "code",
      "metadata": {
        "id": "IBPmskKcpQw_",
        "colab": {
          "base_uri": "https://localhost:8080/"
        },
        "outputId": "9d9fc4b4-1e71-4641-f7ee-1403e2c6fed2"
      },
      "source": [
        "name = [ \"Manjeet\", \"Nikhil\", \"Shambhavi\", \"Astha\" ] \n",
        "roll_no = [ 4, 1, 3, 2 ] \n",
        "marks = [ 40, 50, 60, 70 ] \n",
        "  \n",
        "# using zip() to map values \n",
        "mapped = zip(name, roll_no, marks) \n",
        "  \n",
        "# converting values to print as list \n",
        "lmapped = list(mapped) \n",
        "  \n",
        "# printing resultant values  \n",
        "print(\"The zipped result is : \",end=\"\") \n",
        "print(lmapped) \n",
        "  \n",
        "print(\"\\n\") \n",
        "\n",
        "#unzipping values \n",
        "namz, roll_noz, marksz = zip(*lmapped) \n",
        "  \n",
        "print(\"The unzipped result:\") \n",
        "  \n",
        "#printing initial lists \n",
        "print(\"The name list is : \",end=\"\") \n",
        "print(namz) \n",
        "  \n",
        "print(\"The roll_no list is : \",end=\"\") \n",
        "print(roll_noz) \n",
        "  \n",
        "print(\"The marks list is : \",end=\"\") \n",
        "print(marksz)"
      ],
      "execution_count": null,
      "outputs": [
        {
          "output_type": "stream",
          "text": [
            "The zipped result is : [('Manjeet', 4, 40), ('Nikhil', 1, 50), ('Shambhavi', 3, 60), ('Astha', 2, 70)]\n",
            "\n",
            "\n",
            "The unzipped result:\n",
            "The name list is : ('Manjeet', 'Nikhil', 'Shambhavi', 'Astha')\n",
            "The roll_no list is : (4, 1, 3, 2)\n",
            "The marks list is : (40, 50, 60, 70)\n"
          ],
          "name": "stdout"
        }
      ]
    },
    {
      "cell_type": "markdown",
      "metadata": {
        "id": "4YkDBaanpQw_"
      },
      "source": [
        "Built-in dict functions\n",
        "--"
      ]
    },
    {
      "cell_type": "code",
      "metadata": {
        "id": "pklFq7lHpQw_",
        "colab": {
          "base_uri": "https://localhost:8080/"
        },
        "outputId": "34ad34b9-295e-4d64-e344-762cfd05d52f"
      },
      "source": [
        "# clear() \n",
        "## -- Removes all elements of dictionary dictt\n",
        "dictt = {'Name':'RIL', 'Dividend':8,  'Outlook':'positive-hold'}\n",
        "dictt.clear()\n",
        "print(dictt)"
      ],
      "execution_count": null,
      "outputs": [
        {
          "output_type": "stream",
          "text": [
            "{}\n"
          ],
          "name": "stdout"
        }
      ]
    },
    {
      "cell_type": "code",
      "metadata": {
        "id": "czD1vjOVpQw_",
        "colab": {
          "base_uri": "https://localhost:8080/"
        },
        "outputId": "5d085d2f-14b8-4f71-90a6-737395276e0d"
      },
      "source": [
        "#copy() : Returns a shallow copy of dictionary dictt\n",
        "dictt = {'Name':'RIL','Dividend':8, 'Outlook':'positive-hold'}\n",
        "\n",
        "dictt = {'Name':'ITC','Dividend':6, 'Outlook':'positive'}\n",
        "\n",
        "print(dictt)\n",
        "\n",
        "#dictt2 = dictt.copy() # only gets reference\n",
        "\n",
        "#print(dictt2)"
      ],
      "execution_count": null,
      "outputs": [
        {
          "output_type": "stream",
          "text": [
            "{'Name': 'ITC', 'Dividend': 6, 'Outlook': 'positive'}\n"
          ],
          "name": "stdout"
        }
      ]
    },
    {
      "cell_type": "markdown",
      "metadata": {
        "id": "9M5iVbi0pQw_"
      },
      "source": [
        "Difference between shallow and deep copy\n",
        "--\n",
        "\n",
        "A `shallow copy` means constructing a new collection object and then populating it with references to the child objects found in the original. In essence, a shallow copy is only one level deep. The copying process does not recurse and therefore won’t create copies of the child objects themselves.\n",
        "\n",
        "A `deep copy` makes the copying process recursive. It means first constructing a new collection object and then recursively populating it with copies of the child objects found in the original. Copying an object this way walks the whole object tree to create a fully independent clone of the original object and all of its children."
      ]
    },
    {
      "cell_type": "code",
      "metadata": {
        "id": "FB4a-1mWpQw_",
        "outputId": "7efdffcf-f3c1-4cc4-ae47-e2f002ad79fa"
      },
      "source": [
        "#--shallow copy example --\n",
        "xs = [[1, 2, 3], [4, 5, 6], [7, 8, 9]]\n",
        "ys = list(xs)  # Makes a shallow copy. ys refers to same address space\n",
        "print(ys)\n",
        "print(\"--------------------\")\n",
        "xs.append(['new sublist'])\n",
        "print(\"xs is : \", xs)\n",
        "print(\"ys is : \", ys)\n",
        "print(\"--------------------\")\n",
        "xs[1][0] = 'X'\n",
        "print(\"updated xs is : \", xs)\n",
        "print(\"updated ys is : \", ys)\n",
        "print(\"--------------------\")"
      ],
      "execution_count": null,
      "outputs": [
        {
          "output_type": "stream",
          "text": [
            "[[1, 2, 3], [4, 5, 6], [7, 8, 9]]\n",
            "--------------------\n",
            "xs is :  [[1, 2, 3], [4, 5, 6], [7, 8, 9], ['new sublist']]\n",
            "ys is :  [[1, 2, 3], [4, 5, 6], [7, 8, 9]]\n",
            "--------------------\n",
            "updated xs is :  [[1, 2, 3], ['X', 5, 6], [7, 8, 9], ['new sublist']]\n",
            "updated ys is :  [[1, 2, 3], ['X', 5, 6], [7, 8, 9]]\n",
            "--------------------\n"
          ],
          "name": "stdout"
        }
      ]
    },
    {
      "cell_type": "code",
      "metadata": {
        "id": "z9_I5Vd6pQw_",
        "outputId": "eaeb559c-f4c1-4532-8c19-d498e2a9e487"
      },
      "source": [
        "#--deep copy example\n",
        "import copy\n",
        "xs = [[1, 2, 3], [4, 5, 6], [7, 8, 9]]\n",
        "zs = copy.deepcopy(xs)#all child objects are copied\n",
        "print(\"zs is : \", zs)\n",
        "print(\"--------------------\")\n",
        "xs[1][0] = 'X'\n",
        "print(\"updated xs is : \", xs)\n",
        "print(\"zs remains same : \", zs)"
      ],
      "execution_count": null,
      "outputs": [
        {
          "output_type": "stream",
          "text": [
            "zs is :  [[1, 2, 3], [4, 5, 6], [7, 8, 9]]\n",
            "--------------------\n",
            "updated xs is :  [[1, 2, 3], ['X', 5, 6], [7, 8, 9]]\n",
            "zs remains same :  [[1, 2, 3], [4, 5, 6], [7, 8, 9]]\n"
          ],
          "name": "stdout"
        }
      ]
    },
    {
      "cell_type": "code",
      "metadata": {
        "id": "q2AGW3gqpQxA",
        "outputId": "f483c3b4-15a9-4c14-9ef1-bc0e7d3ac1ee"
      },
      "source": [
        "#--get list of all keys, values and key:value pairs ?\n",
        "dictt = {'Name':'RIL','Dividend':8, 'Outlook':'positive-hold'}\n",
        "print(dictt.keys());\n",
        "print(\"---------------------\");\n",
        "\n",
        "print(\"values are \", dictt.values());\n",
        "print(\"---------------------\");\n",
        "\n",
        "print(\"key:value pairs are :\", dictt.items()); #shows list of tuples\n",
        "#each tuple is a key:value pair\n",
        "print(\"---------------------\");\n",
        "\n",
        "#get value of a key\n",
        "print(\"get value of a key 'Name':\",dictt.get('Name'))"
      ],
      "execution_count": null,
      "outputs": [
        {
          "output_type": "stream",
          "text": [
            "dict_keys(['Name', 'Dividend', 'Outlook'])\n",
            "---------------------\n",
            "values are  dict_values(['RIL', 8, 'positive-hold'])\n",
            "---------------------\n",
            "key:value pairs are : dict_items([('Name', 'RIL'), ('Dividend', 8), ('Outlook', 'positive-hold')])\n",
            "---------------------\n",
            "get value of a key 'Name': RIL\n"
          ],
          "name": "stdout"
        }
      ]
    },
    {
      "cell_type": "code",
      "metadata": {
        "id": "1FtLm9ibpQxA",
        "outputId": "4c399635-6dda-4481-f81f-3235aecaa39f"
      },
      "source": [
        "#--to check for a key ?  -- use in operator.\n",
        "# -- 'in' is a membership operator \n",
        "dictt = {'Name':'RIL','Dividend':8, 'Outlook':'positive-hold'}\n",
        "print('Name' in dictt);\n",
        "print('Names' in dictt);"
      ],
      "execution_count": null,
      "outputs": [
        {
          "output_type": "stream",
          "text": [
            "True\n",
            "False\n"
          ],
          "name": "stdout"
        }
      ]
    },
    {
      "cell_type": "code",
      "metadata": {
        "id": "ZZLkd_vFpQxA",
        "outputId": "1081314e-6e32-4866-dd29-0314ca2687e2"
      },
      "source": [
        "#--update updates the dictionary \n",
        "dictt = {'Name':'RIL','Dividend':8, 'Outlook':'positive-hold'}\n",
        "dictt2 = {'quantity':200}\n",
        "\n",
        "dictt.update(dictt2)\n",
        "print (\"updated dict : \", dictt)"
      ],
      "execution_count": null,
      "outputs": [
        {
          "output_type": "stream",
          "text": [
            "updated dict :  {'Name': 'RIL', 'Dividend': 8, 'Outlook': 'positive-hold', 'quantity': 200}\n"
          ],
          "name": "stdout"
        }
      ]
    },
    {
      "cell_type": "code",
      "metadata": {
        "id": "7tSCH7ijpQxA",
        "outputId": "d61a199f-c6e1-4aed-c629-cd893b09356e"
      },
      "source": [
        "#--pop removes a key and returns its value\n",
        "dict3 = {'Name':'Neha', 'course':'Web Tech'}\n",
        "print(\"value of the popped key :\",dict3.pop('Name'))\n",
        "print(\"dict after pop :\", dict3)\n",
        "\n",
        "#--can use default value. Prevents Exception when key not found\n",
        "print(dict3.pop('location', 'null'))\n",
        "\n"
      ],
      "execution_count": null,
      "outputs": [
        {
          "output_type": "stream",
          "text": [
            "value of the popped key : Neha\n",
            "dict after pop : {'course': 'Web Tech'}\n",
            "null\n"
          ],
          "name": "stdout"
        }
      ]
    },
    {
      "cell_type": "code",
      "metadata": {
        "id": "UMaeBZFVpQxA",
        "outputId": "5018d6ba-6783-4509-ae2a-15bfa30db088"
      },
      "source": [
        "#--to pop key:value pair , do :\n",
        "dict3 = {'Name':'Neha', 'course':'Web Tech'}\n",
        "print(\"first time \",dict3.popitem())\n",
        "print(\"second time \",dict3.popitem())\n",
        "print(dict3)"
      ],
      "execution_count": null,
      "outputs": [
        {
          "output_type": "stream",
          "text": [
            "first time  ('course', 'Web Tech')\n",
            "second time  ('Name', 'Neha')\n",
            "{}\n"
          ],
          "name": "stdout"
        }
      ]
    },
    {
      "cell_type": "markdown",
      "metadata": {
        "id": "hvoxAyt8pQxA"
      },
      "source": [
        "Very important tip to all non-programmers or non-cs learner friends from Rocky Sir\n",
        "--\n",
        "\n",
        "> Programming is an **`Art`**. Every **`Art`** takes time to pick and a lot more time to master.\n",
        "\n",
        "> Its like cycling and swimming, you fall , drone !! **`else`** you don't pick up the art.\n",
        "\n",
        "> In programming you get errors , but you only get errors when you program or code.\n",
        "\n",
        "> So make sure of practicing each and every NB of **`mine`** , with **`heart`** , **`mind`** and patience.\n",
        "\n",
        "> Always solve weekly assignments given by DataFolkz team.\n",
        "\n",
        "**`Regards`**\n",
        "<br />\n",
        "Rocky Jagtiani\n",
        "<br />\n",
        "**`You can be connected with me all the time here`**  <br />\n",
        "<a href=\"https://linkedin.com/in/rocky-jagtiani-3b390649/\">linkedin.com/in/rocky-jagtiani-3b390649/</a>  "
      ]
    }
  ]
}
