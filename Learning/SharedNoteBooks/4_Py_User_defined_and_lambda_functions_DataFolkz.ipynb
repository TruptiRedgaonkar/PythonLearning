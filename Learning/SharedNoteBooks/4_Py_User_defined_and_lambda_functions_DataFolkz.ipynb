{
  "nbformat": 4,
  "nbformat_minor": 0,
  "metadata": {
    "kernelspec": {
      "display_name": "Python 3",
      "language": "python",
      "name": "python3"
    },
    "language_info": {
      "codemirror_mode": {
        "name": "ipython",
        "version": 3
      },
      "file_extension": ".py",
      "mimetype": "text/x-python",
      "name": "python",
      "nbconvert_exporter": "python",
      "pygments_lexer": "ipython3",
      "version": "3.6.8"
    },
    "colab": {
      "name": "4_Py User defined and lambda functions_DataFolkz_Rocky.ipynb",
      "provenance": [],
      "collapsed_sections": [
        "fCYHVIkHmgKt",
        "rXEr64dcmgKt",
        "e6p4-URvmgKu",
        "eORCL_UZmgKu",
        "JXfJvEFgmgKu",
        "VPHIK_PLmgKv",
        "sFlTvbChmgKv",
        "b-89aqiWmgKv"
      ],
      "include_colab_link": true
    }
  },
  "cells": [
    {
      "cell_type": "markdown",
      "metadata": {
        "id": "view-in-github",
        "colab_type": "text"
      },
      "source": [
        "<a href=\"https://colab.research.google.com/github/TruptiRedgaonkar/pythonrepo/blob/main/DataFolkz/SharedNoteBooks/4_Py_User_defined_and_lambda_functions_DataFolkz_Rocky.ipynb\" target=\"_parent\"><img src=\"https://colab.research.google.com/assets/colab-badge.svg\" alt=\"Open In Colab\"/></a>"
      ]
    },
    {
      "cell_type": "markdown",
      "metadata": {
        "id": "SqnFYQ1ynMi2"
      },
      "source": [
        "You can always be connected to me for future advices and suggestions on **Linkedin** ( https://linkedin.com/in/rocky-jagtiani-3b390649/ )\n",
        "\n",
        "This Notebook is <u>authored</u> my **Mr. Rocky Jagtiani**. \n"
      ]
    },
    {
      "cell_type": "markdown",
      "metadata": {
        "id": "Xbd0F1QmmgKp"
      },
      "source": [
        "Functions\n",
        "--\n",
        "\n",
        "What are user-defined functions in Python?\n",
        "--\n",
        "\n",
        "> Functions that we define ourselves to do certain specific task are referred as user-defined functions. \n",
        "\n",
        "> Functions that readily come with Python are called built-in functions. If we use functions written by others in the form of library, it can be termed as library functions.\n",
        "\n",
        "> All the other functions that we write on our own fall under user-defined functions. So, our user-defined function could be a library function to someone else.\n",
        "\n",
        "\n",
        "Advantages of user-defined functions\n",
        "--\n",
        "\n",
        "> User-defined functions help to decompose a large program into small segments which makes program easy to understand, maintain and debug.\n",
        "\n",
        "> If repeated code occurs in a program. Function can be used to include those codes and execute when needed by calling that function.\n",
        "\n",
        "> Programmars working on large project can divide the workload by making different functions.\n",
        "\n",
        "\n",
        "Type of Functions\n",
        "--\n",
        "\n",
        "> Built - in functions\n",
        "\n",
        "> User defined functions\n",
        "\n",
        "> Lambda functions\n",
        "\n",
        "> Recursive function"
      ]
    },
    {
      "cell_type": "code",
      "metadata": {
        "id": "A2eUf2remgKq"
      },
      "source": [
        "## Don't run this Cell ----------\n",
        "\n",
        "#--Functions\n",
        "#-syntax of function\n",
        "def functionname( parameters ):\n",
        "   \"function_docstring is optional\"  \n",
        "   function_suite\n",
        "   return [expression]"
      ],
      "execution_count": null,
      "outputs": []
    },
    {
      "cell_type": "code",
      "metadata": {
        "id": "1s9RU6FCmgKq",
        "outputId": "5b510e59-7acc-464c-f2be-bbce8028e328"
      },
      "source": [
        "#--example : 1 \n",
        "# Function definition is here\n",
        "def printme( str ):\n",
        "   \"This prints a passed string into this function\"\n",
        "   print(str)\n",
        "   return\n",
        "\n",
        "# Now you can call printme function\n",
        "printme(\"This is first call to the user defined function!\")\n",
        "printme(\"Again second call to the same function\")"
      ],
      "execution_count": null,
      "outputs": [
        {
          "output_type": "stream",
          "text": [
            "This is first call to the user defined function!\n",
            "Again second call to the same function\n"
          ],
          "name": "stdout"
        }
      ]
    },
    {
      "cell_type": "code",
      "metadata": {
        "id": "g4iV1ewOmgKr",
        "outputId": "9acc7e10-5816-42e4-b97e-2595fbcfc608"
      },
      "source": [
        "## example 2--\n",
        "\n",
        "def absolute_value(num):\n",
        "    \"\"\"This function returns the absolute\n",
        "    value of the entered number\"\"\"\n",
        "\n",
        "    if num >= 0:\n",
        "        return num\n",
        "    else:\n",
        "        return -num\n",
        "\n",
        "\n",
        "print(absolute_value(2))\n",
        "\n",
        "print(absolute_value(-4))"
      ],
      "execution_count": null,
      "outputs": [
        {
          "output_type": "stream",
          "text": [
            "2\n",
            "4\n"
          ],
          "name": "stdout"
        }
      ]
    },
    {
      "cell_type": "markdown",
      "metadata": {
        "id": "Tg_XPv2smgKs"
      },
      "source": [
        "Scope and Lifetime of variables\n",
        "--\n",
        "\n",
        "Scope of a variable is the portion of a program where the variable is recognized. Parameters and variables defined inside a function are not visible from outside the function. Hence, they have a local scope.\n",
        "\n",
        "The lifetime of a variable is the period throughout which the variable exist in the memory. The lifetime of variables inside a function is as long as the function executes.\n",
        "\n",
        "They are destroyed once we return from the function. Hence, a function does not remember the value of a variable from its previous calls."
      ]
    },
    {
      "cell_type": "code",
      "metadata": {
        "id": "5plnC83tmgKs",
        "outputId": "00560c28-6404-40bd-fca9-ae1df8b575e7"
      },
      "source": [
        "def my_func():\n",
        "\tx = 10\n",
        "\tprint(\"Value inside function:\",x)\n",
        "\n",
        "x = 20\n",
        "my_func()\n",
        "print(\"Value outside function:\",x)"
      ],
      "execution_count": null,
      "outputs": [
        {
          "output_type": "stream",
          "text": [
            "Value inside function: 10\n",
            "Value outside function: 20\n"
          ],
          "name": "stdout"
        }
      ]
    },
    {
      "cell_type": "markdown",
      "metadata": {
        "id": "FdTzo5kYmgKs"
      },
      "source": [
        "Pass by Reference\n",
        "--\n",
        "\n",
        "All objects ( like collection objects -> tuple, list, set , etc.. ) are all passed by address, i.e pass by reference."
      ]
    },
    {
      "cell_type": "code",
      "metadata": {
        "id": "759xrHfYmgKs",
        "outputId": "65cf930b-998d-4831-db0c-bfdc309eb668"
      },
      "source": [
        "def seeChanges( mylist ):\n",
        "   \"This changes a passed list into this function\"\n",
        "   print(\"Values before change: \", mylist)\n",
        "   \n",
        "   mylist[2]=50\n",
        "   print(\"Values after change: \", mylist)\n",
        "   return\n",
        "\n",
        "mylist = [10,20,30]\n",
        "seeChanges( mylist )\n",
        "print(\"Values outside the function: \", mylist)"
      ],
      "execution_count": null,
      "outputs": [
        {
          "output_type": "stream",
          "text": [
            "Values before change:  [10, 20, 30]\n",
            "Values after change:  [10, 20, 50]\n",
            "Values outside the function:  [10, 20, 50]\n"
          ],
          "name": "stdout"
        }
      ]
    },
    {
      "cell_type": "markdown",
      "metadata": {
        "id": "d8jSRQWomgKs"
      },
      "source": [
        "Function Arguments\n",
        "--\n",
        "\n",
        "You can call a function by using the following types of formal arguments :\n",
        "\n",
        "1. Required arguments\n",
        "\n",
        "2. Keyword arguments\n",
        "\n",
        "3. Default arguments\n",
        "\n",
        "4. Variable-length arguments"
      ]
    },
    {
      "cell_type": "code",
      "metadata": {
        "id": "-6LUj8zwmgKs"
      },
      "source": [
        "#1> Required arguments : example as above"
      ],
      "execution_count": null,
      "outputs": []
    },
    {
      "cell_type": "code",
      "metadata": {
        "id": "1fs192OTmgKs",
        "outputId": "219a2308-cd3a-4d98-db42-09ae81747b2a"
      },
      "source": [
        "#2> Keyword arguments\n",
        "\n",
        "def printinfo(company, url):\n",
        "   print(\"Company Name: \", company)\n",
        "   print(\"URL \", url)\n",
        "   return\n",
        "\n",
        "# Now you can call printinfo function\n",
        "printinfo( url = 'https://abb.com', company = \"ABB ltd\" )"
      ],
      "execution_count": null,
      "outputs": [
        {
          "output_type": "stream",
          "text": [
            "Company Name:  ABB ltd\n",
            "URL  https://abb.com\n"
          ],
          "name": "stdout"
        }
      ]
    },
    {
      "cell_type": "code",
      "metadata": {
        "id": "71mEbEdEmgKs",
        "outputId": "d6db8c2c-b384-442c-f02a-6d978fbae658"
      },
      "source": [
        "#3> Default arguments\n",
        "\n",
        "def printinfo(url,company =\"ITC\"):\n",
        "   print(\"Company Name: \", company)\n",
        "   print(\"URL \", url)\n",
        "   return\n",
        "\n",
        "# Now you can call printinfo function\n",
        "printinfo( url = 'https://itcportal.com')"
      ],
      "execution_count": null,
      "outputs": [
        {
          "output_type": "stream",
          "text": [
            "Company Name:  ITC\n",
            "URL  https://itcportal.com\n"
          ],
          "name": "stdout"
        }
      ]
    },
    {
      "cell_type": "code",
      "metadata": {
        "id": "Bmw55gEpmgKt",
        "outputId": "3cb0a5b5-d9d5-45c4-89cd-189f91f7330a"
      },
      "source": [
        "## Rule : Default arguments always at last.\n",
        "#--see the Error !!\n",
        "\n",
        "def printinfo(company =\"ITC\",url):\n",
        "   print(\"Company Name: \", company)\n",
        "   print(\"URL \", url)\n",
        "   return\n",
        "\n",
        "# Now you can call printinfo function\n",
        "printinfo( url = 'https://itcportal.com')"
      ],
      "execution_count": null,
      "outputs": [
        {
          "output_type": "error",
          "ename": "SyntaxError",
          "evalue": "non-default argument follows default argument (<ipython-input-8-f1ac4bf0e027>, line 4)",
          "traceback": [
            "\u001b[1;36m  File \u001b[1;32m\"<ipython-input-8-f1ac4bf0e027>\"\u001b[1;36m, line \u001b[1;32m4\u001b[0m\n\u001b[1;33m    def printinfo(company =\"ITC\",url):\u001b[0m\n\u001b[1;37m                 ^\u001b[0m\n\u001b[1;31mSyntaxError\u001b[0m\u001b[1;31m:\u001b[0m non-default argument follows default argument\n"
          ]
        }
      ]
    },
    {
      "cell_type": "code",
      "metadata": {
        "id": "vyL7DLNZmgKt"
      },
      "source": [
        "## Don't run this Cell ----------\n",
        "\n",
        "## Variable-length arguments -> use pointers as in C\n",
        "\n",
        "# syntax : \n",
        "def functionname([formal_args,] *var_args_tuple ):\n",
        "   \"function_docstring\"\n",
        "   function_suite\n",
        "   return [expression]"
      ],
      "execution_count": null,
      "outputs": []
    },
    {
      "cell_type": "code",
      "metadata": {
        "id": "wnKIyIMSmgKt",
        "outputId": "e70276ba-4b6b-4563-976a-0432b3268fb2"
      },
      "source": [
        "#--example of Variable-length arguments--\n",
        "def printinfo( arg1, *vartuple ):\n",
        "   print(\"Output is: \")\n",
        "   print(arg1)\n",
        "   \n",
        "   for var in vartuple:\n",
        "      print(\"--\",var)\n",
        "   return\n",
        "\n",
        "# Now you can call printinfo function\n",
        "printinfo(10) #no variable arguments\n",
        "printinfo(70,60,50) #with 2 variable arguments"
      ],
      "execution_count": null,
      "outputs": [
        {
          "output_type": "stream",
          "text": [
            "Output is: \n",
            "10\n",
            "Output is: \n",
            "70\n",
            "-- 60\n",
            "-- 50\n"
          ],
          "name": "stdout"
        }
      ]
    },
    {
      "cell_type": "markdown",
      "metadata": {
        "id": "fCYHVIkHmgKt"
      },
      "source": [
        "Python Anonymous/Lambda Function\n",
        "--\n",
        "\n",
        "In Python, an anonymous function is a function that is defined without a name.\n",
        "\n",
        "While normal functions are defined using the def keyword in Python, anonymous functions are defined using the lambda keyword.\n",
        "\n",
        "Hence, anonymous functions are also called lambda functions.\n",
        "\n",
        "**Syntax of Lambda Function in python**\n",
        "<br /><br />\n",
        "  `lambda arguments: expression`"
      ]
    },
    {
      "cell_type": "code",
      "metadata": {
        "id": "q28LxLVemgKt"
      },
      "source": [
        "#--use the lambda keyword not the def keyword\n",
        "#--syntax of lambda functions contains only a single statement, which is as follows −\n",
        "\n",
        "lambda [arg1 [,arg2,.....argn]]: expression"
      ],
      "execution_count": null,
      "outputs": []
    },
    {
      "cell_type": "code",
      "metadata": {
        "id": "NCeYvji8mgKt",
        "outputId": "56b4b5f9-35c6-4c6f-daae-04653496f98c"
      },
      "source": [
        "sum = lambda arg1, arg2: arg1 + arg2\n",
        "\n",
        "#Now you can call sum as a function\n",
        "print(\"Value of total : \", sum(12,13))\n",
        "print(\"Value of total : \", sum(30,20))"
      ],
      "execution_count": null,
      "outputs": [
        {
          "output_type": "stream",
          "text": [
            "Value of total :  25\n",
            "Value of total :  50\n"
          ],
          "name": "stdout"
        }
      ]
    },
    {
      "cell_type": "code",
      "metadata": {
        "id": "CAfsyBysmgKt",
        "outputId": "57f09452-236c-446e-d55e-440ed0424395"
      },
      "source": [
        "#--above lambda can also be written as\n",
        "def sum( arg1, arg2 ):\n",
        "   total = arg1 + arg2\n",
        "   print(\"Inside the function : \", total)\n",
        "   return total\n",
        "\n",
        "total = sum(10,20)\n",
        "print(\"Outside the function : \", total )"
      ],
      "execution_count": null,
      "outputs": [
        {
          "output_type": "stream",
          "text": [
            "Inside the function :  30\n",
            "Outside the function :  30\n"
          ],
          "name": "stdout"
        }
      ]
    },
    {
      "cell_type": "code",
      "metadata": {
        "id": "VgW8O9qpmgKt",
        "outputId": "48f681f9-7e24-4eab-d03b-ad6cebda427f"
      },
      "source": [
        "#-- lets code a very basic calculator ---\n",
        "#-- code 4 functions add, sub, mul and div --\n",
        "\n",
        "def add(a, b):\n",
        " print(f\"ADDING {a} + {b}\")\n",
        " return a + b\n",
        "\n",
        "def subtract(a, b):\n",
        " print(f\"SUBTRACTING {a} - {b}\")\n",
        " return a - b\n",
        "\n",
        "def multiply(a, b):\n",
        " print(f\"MULTIPLYING {a} * {b}\")\n",
        " return a * b\n",
        "\n",
        "def divide(a, b):\n",
        " print(f\"DIVIDING {a} / {b}\")\n",
        " return a / b\n",
        "\n",
        "\n",
        "print(\"Let's do some math with just functions!\")\n",
        "\n",
        "ans_add = add(35, 5)\n",
        "ans_sub = subtract(78, 8)\n",
        "ans_mul = multiply(40, 2)\n",
        "ans_divide = divide(100, 2)\n",
        "\n",
        "print(f\"\"\"\n",
        "Addition: {ans_add} \n",
        "Substraction: {ans_sub}\n",
        "Multiplication: {ans_mul}\n",
        "Division: {ans_divide}\"\"\" \n",
        ")"
      ],
      "execution_count": null,
      "outputs": [
        {
          "output_type": "stream",
          "text": [
            "Let's do some math with just functions!\n",
            "ADDING 35 + 5\n",
            "SUBTRACTING 78 - 8\n",
            "MULTIPLYING 40 * 2\n",
            "DIVIDING 100 / 2\n",
            "\n",
            "Addition: 40 \n",
            "Substraction: 70\n",
            "Multiplication: 80\n",
            "Division: 50.0\n"
          ],
          "name": "stdout"
        }
      ]
    },
    {
      "cell_type": "markdown",
      "metadata": {
        "id": "rXEr64dcmgKt"
      },
      "source": [
        "Coding Assignment - in class ( 25 mins )\n",
        "--"
      ]
    },
    {
      "cell_type": "code",
      "metadata": {
        "id": "pcP40DLHmgKt"
      },
      "source": [
        "## recode the above calculator using lambda functions ?  ( 10 mins )\n",
        "\n",
        "\n",
        "\n"
      ],
      "execution_count": null,
      "outputs": []
    },
    {
      "cell_type": "markdown",
      "metadata": {
        "id": "PdtQiyISmgKt"
      },
      "source": [
        "**Code a function** which accepts a number. Check if the number is positive or negative or zero and display an appropriate message. **Use nested if statement**.  ( 5 mins )"
      ]
    },
    {
      "cell_type": "code",
      "metadata": {
        "id": "_7vRhCfemgKt",
        "outputId": "d3a4116e-61b2-450c-e852-42f057587c06"
      },
      "source": [
        "'''To this function, we pass a floating point number \n",
        "check if the number is positive or negative or zero and display\n",
        "an appropriate message. Use nested if statement'''   \n",
        "\n",
        "\n",
        "\n",
        "def checkNum(num) :\n",
        "    if num >= 0:\n",
        "        if num == 0:\n",
        "            print(\"Zero\")\n",
        "        else:\n",
        "            print(\"Positive number\")\n",
        "    else:\n",
        "        print(\"Negative number\")\n",
        "        \n",
        "num = float(input(\"Enter a number: \"))\n",
        "checkNum(num)"
      ],
      "execution_count": null,
      "outputs": [
        {
          "output_type": "stream",
          "text": [
            "Enter a number: 0\n",
            "Zero\n"
          ],
          "name": "stdout"
        }
      ]
    },
    {
      "cell_type": "markdown",
      "metadata": {
        "id": "e6p4-URvmgKu"
      },
      "source": [
        "Short Hand if statement\n",
        "--\n",
        "\n",
        "Whenever there is only a single statement to be executed inside the if block then shorthand if can be used. The statement can be put on the same line as the if statement.\n",
        "\n",
        "`Syntax:`\n",
        "<br /><br />\n",
        "&nbsp;&nbsp;  `if condition: statement`"
      ]
    },
    {
      "cell_type": "code",
      "metadata": {
        "id": "3Ui8u1L-mgKu",
        "outputId": "d9bb29be-27d8-40b9-919b-64515d48569b"
      },
      "source": [
        "# Python program to illustrate short hand if \n",
        "i = 10\n",
        "if i < 15: print(\"i is less than 15\") "
      ],
      "execution_count": null,
      "outputs": [
        {
          "output_type": "stream",
          "text": [
            "i is less than 15\n"
          ],
          "name": "stdout"
        }
      ]
    },
    {
      "cell_type": "markdown",
      "metadata": {
        "id": "eORCL_UZmgKu"
      },
      "source": [
        "Short Hand if-else statement\n",
        "--\n",
        "\n",
        "This can be used to write the if-else statements in a single line where there is only one statement to be executed in both if and else block.\n",
        "\n",
        "`Syntax:`\n",
        "<br /> <br />\n",
        "&nbsp;&nbsp; `statement_when_True if condition else statement_when_False`"
      ]
    },
    {
      "cell_type": "code",
      "metadata": {
        "id": "4ebuC4J3mgKu",
        "outputId": "386ba221-cf4f-415e-8fc0-b35f9732b928"
      },
      "source": [
        "# Python program to illustrate short hand if-else \n",
        "i = 10\n",
        "print(True) if i < 15 else print(False) "
      ],
      "execution_count": null,
      "outputs": [
        {
          "output_type": "stream",
          "text": [
            "True\n"
          ],
          "name": "stdout"
        }
      ]
    },
    {
      "cell_type": "markdown",
      "metadata": {
        "id": "aqx305N3mgKu"
      },
      "source": [
        "**Code a function** to accept your name. `Print all chars of your name , except vowels`. \n",
        "\n",
        "( 10  mins  -> code in 2 ways --> 1st way : use logical `OR` operator and 2nd way : `in` operator )"
      ]
    },
    {
      "cell_type": "code",
      "metadata": {
        "id": "WqzwRFQJmgKu",
        "outputId": "ee10d402-da82-42bc-dcba-9c1b4468bbd4"
      },
      "source": [
        "## pass your name to the function. Print all chars of your name ,  \n",
        "## except vowels -->  'a' , 'e' , 'i' , 'o' and 'u'   \n",
        "\n",
        "## Note 1 : name may not be in lower case. So convert it to lower case first.\n",
        "\n",
        "def checkVowelsInName(name) :\n",
        "    name = name.lower()\n",
        "    \n",
        "    for letter in name:  \n",
        "        if letter == 'a' or letter == 'e' or letter == 'i' or letter == 'o' or letter == 'u' :  \n",
        "            continue\n",
        "        print(letter, end = \" \") \n",
        "        \n",
        "checkVowelsInName('Rocky Jagtiani')"
      ],
      "execution_count": null,
      "outputs": [
        {
          "output_type": "stream",
          "text": [
            "r c k y   j g t n "
          ],
          "name": "stdout"
        }
      ]
    },
    {
      "cell_type": "code",
      "metadata": {
        "id": "Qses4n7FmgKu",
        "outputId": "bf843bb0-7593-4d48-db70-7ade546f115d"
      },
      "source": [
        "## rewrite the above code using in operator\n",
        "\n",
        "def checkVowelsInName(name) :\n",
        "    name = name.lower()\n",
        "    \n",
        "    for letter in name:  \n",
        "        if letter in ['a', 'e' , 'i' , 'o' , 'u'] :  \n",
        "            continue\n",
        "        print(letter, end = \" \") \n",
        "        \n",
        "checkVowelsInName('Rocky Jagtiani')"
      ],
      "execution_count": null,
      "outputs": [
        {
          "output_type": "stream",
          "text": [
            "r c k y   j g t n "
          ],
          "name": "stdout"
        }
      ]
    },
    {
      "cell_type": "markdown",
      "metadata": {
        "id": "RXha4L77mgKu"
      },
      "source": [
        "**Evaluate** user input with **nested if statements** ?  (  5 mins )\n",
        "\n",
        "1. Ask the User a question like `\"What's the capital of Germany?\"`\n",
        "\n",
        "2. Track in how many attempts the user answers.\n",
        "\n",
        "3. Give hints based on how many guesses the user makes."
      ]
    },
    {
      "cell_type": "code",
      "metadata": {
        "id": "W54R5mYTmgKu",
        "outputId": "4e23f5a4-a92e-456b-8f2e-bb3dcd76b5f7"
      },
      "source": [
        "question = \"What's the capital of Germany? \"\n",
        "attempts = 0\n",
        "\n",
        "while True:\n",
        "    attempts = attempts + 1\n",
        "    response = input(\"Attempt #\" + str(attempts) + \" | \" + question)\n",
        "\n",
        "    if response.lower() == \"berlin\":\n",
        "        print(\"Correct! Thanks for playing\")\n",
        "        break\n",
        "    else:\n",
        "        print(\"Incorrect.\")\n",
        "        if attempts == 1:\n",
        "            print(\"Hint: An American president once said:\",\n",
        "                  \"Ich bin ein ........\")\n",
        "        if attempts == 2:\n",
        "            print(\"Hint: In the Cold War, a wall split this city.\")\n",
        "        if attempts == 3:\n",
        "            print(\"Hint: the city name starts with a 'B'.\")"
      ],
      "execution_count": null,
      "outputs": [
        {
          "output_type": "stream",
          "text": [
            "Attempt #1 | What's the capital of Germany? berlin\n",
            "Correct! Thanks for playing\n"
          ],
          "name": "stdout"
        }
      ]
    },
    {
      "cell_type": "markdown",
      "metadata": {
        "id": "JXfJvEFgmgKu"
      },
      "source": [
        "<hr />\n",
        "\n",
        "Python map()\n",
        "--\n",
        "\n",
        "The map() function applies a given function to each item of an iterable (list, tuple etc.) and returns a list of the results.\n",
        "\n",
        "The syntax of map() is:\n",
        "<br />\n",
        "\n",
        "&nbsp; `map(function, iterable, ...)`"
      ]
    },
    {
      "cell_type": "code",
      "metadata": {
        "id": "HJQWiNekmgKu",
        "outputId": "98e7517a-ad81-441e-f136-357a841266d0"
      },
      "source": [
        "def calculateSquare(n):\n",
        "    return n*n\n",
        "\n",
        "\n",
        "numbers = (1, 2, 3, 4)\n",
        "result = map(calculateSquare, numbers)\n",
        "print(result)\n",
        "\n",
        "# converting map object to set\n",
        "numbersSquare = set(result)\n",
        "print(numbersSquare)"
      ],
      "execution_count": null,
      "outputs": [
        {
          "output_type": "stream",
          "text": [
            "<map object at 0x041B17F0>\n",
            "{16, 1, 4, 9}\n"
          ],
          "name": "stdout"
        }
      ]
    },
    {
      "cell_type": "code",
      "metadata": {
        "id": "NlA4vap-mgKu"
      },
      "source": [
        "## rewriting the above using lambda functions\n",
        "\n",
        "numbers = (1, 2, 3, 4)\n",
        "result = map(lambda x: x*x, numbers)\n",
        "print(result)\n",
        "\n",
        "# converting map object to set\n",
        "numbersSquare = set(result)\n",
        "print(numbersSquare)"
      ],
      "execution_count": null,
      "outputs": []
    },
    {
      "cell_type": "code",
      "metadata": {
        "id": "gRX7tyIMmgKu",
        "outputId": "77e83c2a-eee4-4c0e-a3cf-41debcfcae0c"
      },
      "source": [
        "#--map() example 2 :\n",
        "\n",
        "## here we are adding some constant value to each member of the list. \n",
        "\n",
        "values = [1, 2, 3, 4, 5]\n",
        "\n",
        "#-Note: We convert the returned map object to\n",
        "# a list data structure for printing purpose\n",
        "\n",
        "add_10 = list(map(lambda x: x + 10, values))\n",
        "add_20 = list(map(lambda x: x + 20, values))\n",
        "\n",
        "print(add_10)\n",
        "\n",
        "print(add_20)"
      ],
      "execution_count": null,
      "outputs": [
        {
          "output_type": "stream",
          "text": [
            "[11, 12, 13, 14, 15]\n",
            "[21, 22, 23, 24, 25]\n"
          ],
          "name": "stdout"
        }
      ]
    },
    {
      "cell_type": "code",
      "metadata": {
        "id": "SfX_GuqAmgKu",
        "outputId": "fc0a0d83-a255-4c86-9029-7521093abe01"
      },
      "source": [
        "## Example 3: Passing Multiple Iterators to map() Using Lambda\n",
        "## In this example, corresponding items of two lists are added.\n",
        "\n",
        "num1 = [4, 5, 6]\n",
        "num2 = [5, 6, 7]\n",
        "\n",
        "result = map(lambda n1, n2: n1+n2, num1, num2)\n",
        "print(list(result))"
      ],
      "execution_count": null,
      "outputs": [
        {
          "output_type": "stream",
          "text": [
            "[9, 11, 13]\n"
          ],
          "name": "stdout"
        }
      ]
    },
    {
      "cell_type": "markdown",
      "metadata": {
        "id": "VPHIK_PLmgKv"
      },
      "source": [
        "Python filter()\n",
        "--\n",
        "\n",
        "filter() method filters the given `iterable` with the help of a function that tests each element in the iterable to be true or not.\n",
        "\n",
        "The syntax of filter() method is:\n",
        "<br />\n",
        "\n",
        "&nbsp; `filter(function, iterable)`"
      ]
    },
    {
      "cell_type": "code",
      "metadata": {
        "id": "oh8_97qUmgKv",
        "outputId": "28f80f98-1f95-4a71-eb5a-490777b8138d"
      },
      "source": [
        "#--we could filter odd or even values from a list:\n",
        "values = [1, 2, 3, 4, 5, 6, 7, 8, 9, 10]\n",
        "\n",
        "# Note: We convert the returned filter object to\n",
        "# a list data structure.\n",
        "even = list(filter(lambda x: x % 2 == 0, values))\n",
        "odd = list(filter(lambda x: x % 2 == 1, values))\n",
        "\n",
        "print(even)\n",
        "\n",
        "print(odd)"
      ],
      "execution_count": null,
      "outputs": [
        {
          "output_type": "stream",
          "text": [
            "[2, 4, 6, 8, 10]\n",
            "[1, 3, 5, 7, 9]\n"
          ],
          "name": "stdout"
        }
      ]
    },
    {
      "cell_type": "code",
      "metadata": {
        "id": "t0mE7kB-mgKv",
        "outputId": "b8263575-08a5-48e4-d68f-b7d829c9d0d6"
      },
      "source": [
        "# list of letters\n",
        "letters = ['a', 'b', 'd', 'e', 'i', 'j', 'o']\n",
        "\n",
        "# function that filters vowels\n",
        "def filterVowels(letter):\n",
        "    vowels = ['a', 'e', 'i', 'o', 'u']\n",
        "\n",
        "    if(letter in vowels):\n",
        "        return True\n",
        "    else:\n",
        "        return False\n",
        "\n",
        "filteredVowels = filter(filterVowels, letters)\n",
        "\n",
        "print('The filtered vowels are:')\n",
        "for vowel in filteredVowels:\n",
        "    print(vowel)"
      ],
      "execution_count": null,
      "outputs": [
        {
          "output_type": "stream",
          "text": [
            "The filtered vowels are:\n",
            "a\n",
            "e\n",
            "i\n",
            "o\n"
          ],
          "name": "stdout"
        }
      ]
    },
    {
      "cell_type": "markdown",
      "metadata": {
        "id": "sFlTvbChmgKv"
      },
      "source": [
        "Python reduce()\n",
        "--\n",
        "\n",
        "The `reduce(fun,seq)` function is used to apply a particular function passed in its argument to all of the list elements mentioned in the sequence passed along.This function is defined in `functools` module.\n",
        "\n",
        "**Working :**\n",
        "\n",
        "1. At first step, first two elements of sequence are picked and the result is obtained.\n",
        "\n",
        "2. Next step is to apply the same function to the previously attained result and the number just succeeding the second element and the result is again stored.\n",
        "\n",
        "3. This process continues till no more elements are left in the container. The final returned result is returned and printed on console."
      ]
    },
    {
      "cell_type": "code",
      "metadata": {
        "id": "P3TpOUaumgKv",
        "outputId": "c15423f9-f3cb-40bb-ea8d-bad9bad262fc"
      },
      "source": [
        "#--The Reduce Function\n",
        "from functools import reduce\n",
        "\n",
        "values = [1, 2, 3, 4]\n",
        "\n",
        "summed = reduce(lambda a, b: a + b, values)\n",
        "print(summed)\n"
      ],
      "execution_count": null,
      "outputs": [
        {
          "output_type": "stream",
          "text": [
            "10\n"
          ],
          "name": "stdout"
        }
      ]
    },
    {
      "cell_type": "code",
      "metadata": {
        "id": "GCNAnaR-mgKv",
        "outputId": "ba04834c-6c32-48e5-9554-181003836fe2"
      },
      "source": [
        "from functools import reduce\n",
        "\n",
        "# initializing list \n",
        "lis = [ 1 , 3, 5, 6, 2 ] \n",
        "  \n",
        "# using reduce to compute maximum element from list \n",
        "print (\"The maximum element of the list is : \",end=\"\") \n",
        "print (reduce(lambda a,b : a if a > b else b,lis))"
      ],
      "execution_count": null,
      "outputs": [
        {
          "output_type": "stream",
          "text": [
            "The maximum element of the list is : 6\n"
          ],
          "name": "stdout"
        }
      ]
    },
    {
      "cell_type": "markdown",
      "metadata": {
        "id": "b-89aqiWmgKv"
      },
      "source": [
        "Python datetime functions\n",
        "--\n",
        "\n",
        "Python has a module named datetime to work with dates and times."
      ]
    },
    {
      "cell_type": "code",
      "metadata": {
        "id": "AmUuXXkamgKv",
        "outputId": "2e077960-116f-4b13-e726-b71c67d8128f"
      },
      "source": [
        "## Example 1: Get Current Date and Time\n",
        "\n",
        "import datetime\n",
        "\n",
        "datetime_object = datetime.datetime.now()\n",
        "print(datetime_object)"
      ],
      "execution_count": null,
      "outputs": [
        {
          "output_type": "stream",
          "text": [
            "2020-11-30 14:26:12.514973\n"
          ],
          "name": "stdout"
        }
      ]
    },
    {
      "cell_type": "code",
      "metadata": {
        "id": "NgR-dV98mgKv",
        "outputId": "7a6d0f2b-3838-4b45-8afb-dfdead37c557"
      },
      "source": [
        "## Example 2: Get Current Date\n",
        "\n",
        "import datetime\n",
        "\n",
        "date_object = datetime.date.today()\n",
        "print(date_object)"
      ],
      "execution_count": null,
      "outputs": [
        {
          "output_type": "stream",
          "text": [
            "2020-11-30\n"
          ],
          "name": "stdout"
        }
      ]
    },
    {
      "cell_type": "markdown",
      "metadata": {
        "id": "m3Y55wIEmgKv"
      },
      "source": [
        "**`Commonly used classes in the datetime module are`**:\n",
        "\n",
        "1. date Class\n",
        "\n",
        "2. time Class\n",
        "\n",
        "3. datetime Class"
      ]
    },
    {
      "cell_type": "code",
      "metadata": {
        "id": "pv7K7xyMmgKv",
        "outputId": "f688edfd-66e4-467e-f1f9-2df01d686299"
      },
      "source": [
        "## datetime.date Class\n",
        "## You can instantiate date objects from the date class. \n",
        "## A date object represents a date (year, month and day).\n",
        "\n",
        "## Example 3: Date object to represent a date\n",
        "\n",
        "import datetime\n",
        "\n",
        "d = datetime.date(2020, 10, 14)\n",
        "print(d)"
      ],
      "execution_count": null,
      "outputs": [
        {
          "output_type": "stream",
          "text": [
            "2020-10-14\n"
          ],
          "name": "stdout"
        }
      ]
    },
    {
      "cell_type": "code",
      "metadata": {
        "id": "ysVycD8FmgKv",
        "outputId": "8785576a-3f10-413a-e6e7-a944a3091914"
      },
      "source": [
        "## Example 4: Get current date\n",
        "## You can create a date object containing the current date \n",
        "## by using a classmethod named today(). \n",
        "\n",
        "\n",
        "from datetime import date\n",
        "\n",
        "today = date.today()\n",
        "\n",
        "print(\"Current date =\", today)"
      ],
      "execution_count": null,
      "outputs": [
        {
          "output_type": "stream",
          "text": [
            "Current date = 2020-11-30\n"
          ],
          "name": "stdout"
        }
      ]
    },
    {
      "cell_type": "code",
      "metadata": {
        "id": "IR_MRtTFmgKx",
        "outputId": "5ea2e4b6-1da0-4803-b916-4d0d3735f31a"
      },
      "source": [
        "## Example 5: Get date from a timestamp\n",
        "## We can also create date objects from a timestamp. \n",
        "## A Unix timestamp is the number of seconds between a particular date \n",
        "## and January 1, 1970  \n",
        "## You can convert a timestamp to date using fromtimestamp() method.\n",
        "\n",
        "\n",
        "from datetime import date\n",
        "\n",
        "timestamp = date.fromtimestamp(1586244364)\n",
        "\n",
        "print(\"Date =\", timestamp)"
      ],
      "execution_count": null,
      "outputs": [
        {
          "output_type": "stream",
          "text": [
            "Date = 2020-04-07\n"
          ],
          "name": "stdout"
        }
      ]
    },
    {
      "cell_type": "code",
      "metadata": {
        "id": "55_cAVw8mgKx",
        "outputId": "7c8ef41d-7fdc-42b7-ab2f-287446b09077"
      },
      "source": [
        "## Example 6: Print today's year, month and day\n",
        "## We can get year, month, day, day of the week etc. from the date object easily. \n",
        "\n",
        "from datetime import date\n",
        "\n",
        "# date object of today's date\n",
        "today = date.today() \n",
        "\n",
        "print(\"Current year:\", today.year)\n",
        "print(\"Current month:\", today.month)\n",
        "print(\"Current day:\", today.day)"
      ],
      "execution_count": null,
      "outputs": [
        {
          "output_type": "stream",
          "text": [
            "Current year: 2020\n",
            "Current month: 11\n",
            "Current day: 30\n"
          ],
          "name": "stdout"
        }
      ]
    },
    {
      "cell_type": "code",
      "metadata": {
        "id": "9cQcgw7vmgKy",
        "outputId": "b0a54d10-c32f-4f66-cc9c-503791f9f174"
      },
      "source": [
        "## Example 7: Time object to represent time\n",
        "\n",
        "from datetime import time\n",
        "\n",
        "# time(hour = 0, minute = 0, second = 0)\n",
        "a = time()\n",
        "print(\"a =\", a)\n",
        "\n",
        "# time(hour, minute and second)\n",
        "b = time(11, 34, 56)\n",
        "print(\"b =\", b)\n",
        "\n",
        "# time(hour, minute and second)\n",
        "c = time(hour = 11, minute = 34, second = 56)\n",
        "print(\"c =\", c)\n",
        "\n",
        "# time(hour, minute, second, microsecond)\n",
        "d = time(11, 34, 56, 234566)\n",
        "print(\"d =\", d)"
      ],
      "execution_count": null,
      "outputs": [
        {
          "output_type": "stream",
          "text": [
            "a = 00:00:00\n",
            "b = 11:34:56\n",
            "c = 11:34:56\n",
            "d = 11:34:56.234566\n"
          ],
          "name": "stdout"
        }
      ]
    },
    {
      "cell_type": "code",
      "metadata": {
        "id": "F_4OHJ_omgKy",
        "outputId": "91548ea3-f7b3-4b09-c15c-23528eec5479"
      },
      "source": [
        "## Example 8: Print hour, minute, second and microsecond\n",
        "## Once you create a time object, you can easily print its attributes such as hour, minute etc.\n",
        "\n",
        "\n",
        "from datetime import time\n",
        "\n",
        "a = time(11, 34, 56)\n",
        "\n",
        "print(\"hour =\", a.hour)\n",
        "print(\"minute =\", a.minute)\n",
        "print(\"second =\", a.second)\n",
        "print(\"microsecond =\", a.microsecond)"
      ],
      "execution_count": null,
      "outputs": [
        {
          "output_type": "stream",
          "text": [
            "hour = 11\n",
            "minute = 34\n",
            "second = 56\n",
            "microsecond = 0\n"
          ],
          "name": "stdout"
        }
      ]
    },
    {
      "cell_type": "markdown",
      "metadata": {
        "id": "vQwk_EsxmgKy"
      },
      "source": [
        "**`datetime.datetime`**\n",
        "\n",
        "The datetime module has a class named dateclass that can contain information from both date and time objects."
      ]
    },
    {
      "cell_type": "code",
      "metadata": {
        "id": "gWDLOH1bmgKy",
        "outputId": "49d08e38-8629-4c21-faf8-2cc55df95a8e"
      },
      "source": [
        "## Example 9: Python datetime object\n",
        "\n",
        "from datetime import datetime\n",
        "\n",
        "#datetime(year, month, day)\n",
        "a = datetime(2020, 11, 28)\n",
        "print(a)\n",
        "\n",
        "# datetime(year, month, day, hour, minute, second, microsecond)\n",
        "b = datetime(2020, 11, 28, 23, 55, 59, 342380)\n",
        "print(b)"
      ],
      "execution_count": null,
      "outputs": [
        {
          "output_type": "stream",
          "text": [
            "2020-11-28 00:00:00\n",
            "2020-11-28 23:55:59.342380\n"
          ],
          "name": "stdout"
        }
      ]
    },
    {
      "cell_type": "code",
      "metadata": {
        "id": "1QtLSFigmgKz",
        "outputId": "0813cf83-9067-4134-dfca-bb6cf48be3c6"
      },
      "source": [
        "## Example 10: Print year, month, hour, minute and timestamp\n",
        "\n",
        "from datetime import datetime\n",
        "\n",
        "a = datetime(2020, 11, 28, 23, 55, 59, 342380)\n",
        "print(\"year =\", a.year)\n",
        "print(\"month =\", a.month)\n",
        "print(\"hour =\", a.hour)\n",
        "print(\"minute =\", a.minute)\n",
        "print(\"timestamp =\", a.timestamp())"
      ],
      "execution_count": null,
      "outputs": [
        {
          "output_type": "stream",
          "text": [
            "year = 2020\n",
            "month = 11\n",
            "hour = 23\n",
            "minute = 55\n",
            "timestamp = 1606587959.34238\n"
          ],
          "name": "stdout"
        }
      ]
    },
    {
      "cell_type": "code",
      "metadata": {
        "id": "tQInqxIPmgKz",
        "outputId": "85bfd9eb-4402-410a-c190-b05aac036746"
      },
      "source": [
        "## Example 11: Difference between two dates and times\n",
        "\n",
        "from datetime import datetime, date\n",
        "\n",
        "t1 = date(year = 2018, month = 7, day = 12)\n",
        "t2 = date(year = 2017, month = 12, day = 23)\n",
        "t3 = t1 - t2\n",
        "print(\"t3 =\", t3)\n",
        "\n",
        "t4 = datetime(year = 2018, month = 7, day = 12, hour = 7, minute = 9, second = 33)\n",
        "t5 = datetime(year = 2019, month = 6, day = 10, hour = 5, minute = 55, second = 13)\n",
        "t6 = t4 - t5\n",
        "print(\"t6 =\", t6)\n",
        "\n",
        "print(\"type of t3 =\", type(t3)) \n",
        "print(\"type of t6 =\", type(t6))  \n",
        "\n",
        "## Note the datatype --> datetime.timedelta"
      ],
      "execution_count": null,
      "outputs": [
        {
          "output_type": "stream",
          "text": [
            "t3 = 201 days, 0:00:00\n",
            "t6 = -333 days, 1:14:20\n",
            "type of t3 = <class 'datetime.timedelta'>\n",
            "type of t6 = <class 'datetime.timedelta'>\n"
          ],
          "name": "stdout"
        }
      ]
    },
    {
      "cell_type": "markdown",
      "metadata": {
        "id": "TPwTYyN3mgKz"
      },
      "source": [
        "**`datetime.timedelta`**\n",
        "\n",
        "A timedelta object represents the difference between two dates or times."
      ]
    },
    {
      "cell_type": "markdown",
      "metadata": {
        "id": "5LLgPkFmmgKz"
      },
      "source": [
        "**Calculate your age ?**"
      ]
    },
    {
      "cell_type": "code",
      "metadata": {
        "id": "lm60z2XdmgKz",
        "outputId": "7fefa614-c6ec-4bc3-9564-df4ec1a33644"
      },
      "source": [
        "from datetime import date \n",
        "  \n",
        "def calculateAge(birthDate): \n",
        "    today = date.today() \n",
        "    age = today.year - birthDate.year - ((today.month, today.day) < (birthDate.month, birthDate.day)) \n",
        "  \n",
        "    return age \n",
        "      \n",
        "# Driver code.\n",
        "## Assume some one born on 3rd Feb 1997\n",
        "print(calculateAge(date(1997, 2, 3)), \"years\") "
      ],
      "execution_count": null,
      "outputs": [
        {
          "output_type": "stream",
          "text": [
            "23 years\n"
          ],
          "name": "stdout"
        }
      ]
    }
  ]
}