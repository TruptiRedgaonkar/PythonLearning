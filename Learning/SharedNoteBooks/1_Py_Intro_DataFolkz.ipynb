{
  "nbformat": 4,
  "nbformat_minor": 0,
  "metadata": {
    "colab": {
      "name": "1_Py_Intro_DataFolkz_Rocky",
      "provenance": [],
      "collapsed_sections": [],
      "include_colab_link": true
    },
    "kernelspec": {
      "name": "python3",
      "display_name": "Python 3"
    }
  },
  "cells": [
    {
      "cell_type": "markdown",
      "metadata": {
        "id": "view-in-github",
        "colab_type": "text"
      },
      "source": [
        "<a href=\"https://colab.research.google.com/github/TruptiRedgaonkar/pythonrepo/blob/main/DataFolkz/SharedNoteBooks/1_Py_Intro_DataFolkz_Rocky.ipynb\" target=\"_parent\"><img src=\"https://colab.research.google.com/assets/colab-badge.svg\" alt=\"Open In Colab\"/></a>"
      ]
    },
    {
      "cell_type": "markdown",
      "metadata": {
        "id": "TgFmuG2fwMhn"
      },
      "source": [
        "The **entire course** uses a \"**notebook\" coding environment**.  In case you are unfamiliar with colab notebooks, we have a [90-second intro video](https://www.youtube.com/watch?v=4C2qMnaIKL4).\n",
        "\n",
        "This content is prepared by <font color=\"darkgreen\"><b>Rocky Jagtiani</b></font> (https://www.linkedin.com/in/rocky-jagtiani-3b390649/) for <font color=\"darkblue\"><b>learners at DataFolkz</b></font>."
      ]
    },
    {
      "cell_type": "markdown",
      "metadata": {
        "id": "hq8N8H_zAr4X"
      },
      "source": [
        "<h4><b>Should I learn Coding ?</b></h4>\n",
        "Irrespective of the programming language you choose like <font color='green'><b>Javascript or Java or Python</b></font> , its important for every one to know coding rigth from an early age, may be when you start learning Math & Science. Because Math & Science help u learn core concepts and programming helps you to implement them in some way or the other. Lets give a few minutes to watch this <b><font color='green'>fun video</font></b> :  <br>\n",
        "\n",
        "<a href=\"https://drive.google.com/open?id=1rdi_KoaXZq8xqlroXNy7KQN7cspGjInv\">\n",
        "<img border=\"0\" alt=\"What_is_Coding\" src=\"https://drive.google.com/uc?id=1O6LI5_w6sttZ92vhD2ZqqPNuJuJ-ut4A\" width=\"130\" height=\"100\"> </a>\n"
      ]
    },
    {
      "cell_type": "markdown",
      "metadata": {
        "id": "Nr2Nlf2YzOrq"
      },
      "source": [
        "Python is a general-purpose interpreted, interactive, object-oriented, and high-level programming language. \n",
        "\n",
        "<img src=\"https://drive.google.com/uc?id=1rNvQ2r-153IBr-MuwPE9sKnK1c4x3ep4\" />\n",
        "\n",
        "\n",
        "> It was created by Guido van Rossum during 1985- 1990. Like Perl, Python source code is also available under the GNU General Public License (GPL). \n",
        "\n",
        "> Python is named after a TV Show called ‘Monty Python’s Flying Circus’ and not after Python-the snake.\n",
        "\n",
        "\n",
        "<img src=\"https://drive.google.com/uc?id=1Q-AcRLJvg2pBOCat0J6KDeogGkiGF8p2\" />\n",
        "\n"
      ]
    },
    {
      "cell_type": "markdown",
      "metadata": {
        "id": "3pxM_j0c45GQ"
      },
      "source": [
        "<b><u>Python Identifiers</u></b>\n",
        "\n",
        "A Python identifier is a name used to identify a variable, function, class, module or other object. An identifier starts with a letter A to Z or a to z or an underscore (_) followed by zero or more letters, underscores and digits (0 to 9).\n",
        "\n",
        "Python does not allow punctuation characters such as <font color='red'>@, $, and % </font>within identifiers. Python is a case sensitive programming language. Thus, <i><b>Suven</b></i> and <i><b>suven</b></i> are two different identifiers in Python.\n",
        "\n",
        "<b><u>Lines and Indentation</u></b> <br>\n",
        "Python does not use braces({}) to indicate blocks of code for class and function definitions or flow control. Blocks of code are denoted by line indentation, which is rigidly enforced.\n",
        "\n",
        "**The number of spaces in the indentation is variable, but all statements within the block must be indented the same amount.** \n",
        "\n",
        "<font color='green'>For example − </font>\n",
        "\n"
      ]
    },
    {
      "cell_type": "code",
      "metadata": {
        "id": "sQspy7DplFHK",
        "colab": {
          "base_uri": "https://localhost:8080/"
        },
        "outputId": "bd60190f-2ac9-4dee-e0a3-523240d1fff5"
      },
      "source": [
        "name = \"Nidhi\"\n",
        "location = \"New Jersey\"\n",
        "role = 'Techno Functional'\n",
        "\n",
        "scope1 = \"\"\"future skills.\n",
        "AI would lead to Automation\"\"\"\n",
        "\n",
        "scope2 = '''future skills.\n",
        "AI would lead to Automation'''\n",
        "\n",
        "print(name, \"works in\", location,  \"and plays a\",  role, \"and has\" , scope1)"
      ],
      "execution_count": null,
      "outputs": [
        {
          "output_type": "stream",
          "text": [
            "Nidhi works in New Jersey and plays a Techno Functional and has future skills.\n",
            "AI would lead to Automation\n"
          ],
          "name": "stdout"
        }
      ]
    },
    {
      "cell_type": "code",
      "metadata": {
        "id": "zCcV4fyt5783",
        "colab": {
          "base_uri": "https://localhost:8080/"
        },
        "outputId": "9ee63935-8b14-4770-de22-7fd1b6d04d62"
      },
      "source": [
        "# to output means to print\n",
        "# to output any number\n",
        "print(2)"
      ],
      "execution_count": null,
      "outputs": [
        {
          "output_type": "stream",
          "text": [
            "2\n"
          ],
          "name": "stdout"
        }
      ]
    },
    {
      "cell_type": "code",
      "metadata": {
        "id": "kxRlh5V66O9i",
        "colab": {
          "base_uri": "https://localhost:8080/"
        },
        "outputId": "923a6eb7-d597-4259-b2f9-df0345e516c3"
      },
      "source": [
        "# output number say 5.25\n",
        "print(5.25)"
      ],
      "execution_count": null,
      "outputs": [
        {
          "output_type": "stream",
          "text": [
            "5.25\n"
          ],
          "name": "stdout"
        }
      ]
    },
    {
      "cell_type": "code",
      "metadata": {
        "id": "v6-OShFH6Z5S",
        "colab": {
          "base_uri": "https://localhost:8080/"
        },
        "outputId": "3eb31c2d-2b95-49bd-bc78-74434b5bdfab"
      },
      "source": [
        "# to output any string\n",
        "print(\"rohan\")\n",
        "\n",
        "## Remember any string -> word or set of words, keep it in single or double quotes."
      ],
      "execution_count": null,
      "outputs": [
        {
          "output_type": "stream",
          "text": [
            "rohan\n"
          ],
          "name": "stdout"
        }
      ]
    },
    {
      "cell_type": "code",
      "metadata": {
        "id": "u2XehpPa69kn",
        "colab": {
          "base_uri": "https://localhost:8080/"
        },
        "outputId": "14489d3e-6350-4bcd-8e55-9625d46f16b0"
      },
      "source": [
        "# print Data Science and AI are future skills\n",
        "print(\"Data Science and AI are future skills\")\n",
        "\n",
        "print('Data Science and AI are future skills')"
      ],
      "execution_count": null,
      "outputs": [
        {
          "output_type": "stream",
          "text": [
            "Data Science and AI are future skills\n",
            "Data Science and AI are future skills\n"
          ],
          "name": "stdout"
        }
      ]
    },
    {
      "cell_type": "markdown",
      "metadata": {
        "id": "DUV1Rgi37e9P"
      },
      "source": [
        "## Keywords\n",
        "\n",
        "Keywords are the reserved words in Python.\n",
        "\n",
        "We cannot use a keyword as a variable name, function name or any other identifier. They are used to define the syntax and structure of the Python language."
      ]
    },
    {
      "cell_type": "code",
      "metadata": {
        "id": "OeKPsC1l7lX2",
        "colab": {
          "base_uri": "https://localhost:8080/"
        },
        "outputId": "bd799f49-59c3-46a9-915f-dc3a06172d1f"
      },
      "source": [
        "#Get all keywords in python 3\n",
        "\n",
        "import keyword # import the library Keyword\n",
        "\n",
        "print(keyword.kwlist) \n",
        "\n",
        "print(\"Total number of keywords \", len(keyword.kwlist))"
      ],
      "execution_count": null,
      "outputs": [
        {
          "output_type": "stream",
          "text": [
            "['False', 'None', 'True', 'and', 'as', 'assert', 'break', 'class', 'continue', 'def', 'del', 'elif', 'else', 'except', 'finally', 'for', 'from', 'global', 'if', 'import', 'in', 'is', 'lambda', 'nonlocal', 'not', 'or', 'pass', 'raise', 'return', 'try', 'while', 'with', 'yield']\n",
            "Total number of keywords  33\n"
          ],
          "name": "stdout"
        }
      ]
    },
    {
      "cell_type": "markdown",
      "metadata": {
        "id": "2JS7IInq72_9"
      },
      "source": [
        "## Declare Variables\n",
        "\n",
        "Variable is a place holder which holds your data.\n",
        "It gets a **`data type`** according to the data it holds."
      ]
    },
    {
      "cell_type": "code",
      "metadata": {
        "id": "YjPRwc_C78Y5",
        "colab": {
          "base_uri": "https://localhost:8080/"
        },
        "outputId": "8b5170af-fd9a-4d54-cf7d-cb82846cab47"
      },
      "source": [
        "age = 35\n",
        "print(age)"
      ],
      "execution_count": null,
      "outputs": [
        {
          "output_type": "stream",
          "text": [
            "35\n"
          ],
          "name": "stdout"
        }
      ]
    },
    {
      "cell_type": "code",
      "metadata": {
        "id": "79cRHp7h8fuB",
        "colab": {
          "base_uri": "https://localhost:8080/"
        },
        "outputId": "a8ef3de6-086a-452f-b896-ac8bf8379728"
      },
      "source": [
        "Global = 45\n",
        "print(Global)"
      ],
      "execution_count": null,
      "outputs": [
        {
          "output_type": "stream",
          "text": [
            "45\n"
          ],
          "name": "stdout"
        }
      ]
    },
    {
      "cell_type": "code",
      "metadata": {
        "id": "Suyq1GeP8jje",
        "colab": {
          "base_uri": "https://localhost:8080/",
          "height": 128
        },
        "outputId": "68515dc9-ce32-4d44-ad45-7afdbb922220"
      },
      "source": [
        "## Note : this Error\n",
        "False = 34\n",
        "print(False)\n",
        "\n",
        "## Remember , we cannot use keywords as variable names"
      ],
      "execution_count": null,
      "outputs": [
        {
          "output_type": "error",
          "ename": "SyntaxError",
          "evalue": "ignored",
          "traceback": [
            "\u001b[0;36m  File \u001b[0;32m\"<ipython-input-25-a176b10d8b14>\"\u001b[0;36m, line \u001b[0;32m2\u001b[0m\n\u001b[0;31m    False = 34\u001b[0m\n\u001b[0m              ^\u001b[0m\n\u001b[0;31mSyntaxError\u001b[0m\u001b[0;31m:\u001b[0m can't assign to keyword\n"
          ]
        }
      ]
    },
    {
      "cell_type": "code",
      "metadata": {
        "id": "H8ArBWmtAYhd"
      },
      "source": [
        "#Python Variable Example\n",
        "age = 42\n",
        "Name = 'Rocky'\n",
        "print(age)\n",
        "print(Name)\n",
        "32"
      ],
      "execution_count": null,
      "outputs": []
    },
    {
      "cell_type": "code",
      "metadata": {
        "id": "LBK6OJESAjq7"
      },
      "source": [
        "# first position of the variable can be underscore\n",
        "_age = 35\n",
        "_age "
      ],
      "execution_count": null,
      "outputs": []
    },
    {
      "cell_type": "code",
      "metadata": {
        "id": "lbJ8f05iAmHV"
      },
      "source": [
        "# First position of the variable can not be a number\n",
        "#9age = 92\n",
        "\n",
        "age9 = 92\n",
        "age9"
      ],
      "execution_count": null,
      "outputs": []
    },
    {
      "cell_type": "code",
      "metadata": {
        "id": "AbWJtQ_MArYv"
      },
      "source": [
        "# Multiple assignement\n",
        "x , y , z = 27 , 75 , 'maruti'\n",
        "print(x)\n",
        "print(y)\n",
        "print(z)\n",
        "\n",
        "print(x,\",\", y , z)  "
      ],
      "execution_count": null,
      "outputs": []
    },
    {
      "cell_type": "code",
      "metadata": {
        "id": "2oywmpBV0_gm"
      },
      "source": [
        "x , y = 'Jamesbond' , 7\n",
        "print(x)\n",
        "print(y)"
      ],
      "execution_count": null,
      "outputs": []
    },
    {
      "cell_type": "code",
      "metadata": {
        "id": "fAoYBIMu5USh"
      },
      "source": [
        "# declare marks of 3 subjects\n",
        "m1, m2, m3 = 40, 54 , 60\n",
        "\n",
        "# Calculate Avg\n",
        "avg = (m1+m2+m3)/3\n",
        "\n",
        "# print \"Avg of 3 subjects is \" \n",
        "print(\"Avg of 3 subjects is\" , avg)\n",
        "\n",
        "# round the avg mark \n",
        "print(\"rounded Avg marks\", round(avg, 2))"
      ],
      "execution_count": null,
      "outputs": []
    },
    {
      "cell_type": "markdown",
      "metadata": {
        "id": "CefIqtGP81tQ"
      },
      "source": [
        "##Concept of block of Code\n",
        "\n",
        "All code lines written inside a block should have the same indentation.\n"
      ]
    },
    {
      "cell_type": "code",
      "metadata": {
        "id": "ISCYz3FZwCYf"
      },
      "source": [
        "if 1 != 2:\n",
        "  print(\"1 and 2 are same\")\n",
        "  print(\"hi Nidhi\")\n",
        "else:\n",
        "  print(\"1 and 2 are different\")\n",
        "  print(\"hi ravi\")"
      ],
      "execution_count": null,
      "outputs": []
    },
    {
      "cell_type": "code",
      "metadata": {
        "id": "L-v2OcqTol48"
      },
      "source": [
        "# If my avg marks is >= 90 print excellent\n",
        "# else print good.\n",
        "\n",
        "avgmarks = 79.88\n",
        "\n",
        "if avgmarks >= 90 :\n",
        "  print(\"Excellent\")\n",
        "  print(\"U r going great\")\n",
        "else:\n",
        "  print(\"Good grades, try smarter\")\n"
      ],
      "execution_count": null,
      "outputs": []
    },
    {
      "cell_type": "markdown",
      "metadata": {
        "id": "vQC4jP2m6PEp"
      },
      "source": [
        "<u><b>Multi-Line Statements</b></u>\n",
        "\n",
        "Statements in Python typically end with a new line. Python, however, allows the use of the line continuation character (\\) to denote that the line should continue. \n",
        "\n",
        "<font color='green'>For example − </font>\n"
      ]
    },
    {
      "cell_type": "code",
      "metadata": {
        "id": "oYD3rxm36eqC"
      },
      "source": [
        "var_one, var_two, var_three = \"all\", \"the\", \"great\"\n",
        "\n",
        "total = var_one + \\\n",
        "   var_two + \\\n",
        "   var_three\n",
        "\n",
        "total"
      ],
      "execution_count": null,
      "outputs": []
    },
    {
      "cell_type": "code",
      "metadata": {
        "id": "UJHEmM3Yv4_X"
      },
      "source": [
        "print(\"Hi Anirudha\", total)"
      ],
      "execution_count": null,
      "outputs": []
    },
    {
      "cell_type": "code",
      "metadata": {
        "id": "57i4SrdtweX1"
      },
      "source": [
        "print(\"Prasanth Gm\", total)"
      ],
      "execution_count": null,
      "outputs": []
    },
    {
      "cell_type": "markdown",
      "metadata": {
        "id": "kor-Etxo7Jpq"
      },
      "source": [
        "<b><u>Quotation in Python</u></b>\n",
        "\n",
        "Python accepts single ('), double (\") and triple (' ' ' or \" \" \") quotes to denote string literals, as long as the same type of quote starts and ends the string.\n",
        "\n",
        "The triple quotes are used to span the string across multiple lines. \n",
        "\n",
        "<font color='green'>For example, all the following are legal − </font>\n"
      ]
    },
    {
      "cell_type": "code",
      "metadata": {
        "id": "kpvm1W0c7c6s",
        "colab": {
          "base_uri": "https://localhost:8080/"
        },
        "outputId": "f913640f-7d19-4328-d691-d30d2fb118d1"
      },
      "source": [
        "word = 'word'\n",
        "sentence = \"This is a sentence.\"\n",
        "\n",
        "paragraph1 = \"\"\"This is a paragraph. It is \\\n",
        "made up of multiple lines and sentences.\"\"\"\n",
        "\n",
        "paragraph2 = 'This is a paragraph2. It is also \\\n",
        "made up of multiple lines and sentences.'\n",
        "\n",
        "# lets print all the above variables\n",
        "print(word)\n",
        "print(\"---------------------\")\n",
        "print(sentence)\n",
        "print(\"---------------------\")\n",
        "print(paragraph1)\n",
        "print(\"---------------------\")\n",
        "print(paragraph2)\n"
      ],
      "execution_count": null,
      "outputs": [
        {
          "output_type": "stream",
          "text": [
            "word\n",
            "---------------------\n",
            "This is a sentence.\n",
            "---------------------\n",
            "This is a paragraph. It is \n",
            " made up of multiple lines and sentences.\n",
            "---------------------\n",
            "This is a paragraph2. It is also made up of multiple lines and sentences.\n"
          ],
          "name": "stdout"
        }
      ]
    },
    {
      "cell_type": "markdown",
      "metadata": {
        "id": "syH29374BRGa"
      },
      "source": [
        "<b><u>Comments in Python</u></b>\n",
        "\n",
        "A hash sign (#) that is not inside a string literal is the beginning of a comment. All characters after the #, up to the end of the physical line, are part of the comment and the Python interpreter ignores them."
      ]
    },
    {
      "cell_type": "code",
      "metadata": {
        "id": "NEWkn0TbCGOy",
        "colab": {
          "base_uri": "https://localhost:8080/"
        },
        "outputId": "77d3cc95-478d-499a-ac2e-79c52765afb1"
      },
      "source": [
        "# First comment\n",
        "print (\"Hello, Rohan!\") # second comment"
      ],
      "execution_count": null,
      "outputs": [
        {
          "output_type": "stream",
          "text": [
            "Hello, Rohan!\n"
          ],
          "name": "stdout"
        }
      ]
    },
    {
      "cell_type": "markdown",
      "metadata": {
        "id": "aTKy60fXCThJ"
      },
      "source": [
        "<b><u>Getting input from the user</u> : input()</b>\n",
        "\n",
        "The following line of the program displays the prompt asking input from the user.\n"
      ]
    },
    {
      "cell_type": "code",
      "metadata": {
        "id": "WcdPvPjeCel2",
        "colab": {
          "base_uri": "https://localhost:8080/"
        },
        "outputId": "83532cb7-585c-41aa-e2b4-51c22f75432e"
      },
      "source": [
        "# print(\"whats ur age ?\" , end = ' ')\n",
        "\n",
        "firstName = input(\"whats ur name ? \")\n",
        "profession = input(\"whats ur profile like ? \")\n",
        "\n",
        "print(firstName, \"works as\", profession)"
      ],
      "execution_count": null,
      "outputs": [
        {
          "output_type": "stream",
          "text": [
            "whats ur name ? vijaylaxmi\n",
            "whats ur profile like ? finance\n",
            "vijaylaxmi works as finance\n"
          ],
          "name": "stdout"
        }
      ]
    },
    {
      "cell_type": "markdown",
      "metadata": {
        "id": "vZjG9Uh9DWlM"
      },
      "source": [
        "**Using format string when printing o/p :**"
      ]
    },
    {
      "cell_type": "code",
      "metadata": {
        "id": "WLwnIuYl_w2X",
        "colab": {
          "base_uri": "https://localhost:8080/",
          "height": 34
        },
        "outputId": "b8267c04-c5a3-4dfd-f67a-56fff699d27e"
      },
      "source": [
        "my_name = 'Hammad'\n",
        "my_hs = 'Analytics'\n",
        "print(my_name, \" is flying to Canada this Jan 2021 for .. \", my_hs )"
      ],
      "execution_count": null,
      "outputs": [
        {
          "output_type": "stream",
          "text": [
            "Hammad  is flyimng to Canada this Jan 2021 for ..  Analytics\n"
          ],
          "name": "stdout"
        }
      ]
    },
    {
      "cell_type": "code",
      "metadata": {
        "id": "hrc-7MdUC2Zj",
        "colab": {
          "base_uri": "https://localhost:8080/"
        },
        "outputId": "df7350dd-a1a2-4982-f837-f8cd3432c9a4"
      },
      "source": [
        "# using format string -> allows to print the value in a variable \n",
        "my_name = 'Rohan'\n",
        "my_height = '5 ft 8 inches'\n",
        "my_weight = 70\n",
        "\n",
        "print(f\"Let's talk about {my_name}.\")  # Note : You are able to use the variable inside \" \" without breaking the statement.\n",
        "print(f\"He's {my_height} tall.\")\n",
        "print(f\"He's {my_weight} kgs.\")\n",
        "\n",
        "print(\"or we could also print like this , without using formatting\")\n",
        "print(\"Let's talk about\" ,  my_name, \".\")\n",
        "\n",
        "# {var}  => means placeholders\n"
      ],
      "execution_count": null,
      "outputs": [
        {
          "output_type": "stream",
          "text": [
            "Let's talk about Rohan.\n",
            "He's 5 ft 8 inches tall.\n",
            "He's 70 kgs.\n",
            "or we could also print like this , without using formatting\n",
            "Let's talk about Rohan .\n"
          ],
          "name": "stdout"
        }
      ]
    },
    {
      "cell_type": "markdown",
      "metadata": {
        "id": "wQu2E6_24xqZ"
      },
      "source": [
        "<b><u>Python Data-types</u></b>\n",
        "\n",
        "Python has six standard data types −\n",
        "1. Numbers\n",
        "2. String\n",
        "3. Boolean \n",
        "4. List\n",
        "5. Tuple\n",
        "6. Set\n",
        "7. Dictionary\n",
        "\n",
        "<font color='green'><b>List, tuple, set and dict are iterable, i.e we can loop over them. </b></font>\n",
        "\n"
      ]
    },
    {
      "cell_type": "code",
      "metadata": {
        "id": "LOjTDtlP5na5",
        "colab": {
          "base_uri": "https://localhost:8080/"
        },
        "outputId": "e5c40c7c-c2fb-42e2-d213-4faaaaffb08c"
      },
      "source": [
        "#-- Python Numbers : (long)int, float, complex no.  \n",
        "#-- All integers in Python3 are represented as long integers. Hence, there is no separate number type as long.\n",
        "\n",
        "var1 = 1     #long-int\n",
        "var2 = 10.5  #float \n",
        "var3 = 10 + 5j #complex no. \n",
        "\n",
        "print(var1)\n",
        "print(var2)\n",
        "print(var3)"
      ],
      "execution_count": null,
      "outputs": [
        {
          "output_type": "stream",
          "text": [
            "1\n",
            "10.5\n",
            "(10+5j)\n"
          ],
          "name": "stdout"
        }
      ]
    },
    {
      "cell_type": "code",
      "metadata": {
        "id": "k3yAa62F_Uu-",
        "colab": {
          "base_uri": "https://localhost:8080/"
        },
        "outputId": "205ffdf2-91cc-4737-fc76-cdf4335855de"
      },
      "source": [
        "# components of a complex number\n",
        "z = 3 - 4.5j\n",
        "print(z, z.real, z.imag, sep=\"\\n\")"
      ],
      "execution_count": null,
      "outputs": [
        {
          "output_type": "stream",
          "text": [
            "(3.6-4.5j)\n",
            "3.6\n",
            "-4.5\n"
          ],
          "name": "stdout"
        }
      ]
    },
    {
      "cell_type": "code",
      "metadata": {
        "id": "iSKOlNqm5sLB",
        "colab": {
          "base_uri": "https://localhost:8080/"
        },
        "outputId": "ecdea168-c234-4139-f476-ddd61ff7b50f"
      },
      "source": [
        "#--we can delete any number or any object by del\n",
        "var1 = 1     #long-int\n",
        "var2 = 10.5  #float \n",
        "var3 = 10+5j #complex no. \n",
        "\n",
        "print(var1)\n",
        "print(var2)\n",
        "print(var3)\n",
        "\n",
        "del var1\n",
        "del var2, var3\n",
        "\n",
        "#print(var3) #Note the error !!\n"
      ],
      "execution_count": null,
      "outputs": [
        {
          "output_type": "stream",
          "text": [
            "1\n",
            "10.5\n",
            "(10+5j)\n"
          ],
          "name": "stdout"
        }
      ]
    },
    {
      "cell_type": "code",
      "metadata": {
        "id": "tObpB0sw-j1s",
        "colab": {
          "base_uri": "https://localhost:8080/"
        },
        "outputId": "4417d637-439a-4b79-b136-d0b0e31e8867"
      },
      "source": [
        "#### Python Boolean\n",
        "## The two constants True and False are defined.\n",
        "## The usual boolean operators are also available: ==, !=, >, >=, <, <= \n",
        "\n",
        "#a = int(input(\"Enter value of a ?\"))\n",
        "#b = int(input(\"Enter value of b ?\"))\n",
        "#print(a == b - 1, a == b,  a != b,  a < b,  a >= b, sep= '\\n')\n",
        "\n",
        "print(\"Rutuja\",  \"greetings\", sep='\\n')"
      ],
      "execution_count": null,
      "outputs": [
        {
          "output_type": "stream",
          "text": [
            "Rutuja\n",
            "greetings\n"
          ],
          "name": "stdout"
        }
      ]
    },
    {
      "cell_type": "code",
      "metadata": {
        "id": "sElu81aT54bR",
        "colab": {
          "base_uri": "https://localhost:8080/"
        },
        "outputId": "2db5aa0a-c04e-4383-f9f0-581c8a0feaac"
      },
      "source": [
        "#-- Python Strings --\n",
        "str1 = 'Python@Data Folkz'\n",
        "\n",
        "print(str1)   #Prints complete string\n",
        "print(str1[0]) #Prints first character of the string\n",
        "\n",
        "#[m:n]  called slice operator. Will start from mth position and go upto (n-1)th position\n",
        "print(str1[2:7]) #Prints from 2nd to 6th. Remember indexing starts from 0.\n",
        "print(str1[2:])  #Prints from 2nd to last\n",
        "print(str1[:8])  #Prints up-to 7th element\n",
        "print(str1 * 2) #Prints string two times\n",
        "print(str1 + \" Technology\") #Prints concatenated string"
      ],
      "execution_count": null,
      "outputs": [
        {
          "output_type": "stream",
          "text": [
            "Python@Data Folkz\n",
            "P\n",
            "thon@\n",
            "thon@Data Folkz\n",
            "Python@D\n",
            "Python@Data FolkzPython@Data Folkz\n"
          ],
          "name": "stdout"
        }
      ]
    },
    {
      "cell_type": "code",
      "metadata": {
        "id": "FmFLpEJ3zTda",
        "colab": {
          "base_uri": "https://localhost:8080/"
        },
        "outputId": "25433a3e-847e-4291-ce63-4a9c29573350"
      },
      "source": [
        "print(str1[-5 :  ])   # negative indexing, means start from right side\n",
        "\n",
        "print(str1[-5 :  -1])  "
      ],
      "execution_count": null,
      "outputs": [
        {
          "output_type": "stream",
          "text": [
            "Folkz\n",
            "Folk\n"
          ],
          "name": "stdout"
        }
      ]
    },
    {
      "cell_type": "code",
      "metadata": {
        "id": "mkNEIC9N1P5J",
        "colab": {
          "base_uri": "https://localhost:8080/"
        },
        "outputId": "840e178b-cc9f-4b68-89ee-f0cd0e9473fd"
      },
      "source": [
        "print(str1[-6 :  3])   # end index is < start index value\n",
        "## in such cases no o/p"
      ],
      "execution_count": null,
      "outputs": [
        {
          "output_type": "stream",
          "text": [
            "\n"
          ],
          "name": "stdout"
        }
      ]
    },
    {
      "cell_type": "code",
      "metadata": {
        "id": "uVeGVZqt7nvS",
        "colab": {
          "base_uri": "https://localhost:8080/"
        },
        "outputId": "6a34f2aa-b157-4cc5-81ad-6a0ba7f6ffab"
      },
      "source": [
        "#-- Python Lists--> very similar to arrays in C or Java\n",
        "#-- list can hold different types of data values\n",
        "list = [ 'scikit', 123 , 2.23, 'suven', 72+3j ]\n",
        "tinylist = [123, 'Technology']\n",
        "\n",
        "print(list) # prints full list\n",
        "print(list[0]) \n",
        "print(list[1:3])  # from index 1 to (3-1), i.e 2 \n",
        "print(list[2:]) \n",
        "print(tinylist * 2)  # prints list two times\n",
        "print(list + tinylist) # prints concatenated lists"
      ],
      "execution_count": null,
      "outputs": [
        {
          "output_type": "stream",
          "text": [
            "['scikit', 123, 2.23, 'suven', (72+3j)]\n",
            "scikit\n",
            "[123, 2.23]\n",
            "[2.23, 'suven', (72+3j)]\n",
            "[123, 'Technology', 123, 'Technology']\n",
            "['scikit', 123, 2.23, 'suven', (72+3j), 123, 'Technology']\n"
          ],
          "name": "stdout"
        }
      ]
    },
    {
      "cell_type": "code",
      "metadata": {
        "id": "0UhXJ0Qw8Brn",
        "colab": {
          "base_uri": "https://localhost:8080/"
        },
        "outputId": "204a6775-8922-4d49-8c8c-1cf251a502cd"
      },
      "source": [
        "#--applying few functions on the list --\n",
        "few_things = \"Python Java SQL R PHP JavaScript\"\n",
        "\n",
        "stuff = few_things.split(' ')  # splits the single big string into element strings at every space. \n",
        "                               # in simple words , splits the sentence into words.\n",
        "                               # return value of the split() is a list of strings \n",
        "\n",
        "print(stuff[1])\n",
        "\n",
        "print(stuff[-1]) # reads from right to left\n",
        "\n",
        "print(stuff.pop())  # pop means remove the last element from the list\n",
        "\n",
        "# joins the list of strings to form a single large string. \n",
        "print('-'.join(stuff)) # joins using space as a separator \n",
        "\n",
        "print('#'.join(stuff[3 : 5])) # joins using hash as a separator\n"
      ],
      "execution_count": null,
      "outputs": [
        {
          "output_type": "stream",
          "text": [
            "Java\n",
            "JavaScript\n",
            "JavaScript\n",
            "Python-Java-SQL-R-PHP\n",
            "R#PHP\n"
          ],
          "name": "stdout"
        }
      ]
    },
    {
      "cell_type": "code",
      "metadata": {
        "id": "fYpjxMa59uij",
        "colab": {
          "base_uri": "https://localhost:8080/"
        },
        "outputId": "a56125e0-b579-4d63-bf88-4bfd114776bf"
      },
      "source": [
        "#--Python Tuples --> very similar to list\n",
        "tuple = ('scikit', 123 , 2.23, 'suven', 72+3j)\n",
        "tinytuple = (123, 'Technology')\n",
        "\n",
        "print(tuple) \n",
        "print(tuple[0]) \n",
        "\n",
        "print(tuple[ 1 : 3 ]) # from index 1 to (3-1), i.e 2 \n",
        "\n",
        "print(tuple[ 2 : ]) \n",
        "\n",
        "print(tinytuple * 2)  # Prints list two times\n",
        "\n",
        "print(tuple + tinytuple) # Prints concatenated tuples"
      ],
      "execution_count": null,
      "outputs": [
        {
          "output_type": "stream",
          "text": [
            "('scikit', 123, 2.23, 'suven', (72+3j))\n",
            "scikit\n",
            "(123, 2.23)\n",
            "(2.23, 'suven', (72+3j))\n",
            "(123, 'Technology', 123, 'Technology')\n",
            "('scikit', 123, 2.23, 'suven', (72+3j), 123, 'Technology')\n"
          ],
          "name": "stdout"
        }
      ]
    },
    {
      "cell_type": "code",
      "metadata": {
        "id": "lr6E3kkb-slu",
        "colab": {
          "base_uri": "https://localhost:8080/",
          "height": 34
        },
        "outputId": "937ac96d-a185-4c72-b73c-252fc0f96b39"
      },
      "source": [
        "# Their is a little difference between list and tuple.\n",
        "\n",
        "#--Lists    1> uses []  2> can be updated\n",
        "#--tuples   1> uses ()  2> cannot be updated  \n",
        "\n",
        "#-- tuple and list can hold different types of data values\n",
        "tuple = ('scikit', 123 , 2.23, 'suven', 72+3j)\n",
        "list = ['tensor', 456]\n",
        "\n",
        "#-- list can be updated\n",
        "list[0] = \"Google Tensor\"\n",
        "print(list[0])\n",
        "\n",
        "#-- tuple cannot be updated \n",
        "#tuple[0] = \"ML-DL\"    ##-- NOTE THE ERROR !!!!\n",
        "#print(tuple[0])"
      ],
      "execution_count": null,
      "outputs": [
        {
          "output_type": "stream",
          "text": [
            "Google Tensor\n"
          ],
          "name": "stdout"
        }
      ]
    },
    {
      "cell_type": "code",
      "metadata": {
        "id": "Qbj-NNr__Itp",
        "colab": {
          "base_uri": "https://localhost:8080/"
        },
        "outputId": "941df39f-047e-4b04-f6b7-f5e610ee4530"
      },
      "source": [
        "# A set is a collection which is unordered and unindexed. \n",
        "# In Python sets are written with curly brackets.\n",
        "thisset = {\"Rohan\", \"12.34\" , \"12.34\", \"Neural Networks\", \"Deep Learning\", \"Rohan\"}\n",
        "print(thisset)\n",
        "\n",
        "# Change Items\n",
        "# Once a set is created, you cannot change its items, \n",
        "# but you can add new items.\n",
        "\n",
        "# adding a new element\n",
        "thisset.add(\"capstone projects & placements\")\n",
        "print(thisset)\n",
        "\n",
        "# SEE the ERROR. Remember in SET we cannot change any item.\n",
        "# thisset[0] = \"DataFolkz\""
      ],
      "execution_count": null,
      "outputs": [
        {
          "output_type": "stream",
          "text": [
            "{'12.34', 'Neural Networks', 'Rohan', 'Deep Learning'}\n",
            "{'Neural Networks', '12.34', 'Rohan', 'Deep Learning', 'capstone projects & placements'}\n"
          ],
          "name": "stdout"
        }
      ]
    },
    {
      "cell_type": "code",
      "metadata": {
        "id": "SCbSrXou_51h",
        "colab": {
          "base_uri": "https://localhost:8080/"
        },
        "outputId": "fe3f1c0a-b6e8-4630-ba24-68d7552ea049"
      },
      "source": [
        "#-- Python Dictionary : holds key:value pair --\n",
        "#-- enclosed by curly braces { } --\n",
        "#-- elements of dict are not ordered\n",
        "dict = {}\n",
        "dict['campus'] = \"IIT-B\"\n",
        "dict['branch']= \"Economics\"\n",
        "\n",
        "tinydict = {'name':'rohan','code':1234,'dept':'research'}\n",
        "\n",
        "print(dict['campus'])   # only prints the value at the key 'campus'\n",
        "print(dict['branch'])  # only prints the value at the key 'branch'\n",
        "\n",
        "print(tinydict) # elements of dict are never ordered\n",
        "\n",
        "print(tinydict.keys())  # .keys is a predefined method. It prints all the keys\n",
        "\n",
        "print(tinydict.values())  # .values is a predefined method. It prints all the values\n",
        "\n",
        "print(tinydict.items())   # .items is a predefined method. It prints all the key:value pairs"
      ],
      "execution_count": null,
      "outputs": [
        {
          "output_type": "stream",
          "text": [
            "IIT-B\n",
            "Economics\n",
            "{'name': 'rohan', 'code': 1234, 'dept': 'research'}\n",
            "dict_keys(['name', 'code', 'dept'])\n",
            "dict_values(['rohan', 1234, 'research'])\n",
            "dict_items([('name', 'rohan'), ('code', 1234), ('dept', 'research')])\n"
          ],
          "name": "stdout"
        }
      ]
    },
    {
      "cell_type": "code",
      "metadata": {
        "colab": {
          "base_uri": "https://localhost:8080/"
        },
        "id": "3x5Il_CJioyK",
        "outputId": "20ff5dc2-4b59-4f3d-b8ba-0911c7159183"
      },
      "source": [
        "## Create a dict , which holds your basic shopping list information\n",
        "## CustName, numItems, totalBillAmount\n",
        "shoppingList = { \"CustName\" : 'Trupti', \"numItems\": 10, \"totalBillAmount\": 2000 }\n",
        "\n",
        "## Print all keys \n",
        "print(shoppingList.keys())\n",
        "\n",
        "## Print all values \n",
        "print(shoppingList.values())\n",
        "\n",
        "## Print all key:value pairs as tuples\n",
        "print(shoppingList.items())\n",
        "\n",
        "## How do i print a value ?\n",
        "print(shoppingList['CustName'] )\n",
        "\n",
        "## Remember : Don't use numeric indexes like 0,1 for accessing any dict element.   "
      ],
      "execution_count": null,
      "outputs": [
        {
          "output_type": "stream",
          "text": [
            "dict_keys(['CustName', 'numItems', 'totalBillAmount'])\n",
            "dict_values(['Trupti', 10, 2000])\n",
            "dict_items([('CustName', 'Trupti'), ('numItems', 10), ('totalBillAmount', 2000)])\n",
            "Trupti\n"
          ],
          "name": "stdout"
        }
      ]
    },
    {
      "cell_type": "markdown",
      "metadata": {
        "id": "GmuS4jqfBWD3"
      },
      "source": [
        "**Membership & Identity Operators**\n",
        "<hr>\n",
        "\n",
        "<h3><b>in</b> is called the Python Membership Operator</h3>\n",
        "\n",
        "<img src=\"https://drive.google.com/uc?id=1wHpZdcghmgdojZ_O7St-Udw0MHqBdmgG\">\n",
        "\n",
        "<h3><b>is</b> is called the Python Identity Operator</h3>\n",
        "\n",
        "<img src=\"https://drive.google.com/uc?id=1iIZDFuwnJO96eXPR5-iDQVPtz28LK-B_\">"
      ]
    },
    {
      "cell_type": "code",
      "metadata": {
        "id": "wODvpXEFAy1m",
        "colab": {
          "base_uri": "https://localhost:8080/"
        },
        "outputId": "1958dafd-588c-4531-8216-ae8012e3fac2"
      },
      "source": [
        "#--Python Membership Operator--\n",
        "list = [1,2,3,4.5,\"abc\"]\n",
        "var = 1\n",
        "if var in list:\n",
        " print(\"1 is their !!\")\n",
        "else: \n",
        " print(\"1 is not their !!\")\n",
        " \n",
        "var = 'a' \n",
        "if var not in list:\n",
        " print(\"yes\")\n",
        "else: \n",
        " print(\"no\")"
      ],
      "execution_count": null,
      "outputs": [
        {
          "output_type": "stream",
          "text": [
            "1 is their !!\n",
            "yes\n"
          ],
          "name": "stdout"
        }
      ]
    },
    {
      "cell_type": "code",
      "metadata": {
        "id": "YhEXPRW7DrZp",
        "colab": {
          "base_uri": "https://localhost:8080/"
        },
        "outputId": "4353588d-dd40-433c-871a-0138ea97d2f2"
      },
      "source": [
        "#--Python Identity Operators\n",
        "#--Identity operators compare the memory locations of two objects.\n",
        "list_1 = [1,2,3,4.5,\"abc\"]\n",
        "list_2 = list_1              # Imp Concept : only the address of list_1 is copied to list_2.\n",
        "                             # so in simple words, list_1 and list_2 point to the same address space.\n",
        "list_3 = [1,2,3,4.5,\"abc\"]\n",
        "\n",
        "if list_1 is list_2:\n",
        " print(\"list-1 & list-2 are same\")\n",
        "else: \n",
        " print(\"list-1 & list-2 are different\")\n",
        "\n",
        "if list_1 is not list_3:\n",
        " print(\"yes\")\n",
        "else: \n",
        " print(\"no\")"
      ],
      "execution_count": null,
      "outputs": [
        {
          "output_type": "stream",
          "text": [
            "list-1 & list-2 are same\n",
            "yes\n"
          ],
          "name": "stdout"
        }
      ]
    },
    {
      "cell_type": "markdown",
      "metadata": {
        "id": "7ECU53Z4G4nG"
      },
      "source": [
        "**Decision Making Statements**\n",
        "\n",
        "Python programming language assumes any **non-zero** and **non-null** values as **TRUE**, and any zero or null values as FALSE value. \n"
      ]
    },
    {
      "cell_type": "code",
      "metadata": {
        "id": "NXMOe1YlHTgL",
        "colab": {
          "base_uri": "https://localhost:8080/"
        },
        "outputId": "8d2a3fe4-6538-4308-b051-1e2a97c2ae0f"
      },
      "source": [
        "#--- if-elif-else ---- \n",
        "people = 30\n",
        "cars = 40\n",
        "trucks = 15\n",
        "\n",
        "if cars > people:\n",
        " print(\"We should take the cars.\")\n",
        "elif cars < people:\n",
        " print(\"We should not take the cars.\")\n",
        "else:\n",
        " print(\"We can't decide.\")\n",
        "\n",
        "if trucks > cars:\n",
        " print(\"That's too many trucks.\")\n",
        "elif trucks < cars:\n",
        " print(\"Maybe we could take the trucks.\")\n",
        "else:\n",
        " print(\"We still can't decide.\")\n",
        "\n",
        "if people > trucks:\n",
        " print(\"Alright, let's just take the trucks.\")\n",
        "else:\n",
        " print(\"Fine, let's stay home then.\")\n",
        "\n",
        "\n"
      ],
      "execution_count": null,
      "outputs": [
        {
          "output_type": "stream",
          "text": [
            "We should take the cars.\n",
            "Maybe we could take the trucks.\n",
            "Alright, let's just take the trucks.\n"
          ],
          "name": "stdout"
        }
      ]
    },
    {
      "cell_type": "code",
      "metadata": {
        "colab": {
          "base_uri": "https://localhost:8080/"
        },
        "id": "1KGertwasNyY",
        "outputId": "881f1c21-cf10-4bb7-b12b-b5d05b665eb0"
      },
      "source": [
        "c1 = 'e' \n",
        "s2 = 'Umbrella'\n",
        "\n",
        "if  c1 in s2  :\n",
        "  print(\"the char is their\")\n",
        "else :  \n",
        "  print(\"char not their\")"
      ],
      "execution_count": null,
      "outputs": [
        {
          "output_type": "stream",
          "text": [
            "it worked\n"
          ],
          "name": "stdout"
        }
      ]
    },
    {
      "cell_type": "code",
      "metadata": {
        "colab": {
          "base_uri": "https://localhost:8080/"
        },
        "id": "omI5s9Vutybs",
        "outputId": "50417313-b7c1-4fb8-eb3c-c7a2ea2192e1"
      },
      "source": [
        "## The condn expression shd evaluate to True or False\n",
        "## If the expression return None , then its considered as False\n",
        "## On the other hand if the fn returns a notnull value then its considered as True.\n",
        "\n",
        "if 2*0 :\n",
        "  print(\"it worked\")\n",
        "else :  \n",
        "  print(\"it didn't work\")\n",
        "\n",
        "if \"Mani is my friend\" :\n",
        " print(\"--it worked--\")\n",
        "else :  \n",
        "  print(\"--it didn't work--\")\n",
        " "
      ],
      "execution_count": null,
      "outputs": [
        {
          "output_type": "stream",
          "text": [
            "it didn't work\n",
            "--it worked--\n"
          ],
          "name": "stdout"
        }
      ]
    },
    {
      "cell_type": "code",
      "metadata": {
        "colab": {
          "base_uri": "https://localhost:8080/"
        },
        "id": "wsLTbDmsykLx",
        "outputId": "9f6d748e-48a6-458e-b981-031bb74707b5"
      },
      "source": [
        "## We wish to calculate your bonus\n",
        "## if perfomance is A+ , then give 20% bonus ( of CTC )\n",
        "## if perfomance is A , then give 10% bonus ( of CTC )\n",
        "## if perfomance is B , then give 5% bonus ( of CTC )\n",
        "## if perfomance is none of the above grades , then only LOA \n",
        "\n",
        "## ask i/p from the HRM\n",
        "name = 'Rocky Jagtiani'\n",
        "professional = 'Master DS Trainer for CAG , AICTE and Upgrad'\n",
        "salary = 3600000\n",
        "\n",
        "print(\"cal bonus for \", name) \n",
        "grade = input(\"HRM please give grade : \")\n",
        "\n",
        "if grade == 'A+' :\n",
        "  bonus = salary * 0.2\n",
        "  print(\"Congrats , good work , ur bonus for the year is \", bonus)\n",
        "elif grade == 'A' :\n",
        "  bonus = salary * 0.1\n",
        "  print(\"Congrats , good work , ur bonus for the year is \", bonus)\n",
        "elif grade == 'B' :\n",
        "  bonus = salary * 0.05\n",
        "  print(\"Congrats , good work , ur bonus for the year is \", bonus)\n",
        "else : \n",
        "  print(\"please connect to HR\")\n"
      ],
      "execution_count": null,
      "outputs": [
        {
          "output_type": "stream",
          "text": [
            "cal bonus for  Rocky Jagtiani\n",
            "HRM please give grade : C\n",
            "please connect to HR\n"
          ],
          "name": "stdout"
        }
      ]
    },
    {
      "cell_type": "markdown",
      "metadata": {
        "id": "I0vhllNaH_2_"
      },
      "source": [
        "**Loops in Python**\n",
        "\n",
        "In general, statements are executed sequentially − The first statement in a function is executed first, followed by the second, and so on. There may be a situation when you need to execute a block of code several number of times.\n",
        "\n",
        "Their are 3 types of loops :\n",
        "1. while loop\n",
        "2. for loop\n",
        "3. nested loop\n",
        "\n",
        "**`for loop is most used.`**\n"
      ]
    },
    {
      "cell_type": "code",
      "metadata": {
        "id": "7ZiMcLDDJNiS",
        "colab": {
          "base_uri": "https://localhost:8080/",
          "height": 185
        },
        "outputId": "b71b06fa-fb99-4ca6-f7af-8b04133da6b8"
      },
      "source": [
        "## After going through the Seperate Loops NB\n",
        "\n",
        "## Solve this ?\n",
        "\n",
        "#--example of using a List and Looping\n",
        "ten_things = \"Python Java SQL R PHP JavaScript\"\n",
        "\n",
        "print(\"Wait there are not 10 things in that list. Let's fix that.\")\n",
        "\n",
        "stuff = ten_things.split(' ')\n",
        "#print(stuff)\n",
        "more_stuff = [\"ML\", \"DL\", \"PL-SQL\", \"Excel\", \"Tableau\", \"Statistics\"]\n",
        "\n",
        "# len is predefined function which finds no. of elements in the collection. \n",
        "# len works over all collections like list, tuple, set, dictionary \n",
        "\n",
        "while len(stuff) != 10:\n",
        " next_one = more_stuff.pop()\n",
        " print(\"Adding: \", next_one)\n",
        " stuff.append(next_one)\n",
        " print(f\"There are {len(stuff)} items now.\")\n",
        "\n",
        "print(\"There we go: \", stuff)"
      ],
      "execution_count": null,
      "outputs": [
        {
          "output_type": "stream",
          "text": [
            "Wait there are not 10 things in that list. Let's fix that.\n",
            "Adding:  Statistics\n",
            "There are 7 items now.\n",
            "Adding:  Tableau\n",
            "There are 8 items now.\n",
            "Adding:  Excel\n",
            "There are 9 items now.\n",
            "Adding:  PL-SQL\n",
            "There are 10 items now.\n",
            "There we go:  ['Python', 'Java', 'SQL', 'R', 'PHP', 'JavaScript', 'Statistics', 'Tableau', 'Excel', 'PL-SQL']\n"
          ],
          "name": "stdout"
        }
      ]
    },
    {
      "cell_type": "markdown",
      "metadata": {
        "id": "ZmdEORQ-Jsb8"
      },
      "source": [
        "<font color='red'><h3><b>How to install any package or module ?</b></h3></font>\n",
        "\n",
        "Well, lets first understand , in which envirnoment are you learning and practicing Python and other DATA SCIENCE Subjects.\n",
        "\n",
        "**`Envirnoment 1`**: on your local PC. Then you would have to install each and every package you use. Like for example if you plan to run this `Jupyter` Notebook then would need a module called  `Jupyter`. You should install it from your python cmd prompt like this :\n",
        "\n",
        "<img src=\"https://drive.google.com/uc?id=1lb-p1KL1S4VuiRLoQFso3ILGsmqPuTPL\">\n",
        "\n",
        "`Note` : You would see a long list of dependent packages being installed. It would take a minute or more and finally you would see \"packages successfully installed\" \n",
        "\n",
        "**`Envirnoment 2`**: is this very Colab Notebook itself. This is actually the same Jupyter Notebook but on the Google Cloud envirnoment. Here on the Google Colab, most basic packages are installed. But packages for specific applications in Advanced ML or Neural Networks have to be installed. \n",
        "\n",
        "**Lets say you want to install scipy**, _here is the code to_ install it\n",
        "\n",
        "<font color='green'><b>\n",
        "!pip install scipy \n",
        "</b></font>\n",
        "\n",
        "<small><i>copy above one line code and run it in a code cell. </i></small>"
      ]
    },
    {
      "cell_type": "code",
      "metadata": {
        "colab": {
          "base_uri": "https://localhost:8080/"
        },
        "id": "qdrY29g-qWAs",
        "outputId": "91011a47-8c3f-4c11-8c97-8a61f6b95ea0"
      },
      "source": [
        "!pip install scipy"
      ],
      "execution_count": null,
      "outputs": [
        {
          "output_type": "stream",
          "text": [
            "Requirement already satisfied: scipy in /usr/local/lib/python3.6/dist-packages (1.4.1)\n",
            "Requirement already satisfied: numpy>=1.13.3 in /usr/local/lib/python3.6/dist-packages (from scipy) (1.18.5)\n"
          ],
          "name": "stdout"
        }
      ]
    },
    {
      "cell_type": "markdown",
      "metadata": {
        "id": "NFdlpqOKPLCd"
      },
      "source": [
        "<font color='red'><h3><b>How to read a data file into my Colab Notebook ?</b></h3></font>\n",
        "\n",
        "Well, first you need to upload the data file into your Colab. So, we upload it like this : "
      ]
    },
    {
      "cell_type": "code",
      "metadata": {
        "id": "3IG6tAMnP_AZ",
        "colab": {
          "resources": {
            "http://localhost:8080/nbextensions/google.colab/files.js": {
              "data": "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",
              "ok": true,
              "headers": [
                [
                  "content-type",
                  "application/javascript"
                ]
              ],
              "status": 200,
              "status_text": ""
            }
          },
          "base_uri": "https://localhost:8080/",
          "height": 110
        },
        "outputId": "b8ce2ede-6b45-474d-b982-97df86deadbd"
      },
      "source": [
        "# Steps to upload any data file into your Colab notebook. (its very simple !!)\n",
        "# Step 1: Download the dataset to your local PC. For time being you can use this dummy students dataset.\n",
        "#         https://drive.google.com/open?id=1viCNZx1e3Egi7zsh72zwGjrA_W8dcpul \n",
        "# Step 2: Run the below code , select the data file. It would get uploaded to your Colab Notebook.\n",
        "\n",
        "from google.colab import files\n",
        "files.upload()"
      ],
      "execution_count": null,
      "outputs": [
        {
          "output_type": "display_data",
          "data": {
            "text/html": [
              "\n",
              "     <input type=\"file\" id=\"files-3316852e-bc14-43d0-81bc-8786ebcb5ada\" name=\"files[]\" multiple disabled\n",
              "        style=\"border:none\" />\n",
              "     <output id=\"result-3316852e-bc14-43d0-81bc-8786ebcb5ada\">\n",
              "      Upload widget is only available when the cell has been executed in the\n",
              "      current browser session. Please rerun this cell to enable.\n",
              "      </output>\n",
              "      <script src=\"/nbextensions/google.colab/files.js\"></script> "
            ],
            "text/plain": [
              "<IPython.core.display.HTML object>"
            ]
          },
          "metadata": {
            "tags": []
          }
        },
        {
          "output_type": "stream",
          "text": [
            "Saving student_records.csv to student_records (2).csv\n"
          ],
          "name": "stdout"
        },
        {
          "output_type": "execute_result",
          "data": {
            "text/plain": [
              "{'student_records.csv': b'Name,OverallGrade,Obedient,ResearchScore,ProjectScore,Recommend\\nHenry,A,Y,90,85,Yes\\nJohn,C,N,85,51,Yes\\nDavid,F,N,10,17,No\\nHolmes,B,Y,75,71,No\\nMarvin,E,N,20,30,No\\nSimon,A,Y,92,79,Yes\\nRobert,B,Y,60,59,No\\nTrent,C,Y,75,33,No\\n'}"
            ]
          },
          "metadata": {
            "tags": []
          },
          "execution_count": 4
        }
      ]
    },
    {
      "cell_type": "code",
      "metadata": {
        "id": "eZ-N_zYYRDfB",
        "colab": {
          "base_uri": "https://localhost:8080/",
          "height": 284
        },
        "outputId": "ee513189-afc2-4bc4-f97c-cc00e569adf3"
      },
      "source": [
        "# now to read this data file , we would use below code :\n",
        "\n",
        "import pandas as pd\n",
        "\n",
        "df = pd.read_csv(\"student_records.csv\" , low_memory='false')\n",
        "df\n",
        "\n",
        "# ok, now we did here :\n",
        "# first, i imported a build-in package called pandas. I gave it a short name as pd\n",
        "# second, read_csv() allows to read a csv file \n",
        "# return value of read_csv() function is dataframe. Its a 2-dimensional datastructure and looks like excel table.\n",
        "# last, i printed the df , i mean the dataframe.  "
      ],
      "execution_count": null,
      "outputs": [
        {
          "output_type": "execute_result",
          "data": {
            "text/html": [
              "<div>\n",
              "<style scoped>\n",
              "    .dataframe tbody tr th:only-of-type {\n",
              "        vertical-align: middle;\n",
              "    }\n",
              "\n",
              "    .dataframe tbody tr th {\n",
              "        vertical-align: top;\n",
              "    }\n",
              "\n",
              "    .dataframe thead th {\n",
              "        text-align: right;\n",
              "    }\n",
              "</style>\n",
              "<table border=\"1\" class=\"dataframe\">\n",
              "  <thead>\n",
              "    <tr style=\"text-align: right;\">\n",
              "      <th></th>\n",
              "      <th>Name</th>\n",
              "      <th>OverallGrade</th>\n",
              "      <th>Obedient</th>\n",
              "      <th>ResearchScore</th>\n",
              "      <th>ProjectScore</th>\n",
              "      <th>Recommend</th>\n",
              "    </tr>\n",
              "  </thead>\n",
              "  <tbody>\n",
              "    <tr>\n",
              "      <th>0</th>\n",
              "      <td>Henry</td>\n",
              "      <td>A</td>\n",
              "      <td>Y</td>\n",
              "      <td>90</td>\n",
              "      <td>85</td>\n",
              "      <td>Yes</td>\n",
              "    </tr>\n",
              "    <tr>\n",
              "      <th>1</th>\n",
              "      <td>John</td>\n",
              "      <td>C</td>\n",
              "      <td>N</td>\n",
              "      <td>85</td>\n",
              "      <td>51</td>\n",
              "      <td>Yes</td>\n",
              "    </tr>\n",
              "    <tr>\n",
              "      <th>2</th>\n",
              "      <td>David</td>\n",
              "      <td>F</td>\n",
              "      <td>N</td>\n",
              "      <td>10</td>\n",
              "      <td>17</td>\n",
              "      <td>No</td>\n",
              "    </tr>\n",
              "    <tr>\n",
              "      <th>3</th>\n",
              "      <td>Holmes</td>\n",
              "      <td>B</td>\n",
              "      <td>Y</td>\n",
              "      <td>75</td>\n",
              "      <td>71</td>\n",
              "      <td>No</td>\n",
              "    </tr>\n",
              "    <tr>\n",
              "      <th>4</th>\n",
              "      <td>Marvin</td>\n",
              "      <td>E</td>\n",
              "      <td>N</td>\n",
              "      <td>20</td>\n",
              "      <td>30</td>\n",
              "      <td>No</td>\n",
              "    </tr>\n",
              "    <tr>\n",
              "      <th>5</th>\n",
              "      <td>Simon</td>\n",
              "      <td>A</td>\n",
              "      <td>Y</td>\n",
              "      <td>92</td>\n",
              "      <td>79</td>\n",
              "      <td>Yes</td>\n",
              "    </tr>\n",
              "    <tr>\n",
              "      <th>6</th>\n",
              "      <td>Robert</td>\n",
              "      <td>B</td>\n",
              "      <td>Y</td>\n",
              "      <td>60</td>\n",
              "      <td>59</td>\n",
              "      <td>No</td>\n",
              "    </tr>\n",
              "    <tr>\n",
              "      <th>7</th>\n",
              "      <td>Trent</td>\n",
              "      <td>C</td>\n",
              "      <td>Y</td>\n",
              "      <td>75</td>\n",
              "      <td>33</td>\n",
              "      <td>No</td>\n",
              "    </tr>\n",
              "  </tbody>\n",
              "</table>\n",
              "</div>"
            ],
            "text/plain": [
              "     Name OverallGrade Obedient  ResearchScore  ProjectScore Recommend\n",
              "0   Henry            A        Y             90            85       Yes\n",
              "1    John            C        N             85            51       Yes\n",
              "2   David            F        N             10            17        No\n",
              "3  Holmes            B        Y             75            71        No\n",
              "4  Marvin            E        N             20            30        No\n",
              "5   Simon            A        Y             92            79       Yes\n",
              "6  Robert            B        Y             60            59        No\n",
              "7   Trent            C        Y             75            33        No"
            ]
          },
          "metadata": {
            "tags": []
          },
          "execution_count": 5
        }
      ]
    },
    {
      "cell_type": "markdown",
      "metadata": {
        "id": "J_IIORgySudx"
      },
      "source": [
        "<hr />\n",
        "\n",
        "**Connect with the Author** of this Notebook <font color=\"darkgreen\"><b>Rocky Jagtiani</b></font> (https://www.linkedin.com/in/rocky-jagtiani-3b390649/)\n",
        "\n",
        "<hr />\n",
        "\n",
        "<h3><font color='green'>I am sure you enjoyed learning the very basics of python programming.</font></h3> \n",
        "\n",
        "<b>I know you found it easy, because this is easiest part of the Python Language !!</b> \n",
        "\n",
        "In the <b><u>Next</u> chapter</b>, we would recall little more concepts of Python , so that you are ready to apply with me the Python skills in <font color='green'>Data Analytics or ML or AI Problem Solving</font> on <b><u>real</u> datasets</b>.  \n",
        "<hr>\n",
        "\n",
        "Thank you for going through the Notebook. I am sure it was a fruitful learning exprience. \n",
        "\n",
        "\n",
        "\n"
      ]
    }
  ]
}